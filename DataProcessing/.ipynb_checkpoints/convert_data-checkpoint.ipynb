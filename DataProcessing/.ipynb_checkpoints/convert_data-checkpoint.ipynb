{
 "cells": [
  {
   "cell_type": "code",
   "execution_count": 9,
   "metadata": {},
   "outputs": [],
   "source": [
    "import ROOT as r\n",
    "import numpy as np\n",
    "import os\n",
    "import matplotlib.pyplot as plt\n",
    "\n",
    "dataDir = '/mnt/c/users/llave/Documents/CMS/data/'\n",
    "fname1 = 'orig/images_v2_DYJetsM5to50.root'\n",
    "fname2 = 'orig/images_v2_DYJetsM50.root'\n",
    "chain = r.TChain(\"trackImageProducer/tree\")\n",
    "chain.Add(dataDir+fname1)\n",
    "chain.Add(dataDir+fname2)\n",
    "chain.GetEntries()\n",
    "chain.Merge(dataDir+'merged.root')\n",
    "del chain"
   ]
  },
  {
   "cell_type": "code",
   "execution_count": 10,
   "metadata": {},
   "outputs": [],
   "source": [
    "fin = r.TFile(dataDir + 'merged.root')\n",
    "tree = fin.Get('tree')"
   ]
  },
  {
   "cell_type": "code",
   "execution_count": 11,
   "metadata": {},
   "outputs": [
    {
     "name": "stdout",
     "output_type": "stream",
     "text": [
      "1291942\n"
     ]
    },
    {
     "data": {
      "image/png": "[encoded data removed]",
      "text/plain": [
       "<Figure size 432x288 with 1 Axes>"
      ]
     },
     "metadata": {
      "needs_background": "light"
     },
     "output_type": "display_data"
    }
   ],
   "source": [
    "energies = []\n",
    "for event in tree:\n",
    "    \n",
    "    for iTrack in range(len(event.track_eta)):\n",
    "\n",
    "        #truth electrons\n",
    "        if(abs(event.track_genMatchedID[iTrack])!=11): continue\n",
    "\n",
    "        #electron events where the RECO failed \n",
    "        if(event.track_deltaRToClosestElectron[iTrack] < 0.1 and event.track_deltaRToClosestElectron[iTrack] > -0.1): continue\n",
    "            \n",
    "        for iHit in range(len(event.recHits_eta)):\n",
    "            energies.append(event.recHits_energy[iHit])\n",
    "        \n",
    "plt.hist(energies,alpha=0.5,bins=50)\n",
    "plt.yscale('log')\n",
    "print(len(energies))"
   ]
  },
  {
   "cell_type": "code",
   "execution_count": 12,
   "metadata": {},
   "outputs": [
    {
     "data": {
      "text/plain": [
       "(array([2.00000e+01, 0.00000e+00, 0.00000e+00, 0.00000e+00, 0.00000e+00,\n",
       "        0.00000e+00, 8.00000e+00, 2.14726e+05, 2.22860e+04, 2.34430e+04,\n",
       "        2.48630e+04, 2.49700e+04, 3.49370e+04, 5.14630e+04, 4.59410e+04,\n",
       "        4.29890e+04, 3.89810e+04, 3.53470e+04, 3.24100e+04, 2.93200e+04,\n",
       "        2.64620e+04, 2.50690e+04, 2.33350e+04, 2.10670e+04, 2.09610e+04,\n",
       "        2.23380e+04, 2.30230e+04, 2.33030e+04, 2.32270e+04, 2.40230e+04,\n",
       "        2.52260e+04, 2.64570e+04, 2.53580e+04, 2.67240e+04, 2.76090e+04,\n",
       "        2.60940e+04, 2.60620e+04, 2.50730e+04, 2.47010e+04, 2.47850e+04,\n",
       "        2.37170e+04, 2.37560e+04, 2.27140e+04, 2.13710e+04, 1.99030e+04,\n",
       "        1.92150e+04, 1.80590e+04, 1.50720e+04, 9.92400e+03, 5.61000e+03]),\n",
       " array([-0.14344134, -0.12540407, -0.10736679, -0.08932952, -0.07129225,\n",
       "        -0.05325497, -0.0352177 , -0.01718042,  0.00085685,  0.01889413,\n",
       "         0.0369314 ,  0.05496868,  0.07300595,  0.09104323,  0.1090805 ,\n",
       "         0.12711777,  0.14515505,  0.16319232,  0.1812296 ,  0.19926687,\n",
       "         0.21730415,  0.23534142,  0.2533787 ,  0.27141597,  0.28945325,\n",
       "         0.30749052,  0.32552779,  0.34356507,  0.36160234,  0.37963962,\n",
       "         0.39767689,  0.41571417,  0.43375144,  0.45178872,  0.46982599,\n",
       "         0.48786326,  0.50590054,  0.52393781,  0.54197509,  0.56001236,\n",
       "         0.57804964,  0.59608691,  0.61412419,  0.63216146,  0.65019874,\n",
       "         0.66823601,  0.68627328,  0.70431056,  0.72234783,  0.74038511,\n",
       "         0.75842238]),\n",
       " <a list of 50 Patch objects>)"
      ]
     },
     "execution_count": 12,
     "metadata": {},
     "output_type": "execute_result"
    },
    {
     "data": {
      "image/png": "[encoded data removed]",
      "text/plain": [
       "<Figure size 432x288 with 1 Axes>"
      ]
     },
     "metadata": {
      "needs_background": "light"
     },
     "output_type": "display_data"
    }
   ],
   "source": [
    "from sklearn import preprocessing\n",
    "newenergies = np.array(energies)\n",
    "newenergies = newenergies.reshape(-1,1)\n",
    "pt = preprocessing.PowerTransformer(method='yeo-johnson', standardize=False)\n",
    "newenergies = pt.fit_transform(newenergies)\n",
    "plt.hist(newenergies,bins=50)"
   ]
  },
  {
   "cell_type": "code",
   "execution_count": 14,
   "metadata": {
    "scrolled": true
   },
   "outputs": [
    {
     "name": "stdout",
     "output_type": "stream",
     "text": [
      "1162\n"
     ]
    }
   ],
   "source": [
    "import math\n",
    "\n",
    "nevents = 0\n",
    "count = 0\n",
    "e_events,bkg_events = [],[]\n",
    "res_eta = 20\n",
    "res_phi = 20\n",
    "\n",
    "#eta and phi upper and lower bounds\n",
    "eta_ub,eta_lb = 3,-3\n",
    "phi_ub,phi_lb = math.pi,-math.pi\n",
    "\n",
    "def convert_eta(eta):\n",
    "    return int(round(((res_eta-1)/(eta_ub-eta_lb))*(eta-eta_lb)))\n",
    "\n",
    "def convert_phi(phi):\n",
    "    return int(round(((res_phi-1)/(phi_ub-phi_lb))*(phi-phi_lb)))\n",
    "\n",
    "for event in tree:\n",
    "               \n",
    "    matrix = np.zeros([res_eta,res_phi,5])\n",
    "    \n",
    "    for iTrack in range(len(event.track_eta)):\n",
    "        \n",
    "        #truth electrons\n",
    "        if(abs(event.track_genMatchedID[iTrack])!=11): continue\n",
    "\n",
    "        #electron events where the RECO failed \n",
    "        if(event.track_deltaRToClosestElectron[iTrack] < 0.1 and event.track_deltaRToClosestElectron[iTrack] > -0.1): continue\n",
    "            \n",
    "        nevents+=1\n",
    "        \n",
    "        for iHit in range(len(event.recHits_eta)):\n",
    "\n",
    "            dEta = event.track_eta[iTrack] - event.recHits_eta[iHit]\n",
    "            dPhi = event.track_phi[iTrack] - event.recHits_phi[iHit]\n",
    "            # branch cut [-pi, pi)\n",
    "            if abs(dPhi) > math.pi:\n",
    "                dPhi -= round(dPhi / (2. * math.pi)) * 2. * math.pi\n",
    "\n",
    "            if(dPhi > phi_ub or dPhi < phi_lb): continue\n",
    "            if(dEta > eta_ub or dEta < eta_lb): continue\n",
    "\n",
    "            dEta = convert_eta(dEta)\n",
    "            dPhi = convert_phi(dPhi)\n",
    "\n",
    "            #matrix[dEta,dPhi,track.recHits_detType[iHit]] = track.recHits_energy[iHit]\n",
    "            matrix[dEta,dPhi,event.recHits_detType[iHit]] = newenergies[count]\n",
    "            count+=1\n",
    "\n",
    "        \n",
    "        if(abs(event.track_genMatchedDR[iTrack]) < 0.1): e_events.append(matrix)\n",
    "        else: bkg_events.append(matrix)\n",
    "\n",
    "print(nevents)"
   ]
  },
  {
   "cell_type": "code",
   "execution_count": 15,
   "metadata": {},
   "outputs": [
    {
     "name": "stdout",
     "output_type": "stream",
     "text": [
      "98 1064\n"
     ]
    }
   ],
   "source": [
    "print(len(e_events),len(bkg_events))\n",
    "np.save(dataDir+'e_DYJets50V3_norm_20x20', e_events)\n",
    "np.save(dataDir+'bkg_DYJets50V3_norm_20x20', bkg_events)"
   ]
  },
  {
   "cell_type": "code",
   "execution_count": 8,
   "metadata": {
    "scrolled": true
   },
   "outputs": [
    {
     "data": {
      "image/png": "[encoded data removed]",
      "text/plain": [
       "<Figure size 720x720 with 5 Axes>"
      ]
     },
     "metadata": {
      "needs_background": "light"
     },
     "output_type": "display_data"
    }
   ],
   "source": [
    "def plot_event(eventsList, eventNum):\n",
    "    \n",
    "    x = eventsList[eventNum]\n",
    "    \n",
    "    fig, axs = plt.subplots(1,5,figsize=(10,10))\n",
    "    \n",
    "    for i in range(5):\n",
    "        axs[i].imshow(x[i,:,:],cmap='gray')\n",
    "    \n",
    "    axs[0].set_title(\"None\")\n",
    "    axs[1].set_title(\"EB\")\n",
    "    axs[2].set_title(\"EE\")\n",
    "    axs[3].set_title(\"HCAL\")\n",
    "    axs[4].set_title(\"Muon\")\n",
    "    \n",
    "    plt.show()\n",
    "\n",
    "plot_event(bkg_events,11)"
   ]
  },
  {
   "cell_type": "code",
   "execution_count": null,
   "metadata": {},
   "outputs": [],
   "source": []
  }
 ],
 "metadata": {
  "kernelspec": {
   "display_name": "Python 3",
   "language": "python",
   "name": "python3"
  },
  "language_info": {
   "codemirror_mode": {
    "name": "ipython",
    "version": 3
   },
   "file_extension": ".py",
   "mimetype": "text/x-python",
   "name": "python",
   "nbconvert_exporter": "python",
   "pygments_lexer": "ipython3",
   "version": "3.6.9"
  }
 },
 "nbformat": 4,
 "nbformat_minor": 4
}
