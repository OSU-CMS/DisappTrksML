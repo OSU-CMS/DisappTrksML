{
 "cells": [
  {
   "cell_type": "code",
   "execution_count": 3,
   "metadata": {},
   "outputs": [],
   "source": [
    "import ROOT as r\n",
    "import numpy as np\n",
    "import os\n",
    "import matplotlib.pyplot as plt\n",
    "\n",
    "dataDir = '/mnt/c/users/llave/Documents/CMS/data/'\n",
    "fname = 'orig/images_v3_DYJets50.root'\n",
    "fin = r.TFile(dataDir + fname)\n",
    "tree = fin.Get('trackImageProducer/tree')"
   ]
  },
  {
   "cell_type": "code",
   "execution_count": 5,
   "metadata": {
    "scrolled": true
   },
   "outputs": [
    {
     "ename": "KeyboardInterrupt",
     "evalue": "",
     "output_type": "error",
     "traceback": [
      "\u001b[0;31m---------------------------------------------------------------------------\u001b[0m",
      "\u001b[0;31mKeyboardInterrupt\u001b[0m                         Traceback (most recent call last)",
      "\u001b[0;32m<ipython-input-5-25bc2d2d732b>\u001b[0m in \u001b[0;36m<module>\u001b[0;34m\u001b[0m\n\u001b[1;32m     46\u001b[0m         \u001b[0;32mfor\u001b[0m \u001b[0miHit\u001b[0m \u001b[0;32min\u001b[0m \u001b[0mrange\u001b[0m\u001b[0;34m(\u001b[0m\u001b[0mlen\u001b[0m\u001b[0;34m(\u001b[0m\u001b[0mevent\u001b[0m\u001b[0;34m.\u001b[0m\u001b[0mrecHits_eta\u001b[0m\u001b[0;34m)\u001b[0m\u001b[0;34m)\u001b[0m\u001b[0;34m:\u001b[0m\u001b[0;34m\u001b[0m\u001b[0;34m\u001b[0m\u001b[0m\n\u001b[1;32m     47\u001b[0m \u001b[0;34m\u001b[0m\u001b[0m\n\u001b[0;32m---> 48\u001b[0;31m             \u001b[0mdEta\u001b[0m \u001b[0;34m=\u001b[0m \u001b[0mevent\u001b[0m\u001b[0;34m.\u001b[0m\u001b[0mtrack_eta\u001b[0m\u001b[0;34m[\u001b[0m\u001b[0miTrack\u001b[0m\u001b[0;34m]\u001b[0m \u001b[0;34m-\u001b[0m \u001b[0mevent\u001b[0m\u001b[0;34m.\u001b[0m\u001b[0mrecHits_eta\u001b[0m\u001b[0;34m[\u001b[0m\u001b[0miHit\u001b[0m\u001b[0;34m]\u001b[0m\u001b[0;34m\u001b[0m\u001b[0;34m\u001b[0m\u001b[0m\n\u001b[0m\u001b[1;32m     49\u001b[0m             \u001b[0mdPhi\u001b[0m \u001b[0;34m=\u001b[0m \u001b[0mevent\u001b[0m\u001b[0;34m.\u001b[0m\u001b[0mtrack_phi\u001b[0m\u001b[0;34m[\u001b[0m\u001b[0miTrack\u001b[0m\u001b[0;34m]\u001b[0m \u001b[0;34m-\u001b[0m \u001b[0mevent\u001b[0m\u001b[0;34m.\u001b[0m\u001b[0mrecHits_phi\u001b[0m\u001b[0;34m[\u001b[0m\u001b[0miHit\u001b[0m\u001b[0;34m]\u001b[0m\u001b[0;34m\u001b[0m\u001b[0;34m\u001b[0m\u001b[0m\n\u001b[1;32m     50\u001b[0m             \u001b[0;31m# branch cut [-pi, pi)\u001b[0m\u001b[0;34m\u001b[0m\u001b[0;34m\u001b[0m\u001b[0;34m\u001b[0m\u001b[0m\n",
      "\u001b[0;31mKeyboardInterrupt\u001b[0m: "
     ]
    }
   ],
   "source": [
    "import math\n",
    "\n",
    "e_events,bkg_events = [],[]\n",
    "res_eta = 20\n",
    "res_phi = 20\n",
    "\n",
    "#eta and phi upper and lower bounds\n",
    "eta_ub,eta_lb = 3,-3\n",
    "phi_ub,phi_lb = math.pi,-math.pi\n",
    "\n",
    "def convert_eta(eta):\n",
    "    return int(round(((res_eta-1)/(eta_ub-eta_lb))*(eta-eta_lb)))\n",
    "\n",
    "def convert_phi(phi):\n",
    "    return int(round(((res_phi-1)/(phi_ub-phi_lb))*(phi-phi_lb)))\n",
    "\n",
    "#overlap (EE,EB), (CSC,DT,RPC)\n",
    "def type_to_channel(hittype):\n",
    "    #none\n",
    "    if(hittype == 0 ): return 0\n",
    "    #(EE,EB)\n",
    "    if(hittype == 1 or hittype == 2): return 1\n",
    "    #ES\n",
    "    if(hittype == 3): return 2\n",
    "    #HCAL\n",
    "    if(hittype == 4): return 3\n",
    "    #(CSC,DT,RPC)\n",
    "    if(hittype == 5 or hittype ==6 or hittype == 7): return 4\n",
    "\n",
    "for event in tree:\n",
    "               \n",
    "    matrix = np.zeros([res_eta,res_phi,5])\n",
    "    \n",
    "    for iTrack in range(len(event.track_eta)):\n",
    "        \n",
    "        #truth electrons\n",
    "        if(abs(event.track_genMatchedID[iTrack])!=11): continue\n",
    "\n",
    "        #electron events where the RECO failed \n",
    "        if(event.track_deltaRToClosestElectron[iTrack] < 0.15 and event.track_deltaRToClosestElectron[iTrack] > -0.1): continue\n",
    "            \n",
    "        scale = max(event.recHits_energy)\n",
    "        \n",
    "        for iHit in range(len(event.recHits_eta)):\n",
    "\n",
    "            dEta = event.track_eta[iTrack] - event.recHits_eta[iHit]\n",
    "            dPhi = event.track_phi[iTrack] - event.recHits_phi[iHit]\n",
    "            # branch cut [-pi, pi)\n",
    "            if abs(dPhi) > math.pi:\n",
    "                dPhi -= round(dPhi / (2. * math.pi)) * 2. * math.pi\n",
    "\n",
    "            if(dPhi > phi_ub or dPhi < phi_lb): continue\n",
    "            if(dEta > eta_ub or dEta < eta_lb): continue\n",
    "\n",
    "            dEta = convert_eta(dEta)\n",
    "            dPhi = convert_phi(dPhi)\n",
    "            channel = type_to_channel(event.recHits_detType[iHit])\n",
    "            \n",
    "            matrix[dEta,dPhi,channel] = event.recHits_energy[iHit]/scale\n",
    "        \n",
    "        if(abs(event.track_genMatchedDR[iTrack]) < 0.1): e_events.append(matrix)\n",
    "        else: bkg_events.append(matrix)"
   ]
  },
  {
   "cell_type": "code",
   "execution_count": 15,
   "metadata": {},
   "outputs": [
    {
     "name": "stdout",
     "output_type": "stream",
     "text": [
      "98 1064\n"
     ]
    }
   ],
   "source": [
    "print(len(e_events),len(bkg_events))\n",
    "np.save(dataDir+'e_DYJets50V3_norm_20x20', e_events)\n",
    "np.save(dataDir+'bkg_DYJets50V3_norm_20x20', bkg_events)"
   ]
  },
  {
   "cell_type": "code",
   "execution_count": 8,
   "metadata": {
    "scrolled": true
   },
   "outputs": [
    {
     "data": {
      "image/png": "[encoded data removed]",
      "text/plain": [
       "<Figure size 720x720 with 5 Axes>"
      ]
     },
     "metadata": {
      "needs_background": "light"
     },
     "output_type": "display_data"
    }
   ],
   "source": [
    "def plot_event(x):\n",
    "    \n",
    "    fig, axs = plt.subplots(1,5,figsize=(10,10))\n",
    "    \n",
    "    for i in range(5):\n",
    "        axs[i].imshow(x[i,:,:],cmap='gray')\n",
    "    \n",
    "    axs[0].set_title(\"None\")\n",
    "    axs[1].set_title(\"EE - EB\")\n",
    "    axs[2].set_title(\"ES\")\n",
    "    axs[3].set_title(\"HCAL\")\n",
    "    axs[4].set_title(\"CSC - DT - RPC\")\n",
    "    \n",
    "    plt.show()\n",
    "\n",
    "plot_event(e_events[0])"
   ]
  },
  {
   "cell_type": "code",
   "execution_count": null,
   "metadata": {},
   "outputs": [],
   "source": []
  }
 ],
 "metadata": {
  "kernelspec": {
   "display_name": "Python 3",
   "language": "python",
   "name": "python3"
  },
  "language_info": {
   "codemirror_mode": {
    "name": "ipython",
    "version": 3
   },
   "file_extension": ".py",
   "mimetype": "text/x-python",
   "name": "python",
   "nbconvert_exporter": "python",
   "pygments_lexer": "ipython3",
   "version": "3.6.9"
  }
 },
 "nbformat": 4,
 "nbformat_minor": 4
}
