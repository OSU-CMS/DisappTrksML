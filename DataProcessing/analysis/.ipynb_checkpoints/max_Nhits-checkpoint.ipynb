{
 "cells": [
  {
   "cell_type": "code",
   "execution_count": 1,
   "metadata": {},
   "outputs": [
    {
     "name": "stderr",
     "output_type": "stream",
     "text": [
      "Using TensorFlow backend.\n"
     ]
    }
   ],
   "source": [
    "import os\n",
    "import tensorflow as tf\n",
    "from tensorflow import keras\n",
    "import numpy as np\n",
    "import matplotlib\n",
    "import matplotlib.pyplot as plt\n",
    "import json\n",
    "import utils\n",
    "import math\n",
    "\n",
    "dataDir = \"c:/Users/llave/Documents/CMS/data/electron_selection_compressed/\""
   ]
  },
  {
   "cell_type": "code",
   "execution_count": 20,
   "metadata": {},
   "outputs": [
    {
     "name": "stdout",
     "output_type": "stream",
     "text": [
      "e_0p25_1131.npz\n",
      "e_0p25_17.npz\n",
      "e_0p25_2222.npz\n",
      "e_0p25_2893.npz\n",
      "e_0p25_87.npz\n"
     ]
    }
   ],
   "source": [
    "nE=0\n",
    "nE_empty = 0\n",
    "e_max = []\n",
    "for file in os.listdir(dataDir):\n",
    "    if(\"e_0p25\"in file and \".npz\" in file):\n",
    "        \n",
    "        # load images from file\n",
    "        temp = np.load(dataDir+file)\n",
    "        if(len(temp['images'])>0): e_images = temp['images']\n",
    "        \n",
    "        # reshape images\n",
    "        e_images = e_images[:,1:]\n",
    "        if(e_images.shape[1] != 6400):\n",
    "            print(file)\n",
    "            continue\n",
    "        e_images = np.reshape(e_images,(e_images.shape[0],40,40,4))\n",
    "        e_images = e_images[:,:,:,0]\n",
    "        \n",
    "        # store indices for max of each ECAL image\n",
    "        for img in e_images:\n",
    "            tempMax = []\n",
    "            for i in range(3):\n",
    "                if(img.max()==0): \n",
    "                    nE_empty+=1\n",
    "                    break\n",
    "                indices = np.where(img == img.max())\n",
    "                if(len(indices[0]) > 1):\n",
    "                    indices =  np.array([indices[0][0],indices[1][0]])\n",
    "                tempMax.append(indices)\n",
    "                img[indices] = 0\n",
    "            if(len(tempMax)==3): e_max.append(tempMax)\n",
    "       \n",
    "        nE+=e_images.shape[0]"
   ]
  },
  {
   "cell_type": "code",
   "execution_count": 3,
   "metadata": {},
   "outputs": [
    {
     "name": "stdout",
     "output_type": "stream",
     "text": [
      "20\n",
      "40\n",
      "60\n",
      "80\n",
      "100\n"
     ]
    }
   ],
   "source": [
    "nBkg=0\n",
    "nBkg_empty = 0\n",
    "bkg_max = []\n",
    "nSaved = 0\n",
    "for file in os.listdir(dataDir):\n",
    "    if(\"bkg_\"in file and \".npz\" in file):\n",
    "        \n",
    "        # load images from file\n",
    "        temp = np.load(dataDir+file)\n",
    "        if(len(temp['images'])>0): bkg_images = temp['images']\n",
    "            \n",
    "        # reshape images\n",
    "        bkg_images = bkg_images[:,1:]\n",
    "        bkg_images = np.reshape(bkg_images,(bkg_images.shape[0],40,40,4))\n",
    "        bkg_images = bkg_images[:,:,:,0]\n",
    "        \n",
    "        # store indices for max of each ECAL image\n",
    "        for img in bkg_images:\n",
    "            tempMax = []\n",
    "            for i in range(3):\n",
    "                if(img.max() == 0): \n",
    "                    nBkg_empty+=1\n",
    "                    break\n",
    "                indices = np.where(img == img.max())\n",
    "                if(len(indices[0]) > 1):\n",
    "                    indices =  np.array([indices[0][0],indices[1][0]])\n",
    "                tempMax.append(indices)\n",
    "                img[indices] = 0\n",
    "            if(len(tempMax)==3): bkg_max.append(tempMax)\n",
    "        \n",
    "        nBkg+=bkg_images.shape[0]\n",
    "        nSaved+=1\n",
    "        if(nSaved%20==0): print(nSaved)\n",
    "        if(nSaved == 100): break"
   ]
  },
  {
   "cell_type": "code",
   "execution_count": 4,
   "metadata": {},
   "outputs": [],
   "source": [
    "veti = np.arange(0,30)\n",
    "bkg_failVeto, bkg_passVeto = np.zeros(len(veti)), np.zeros(len(veti))\n",
    "e_failVeto, e_passVeto = np.zeros(len(veti)), np.zeros(len(veti))\n",
    "for i,veto in enumerate(veti):\n",
    "    \n",
    "    for img in bkg_max:\n",
    "        failVeto = False\n",
    "        for pixel in img:\n",
    "            if(math.sqrt(pow(pixel[0]-19.5,2)+pow(pixel[1]-19.5,2)) >= veto): \n",
    "                failVeto = True\n",
    "        if(failVeto): bkg_failVeto[i]+=1\n",
    "        else: bkg_passVeto[i] +=1\n",
    "    \n",
    "    for img in e_max:\n",
    "        failVeto = False\n",
    "        for pixel in img:\n",
    "            if(math.sqrt(pow(pixel[0]-19.5,2)+pow(pixel[1]-19.5,2)) >= veto): \n",
    "                failVeto = True\n",
    "        if(failVeto): e_failVeto[i]+=1\n",
    "        else: e_passVeto[i] +=1"
   ]
  },
  {
   "cell_type": "code",
   "execution_count": 21,
   "metadata": {},
   "outputs": [
    {
     "name": "stdout",
     "output_type": "stream",
     "text": [
      "127252 241135 368387\n",
      "17657 137 17794\n"
     ]
    }
   ],
   "source": [
    "print(len(bkg_max), nBkg_empty, nBkg)\n",
    "print(len(e_max), nE_empty, nE)\n",
    "f_bkg_failVeto = bkg_failVeto/len(bkg_max)\n",
    "f_bkg_passVeto = bkg_passVeto/len(bkg_max)\n",
    "f_e_failVeto = e_failVeto/len(e_max)\n",
    "f_e_passVeto = e_passVeto/len(e_max)"
   ]
  },
  {
   "cell_type": "code",
   "execution_count": 22,
   "metadata": {},
   "outputs": [
    {
     "data": {
      "text/plain": [
       "<matplotlib.legend.Legend at 0x1d8a2582d08>"
      ]
     },
     "execution_count": 22,
     "metadata": {},
     "output_type": "execute_result"
    },
    {
     "data": {
      "image/png": "[encoded data removed]",
      "text/plain": [
       "<Figure size 640x400 with 1 Axes>"
      ]
     },
     "metadata": {
      "needs_background": "light"
     },
     "output_type": "display_data"
    }
   ],
   "source": [
    "%matplotlib inline\n",
    "#plt.scatter(veti, bkg_failVeto, label=\"Backgrounds that fail the Veto\")\n",
    "plt.figure(figsize=(8, 5), dpi=80)\n",
    "plt.scatter(veti, f_bkg_passVeto, label=\"Backgrounds\")\n",
    "#plt.scatter(veti, e_failVeto, label=\"Electrons that fail the Veto\")\n",
    "plt.scatter(veti, f_e_passVeto, label=\"Electrons\")\n",
    "plt.title(\"Percentage of events that pass 3 pixel Radius Veto\")\n",
    "plt.xlabel(\"Veto\")\n",
    "plt.ylabel(\"Percentage\")\n",
    "plt.xticks(np.arange(0,30,1))\n",
    "plt.yticks(np.arange(0,1.1,0.1))\n",
    "plt.grid(True)\n",
    "plt.legend()"
   ]
  },
  {
   "cell_type": "code",
   "execution_count": 187,
   "metadata": {},
   "outputs": [
    {
     "name": "stdout",
     "output_type": "stream",
     "text": [
      "0.007024839833651793 125\n",
      "0.015054615428151 266.0\n"
     ]
    }
   ],
   "source": [
    "nTotE = nEMax0 + np.sum(e_max)\n",
    "print(nEMax0*1.0/nTotE, nEMax0)\n",
    "print(f_e_failVeto[20], e_failVeto[20])"
   ]
  },
  {
   "cell_type": "code",
   "execution_count": 188,
   "metadata": {},
   "outputs": [
    {
     "name": "stdout",
     "output_type": "stream",
     "text": [
      "0.1923062085657439 363902\n",
      "0.10190309754691662 155749.0\n"
     ]
    }
   ],
   "source": [
    "nTotBkg = nBkgMax0 + np.sum(bkg_max)\n",
    "print(nBkgMax0*1.0/nTotBkg, nBkgMax0)\n",
    "print(f_bkg_failVeto[20], bkg_failVeto[20])"
   ]
  },
  {
   "cell_type": "code",
   "execution_count": 11,
   "metadata": {},
   "outputs": [],
   "source": [
    "veti = np.arange(0,30)\n",
    "e_passDVeto, e_failDVeto = np.zeros(len(veti)), np.zeros(len(veti))\n",
    "bkg_passDVeto, bkg_failDVeto = np.zeros(len(veti)), np.zeros(len(veti))\n",
    "for i,veto in enumerate(veti):\n",
    "    for img in bkg_max:\n",
    "        failVeto = False\n",
    "        a = math.sqrt(pow(img[0][0]-img[1][0], 2)+pow(img[0][1]-img[1][1],2)) \n",
    "        b = math.sqrt(pow(img[0][0]-img[2][0], 2)+pow(img[0][1]-img[2][1],2)) \n",
    "        c = math.sqrt(pow(img[1][0]-img[2][0], 2)+pow(img[1][1]-img[1][1],2)) \n",
    "        d = np.mean([a,b,c])\n",
    "        \n",
    "        if(d >= veto): bkg_failDVeto[i]+=1\n",
    "        else: bkg_passDVeto[i] +=1\n",
    "            \n",
    "    for img in e_max:\n",
    "        failVeto = False\n",
    "        a = math.sqrt(pow(img[0][0]-img[1][0], 2)+pow(img[0][1]-img[1][1],2)) \n",
    "        b = math.sqrt(pow(img[0][0]-img[2][0], 2)+pow(img[0][1]-img[2][1],2)) \n",
    "        c = math.sqrt(pow(img[1][0]-img[2][0], 2)+pow(img[1][1]-img[1][1],2)) \n",
    "        d = np.mean([a,b,c])\n",
    "        \n",
    "        if(d >= veto): e_failDVeto[i]+=1\n",
    "        else: e_passDVeto[i] +=1"
   ]
  },
  {
   "cell_type": "code",
   "execution_count": 12,
   "metadata": {},
   "outputs": [
    {
     "name": "stdout",
     "output_type": "stream",
     "text": [
      "127252 241135 368387\n",
      "17794 392 17794\n"
     ]
    }
   ],
   "source": [
    "print(len(bkg_max), nBkg_empty, nBkg)\n",
    "print(len(e_max), nE_empty, nE)\n",
    "f_bkg_failDVeto = bkg_failDVeto/len(bkg_max)\n",
    "f_bkg_passDVeto = bkg_passDVeto/len(bkg_max)\n",
    "f_e_failDVeto = e_failDVeto/len(e_max)\n",
    "f_e_passDVeto = e_passDVeto/len(e_max)"
   ]
  },
  {
   "cell_type": "code",
   "execution_count": 13,
   "metadata": {},
   "outputs": [
    {
     "data": {
      "text/plain": [
       "<matplotlib.legend.Legend at 0x1d8b0691d88>"
      ]
     },
     "execution_count": 13,
     "metadata": {},
     "output_type": "execute_result"
    },
    {
     "data": {
      "image/png": "[encoded data removed]",
      "text/plain": [
       "<Figure size 640x400 with 1 Axes>"
      ]
     },
     "metadata": {
      "needs_background": "light"
     },
     "output_type": "display_data"
    }
   ],
   "source": [
    "%matplotlib inline\n",
    "#plt.scatter(veti, bkg_failVeto, label=\"Backgrounds that fail the Veto\")\n",
    "plt.figure(figsize=(8, 5), dpi=80)\n",
    "plt.scatter(veti, f_bkg_passDVeto, label=\"Backgrounds\")\n",
    "#plt.scatter(veti, e_failVeto, label=\"Electrons that fail the Veto\")\n",
    "plt.scatter(veti, f_e_passDVeto, label=\"Electrons\")\n",
    "plt.title(\"Percentage of events that pass Mutual Separation Veto\")\n",
    "plt.xlabel(\"Veto\")\n",
    "plt.ylabel(\"Percentage\")\n",
    "plt.xticks(np.arange(0,30,1))\n",
    "plt.yticks(np.arange(0,1.1,0.1))\n",
    "plt.grid(True)\n",
    "plt.legend()"
   ]
  },
  {
   "cell_type": "code",
   "execution_count": null,
   "metadata": {},
   "outputs": [],
   "source": []
  }
 ],
 "metadata": {
  "kernelspec": {
   "display_name": "Python 3",
   "language": "python",
   "name": "python3"
  },
  "language_info": {
   "codemirror_mode": {
    "name": "ipython",
    "version": 3
   },
   "file_extension": ".py",
   "mimetype": "text/x-python",
   "name": "python",
   "nbconvert_exporter": "python",
   "pygments_lexer": "ipython3",
   "version": "3.7.7"
  }
 },
 "nbformat": 4,
 "nbformat_minor": 4
}
