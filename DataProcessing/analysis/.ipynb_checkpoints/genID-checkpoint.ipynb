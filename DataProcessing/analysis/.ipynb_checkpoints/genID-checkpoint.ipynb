{
 "cells": [
  {
   "cell_type": "code",
   "execution_count": 1,
   "metadata": {},
   "outputs": [],
   "source": [
    "import os\n",
    "import tensorflow as tf\n",
    "from tensorflow import keras\n",
    "import numpy as np\n",
    "import matplotlib\n",
    "import matplotlib.pyplot as plt\n",
    "import json\n",
    "import math\n",
    "\n",
    "dataDir = \"c:/Users/llave/Documents/CMS/data/electron_selection_failAllRecos_compressed/\""
   ]
  },
  {
   "cell_type": "code",
   "execution_count": null,
   "metadata": {},
   "outputs": [
    {
     "name": "stdout",
     "output_type": "stream",
     "text": [
      "500\n",
      "1000\n",
      "1500\n",
      "2000\n"
     ]
    }
   ],
   "source": [
    "ids = []\n",
    "noMatch = 0\n",
    "nFiles = 0\n",
    "genDRs = []\n",
    "for file in os.listdir(dataDir):\n",
    "    if(\"bkg_0p25\"in file and \".npz\" in file):\n",
    "        \n",
    "        # load images from file\n",
    "        temp = np.load(dataDir+file)\n",
    "        if(len(temp['infos'])>0): infos = temp['infos']\n",
    "        \n",
    "        for info in infos:\n",
    "            genID = info[9]\n",
    "            genDR = info[10]\n",
    "            genDRs.append(genDR)\n",
    "            if(abs(genDR)<0.1): ids.append(genID)\n",
    "            else: noMatch+=1\n",
    "                \n",
    "        nFiles+=1\n",
    "        if(nFiles%500==0): print(nFiles)\n",
    "        if(nFiles==1000): break"
   ]
  },
  {
   "cell_type": "code",
   "execution_count": null,
   "metadata": {},
   "outputs": [],
   "source": [
    "%matplotlib inline \n",
    "plt.hist()"
   ]
  },
  {
   "cell_type": "code",
   "execution_count": 47,
   "metadata": {},
   "outputs": [
    {
     "name": "stdout",
     "output_type": "stream",
     "text": [
      "9993 5154145\n"
     ]
    }
   ],
   "source": [
    "print(len(ids),noMatch)"
   ]
  },
  {
   "cell_type": "code",
   "execution_count": 48,
   "metadata": {},
   "outputs": [],
   "source": [
    "ids = [int(x) for x in ids]\n",
    "uniqueIDs = []\n",
    "countIDs = []\n",
    "for ID in ids:\n",
    "    if ID not in uniqueIDs: \n",
    "        uniqueIDs.append(ID)\n",
    "        countIDs.append(0)\n",
    "    countIDs[uniqueIDs.index(ID)]+=1"
   ]
  },
  {
   "cell_type": "code",
   "execution_count": 49,
   "metadata": {},
   "outputs": [
    {
     "name": "stdout",
     "output_type": "stream",
     "text": [
      "ID:\t\tCount:\n",
      "-211\t\t3869\n",
      "211\t\t3882\n",
      "3312\t\t9\n",
      "-13\t\t67\n",
      "22\t\t530\n",
      "-16\t\t354\n",
      "16\t\t329\n",
      "-3312\t\t8\n",
      "13\t\t61\n",
      "-321\t\t288\n",
      "321\t\t287\n",
      "-14\t\t25\n",
      "3222\t\t47\n",
      "2212\t\t40\n",
      "-3222\t\t12\n",
      "2112\t\t8\n",
      "-2212\t\t18\n",
      "3112\t\t21\n",
      "-3112\t\t14\n",
      "-12\t\t31\n",
      "14\t\t22\n",
      "12\t\t46\n",
      "-2112\t\t7\n",
      "3322\t\t2\n",
      "3122\t\t8\n",
      "-3122\t\t5\n",
      "-3334\t\t1\n",
      "3334\t\t1\n",
      "-3322\t\t1\n"
     ]
    }
   ],
   "source": [
    "print(\"ID:\\t\\tCount:\")\n",
    "for ID, count in zip(uniqueIDs, countIDs):\n",
    "    print(str(ID)+\"\\t\\t\"+str(count))"
   ]
  },
  {
   "cell_type": "code",
   "execution_count": 54,
   "metadata": {},
   "outputs": [
    {
     "data": {
      "text/plain": [
       "(array([1.92068e+05, 0.00000e+00, 0.00000e+00, 0.00000e+00, 9.01800e+03,\n",
       "        2.49230e+04, 5.67570e+04, 1.45915e+05, 2.16285e+05, 2.67044e+05,\n",
       "        3.16965e+05, 3.57216e+05, 3.77839e+05, 3.57666e+05, 3.28183e+05,\n",
       "        2.98926e+05, 2.72055e+05, 2.50304e+05, 2.31237e+05, 2.12912e+05,\n",
       "        1.84925e+05, 1.62186e+05, 1.43588e+05, 1.25919e+05, 1.10424e+05,\n",
       "        9.70580e+04, 8.39850e+04, 7.16840e+04, 6.07040e+04, 5.09100e+04,\n",
       "        4.11230e+04, 3.31020e+04, 2.52660e+04, 1.86780e+04, 1.30930e+04,\n",
       "        8.68600e+03, 5.56100e+03, 3.68700e+03, 2.46600e+03, 1.74800e+03,\n",
       "        1.24800e+03, 1.00000e+03, 7.17000e+02, 4.19000e+02, 2.94000e+02,\n",
       "        1.87000e+02, 1.01000e+02, 4.10000e+01, 1.90000e+01, 6.00000e+00]),\n",
       " array([-1.        , -0.79300618, -0.58601235, -0.37901853, -0.17202471,\n",
       "         0.03496912,  0.24196294,  0.44895677,  0.65595059,  0.86294441,\n",
       "         1.06993824,  1.27693206,  1.48392588,  1.69091971,  1.89791353,\n",
       "         2.10490735,  2.31190118,  2.518895  ,  2.72588882,  2.93288265,\n",
       "         3.13987647,  3.3468703 ,  3.55386412,  3.76085794,  3.96785177,\n",
       "         4.17484559,  4.38183941,  4.58883324,  4.79582706,  5.00282088,\n",
       "         5.20981471,  5.41680853,  5.62380235,  5.83079618,  6.03779   ,\n",
       "         6.24478383,  6.45177765,  6.65877147,  6.8657653 ,  7.07275912,\n",
       "         7.27975294,  7.48674677,  7.69374059,  7.90073441,  8.10772824,\n",
       "         8.31472206,  8.52171588,  8.72870971,  8.93570353,  9.14269736,\n",
       "         9.34969118]),\n",
       " <a list of 50 Patch objects>)"
      ]
     },
     "execution_count": 54,
     "metadata": {},
     "output_type": "execute_result"
    },
    {
     "data": {
      "image/png": "[encoded data removed]",
      "text/plain": [
       "<Figure size 432x288 with 1 Axes>"
      ]
     },
     "metadata": {
      "needs_background": "light"
     },
     "output_type": "display_data"
    }
   ],
   "source": [
    "plt.hist(genDRs, bins=50)"
   ]
  },
  {
   "cell_type": "code",
   "execution_count": null,
   "metadata": {},
   "outputs": [],
   "source": []
  }
 ],
 "metadata": {
  "kernelspec": {
   "display_name": "Python 3",
   "language": "python",
   "name": "python3"
  },
  "language_info": {
   "codemirror_mode": {
    "name": "ipython",
    "version": 3
   },
   "file_extension": ".py",
   "mimetype": "text/x-python",
   "name": "python",
   "nbconvert_exporter": "python",
   "pygments_lexer": "ipython3",
   "version": "3.7.7"
  }
 },
 "nbformat": 4,
 "nbformat_minor": 4
}
