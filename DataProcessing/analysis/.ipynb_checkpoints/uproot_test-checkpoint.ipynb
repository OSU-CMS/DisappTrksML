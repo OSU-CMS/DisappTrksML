{
 "cells": [
  {
   "cell_type": "code",
   "execution_count": 1,
   "metadata": {},
   "outputs": [],
   "source": [
    "import uproot\n",
    "import numpy as np\n",
    "import os"
   ]
  },
  {
   "cell_type": "code",
   "execution_count": 47,
   "metadata": {},
   "outputs": [
    {
     "name": "stdout",
     "output_type": "stream",
     "text": [
      "/mnt/c/users/llave/Documents/CMS/data/uproot_test/hist_3995.root <ROOTDirectory b'hist_3995.root' at 0x7f962629c6d0> 0 6239 1\n",
      "[b'tracks', b'recHits', b'nPV']\n",
      "/mnt/c/users/llave/Documents/CMS/data/uproot_test/hist_3996.root <ROOTDirectory b'hist_3996.root' at 0x7f96260cb790> 6239 11013 1\n",
      "[b'tracks', b'recHits', b'nPV']\n"
     ]
    }
   ],
   "source": [
    "dataDir = \"/mnt/c/users/llave/Documents/CMS/data/uproot_test/\"\n",
    "for path, file, start, stop, arrays in uproot.iterate(\n",
    "    dataDir+\"*.root\",\n",
    "    \"trackImageProducer/tree\",\n",
    "    \"tracks\",\n",
    "    reportpath=True, reportfile=True, reportentries=True,\n",
    "    entrysteps = \"100MB\"):\n",
    "    \n",
    "    print(path, file, start, stop, len(arrays))\n",
    "    print(file['trackImageProducer/tree'].keys())"
   ]
  },
  {
   "cell_type": "code",
   "execution_count": null,
   "metadata": {},
   "outputs": [],
   "source": []
  }
 ],
 "metadata": {
  "kernelspec": {
   "display_name": "Python 3",
   "language": "python",
   "name": "python3"
  },
  "language_info": {
   "codemirror_mode": {
    "name": "ipython",
    "version": 3
   },
   "file_extension": ".py",
   "mimetype": "text/x-python",
   "name": "python",
   "nbconvert_exporter": "python",
   "pygments_lexer": "ipython3",
   "version": "3.8.5"
  }
 },
 "nbformat": 4,
 "nbformat_minor": 4
}
