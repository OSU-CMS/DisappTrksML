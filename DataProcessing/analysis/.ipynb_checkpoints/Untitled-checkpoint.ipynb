{
 "cells": [
  {
   "cell_type": "code",
   "execution_count": 2,
   "metadata": {},
   "outputs": [],
   "source": [
    "import os\n",
    "import tensorflow as tf\n",
    "from tensorflow import keras\n",
    "import numpy as np\n",
    "import matplotlib\n",
    "import matplotlib.pyplot as plt\n",
    "import json\n",
    "import math\n",
    "import random\n",
    "\n",
    "dataDir = 'c:/Users/llave/Documents/CMS/plots/'"
   ]
  },
  {
   "cell_type": "code",
   "execution_count": 6,
   "metadata": {},
   "outputs": [],
   "source": [
    "data = np.load(dataDir+'deepSets100_2_p0/outputFiles/etas_phis.npz')\n",
    "etas_FP = data['etas_FP']\n",
    "etas_FN = data['etas_FN']\n",
    "phis_FP = data['phis_FP']\n",
    "phis_FN = data['phis_FN']"
   ]
  },
  {
   "cell_type": "code",
   "execution_count": 42,
   "metadata": {},
   "outputs": [
    {
     "data": {
      "text/plain": [
       "(array([0.52446256, 0.54576053, 0.52712481, 0.52712481, 0.46855539,\n",
       "        0.37271451, 0.44725741, 0.39135024, 0.41264821, 0.37271451,\n",
       "        0.29550936, 0.11980109, 0.        , 0.        , 0.        ,\n",
       "        0.        , 0.        , 0.        , 0.        , 0.        ,\n",
       "        0.23161545, 0.39401248, 0.34609205, 0.33278081, 0.38868799,\n",
       "        0.32745632, 0.27953588, 0.29284712, 0.31680733, 0.2688869 ,\n",
       "        0.21031747, 0.19434399, 0.19434399, 0.1890195 , 0.20233073,\n",
       "        0.18369501, 0.22362871, 0.20765523, 0.1490858 , 0.16772153,\n",
       "        0.14642356, 0.11980109, 0.10116537, 0.        , 0.        ,\n",
       "        0.        , 0.01863573, 0.1490858 , 0.19168175, 0.16772153,\n",
       "        0.21031747, 0.13311233, 0.14109906, 0.01331123, 0.        ,\n",
       "        0.        , 0.        , 0.09584087, 0.10648986, 0.17038378,\n",
       "        0.11181435, 0.15973479, 0.10915211, 0.15973479, 0.15973479,\n",
       "        0.21830421, 0.17570827, 0.19966849, 0.16239704, 0.19700624,\n",
       "        0.18635726, 0.19966849, 0.29284712, 0.38868799, 0.39667473,\n",
       "        0.34076755, 0.39135024, 0.36472777, 0.46323089, 0.21564197,\n",
       "        0.        , 0.        , 0.        , 0.        , 0.        ,\n",
       "        0.        , 0.        , 0.        , 0.13045008, 0.23161545,\n",
       "        0.30882059, 0.27687364, 0.37271451, 0.29817161, 0.3434298 ,\n",
       "        0.38070125, 0.36206552, 0.42329719, 0.52446256, 0.42063495]),\n",
       " array([-2.39960312e+00, -2.35161250e+00, -2.30362187e+00, -2.25563125e+00,\n",
       "        -2.20764062e+00, -2.15965000e+00, -2.11165938e+00, -2.06366875e+00,\n",
       "        -2.01567813e+00, -1.96768750e+00, -1.91969688e+00, -1.87170625e+00,\n",
       "        -1.82371563e+00, -1.77572500e+00, -1.72773438e+00, -1.67974376e+00,\n",
       "        -1.63175313e+00, -1.58376251e+00, -1.53577188e+00, -1.48778126e+00,\n",
       "        -1.43979063e+00, -1.39180001e+00, -1.34380939e+00, -1.29581876e+00,\n",
       "        -1.24782814e+00, -1.19983751e+00, -1.15184689e+00, -1.10385626e+00,\n",
       "        -1.05586564e+00, -1.00787501e+00, -9.59884390e-01, -9.11893766e-01,\n",
       "        -8.63903142e-01, -8.15912517e-01, -7.67921893e-01, -7.19931268e-01,\n",
       "        -6.71940644e-01, -6.23950020e-01, -5.75959395e-01, -5.27968771e-01,\n",
       "        -4.79978146e-01, -4.31987522e-01, -3.83996898e-01, -3.36006273e-01,\n",
       "        -2.88015649e-01, -2.40025024e-01, -1.92034400e-01, -1.44043776e-01,\n",
       "        -9.60531512e-02, -4.80625268e-02, -7.19024372e-05,  4.79187220e-02,\n",
       "         9.59093463e-02,  1.43899971e-01,  1.91890595e-01,  2.39881220e-01,\n",
       "         2.87871844e-01,  3.35862468e-01,  3.83853093e-01,  4.31843717e-01,\n",
       "         4.79834341e-01,  5.27824966e-01,  5.75815590e-01,  6.23806215e-01,\n",
       "         6.71796839e-01,  7.19787463e-01,  7.67778088e-01,  8.15768712e-01,\n",
       "         8.63759337e-01,  9.11749961e-01,  9.59740585e-01,  1.00773121e+00,\n",
       "         1.05572183e+00,  1.10371246e+00,  1.15170308e+00,  1.19969371e+00,\n",
       "         1.24768433e+00,  1.29567496e+00,  1.34366558e+00,  1.39165620e+00,\n",
       "         1.43964683e+00,  1.48763745e+00,  1.53562808e+00,  1.58361870e+00,\n",
       "         1.63160933e+00,  1.67959995e+00,  1.72759058e+00,  1.77558120e+00,\n",
       "         1.82357182e+00,  1.87156245e+00,  1.91955307e+00,  1.96754370e+00,\n",
       "         2.01553432e+00,  2.06352495e+00,  2.11151557e+00,  2.15950620e+00,\n",
       "         2.20749682e+00,  2.25548744e+00,  2.30347807e+00,  2.35146869e+00,\n",
       "         2.39945932e+00]),\n",
       " <a list of 100 Patch objects>)"
      ]
     },
     "execution_count": 42,
     "metadata": {},
     "output_type": "execute_result"
    },
    {
     "data": {
      "image/png": "[encoded data removed]",
      "text/plain": [
       "<Figure size 432x288 with 1 Axes>"
      ]
     },
     "metadata": {
      "needs_background": "light"
     },
     "output_type": "display_data"
    }
   ],
   "source": [
    "a = np.load(\"a.npz\",allow_pickle=True)\n",
    "bins = a['bins']\n",
    "counts = a['counts']\n",
    "plt.hist(bins[:-1], bins, weights=counts)"
   ]
  },
  {
   "cell_type": "code",
   "execution_count": 41,
   "metadata": {},
   "outputs": [
    {
     "data": {
      "text/plain": [
       "<matplotlib.legend.Legend at 0x17e5a5cebc8>"
      ]
     },
     "execution_count": 41,
     "metadata": {},
     "output_type": "execute_result"
    },
    {
     "data": {
      "image/png": "[encoded data removed]",
      "text/plain": [
       "<Figure size 432x288 with 1 Axes>"
      ]
     },
     "metadata": {
      "needs_background": "light"
     },
     "output_type": "display_data"
    }
   ],
   "source": [
    "%matplotlib inline\n",
    "_ = plt.hist(etas_FP,density=True,cumulative=True,bins=100, alpha=0.5, label=\"deepSets\")\n",
    "plt.hist(bins[:-1], bins, weights=counts, alpha = 0.5, label=\"CNN\")\n",
    "plt.legend()"
   ]
  },
  {
   "cell_type": "code",
   "execution_count": 14,
   "metadata": {},
   "outputs": [
    {
     "data": {
      "image/png": "[encoded data removed]",
      "text/plain": [
       "<Figure size 432x288 with 1 Axes>"
      ]
     },
     "metadata": {
      "needs_background": "light"
     },
     "output_type": "display_data"
    }
   ],
   "source": [
    "_ = plt.hist(phis_FP,bins=100)"
   ]
  },
  {
   "cell_type": "code",
   "execution_count": null,
   "metadata": {},
   "outputs": [],
   "source": []
  }
 ],
 "metadata": {
  "kernelspec": {
   "display_name": "Python 3",
   "language": "python",
   "name": "python3"
  },
  "language_info": {
   "codemirror_mode": {
    "name": "ipython",
    "version": 3
   },
   "file_extension": ".py",
   "mimetype": "text/x-python",
   "name": "python",
   "nbconvert_exporter": "python",
   "pygments_lexer": "ipython3",
   "version": "3.7.7"
  }
 },
 "nbformat": 4,
 "nbformat_minor": 4
}
