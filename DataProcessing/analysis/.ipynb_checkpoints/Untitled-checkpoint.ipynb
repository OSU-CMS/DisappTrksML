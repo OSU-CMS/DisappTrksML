{
 "cells": [
  {
   "cell_type": "code",
   "execution_count": 8,
   "metadata": {},
   "outputs": [],
   "source": [
    "import os\n",
    "import tensorflow as tf\n",
    "from tensorflow import keras\n",
    "import numpy as np\n",
    "import matplotlib\n",
    "import matplotlib.pyplot as plt\n",
    "import json\n",
    "import math\n",
    "import random\n",
    "\n",
    "dataDir = 'c:/Users/llave/Documents/CMS/data/'"
   ]
  },
  {
   "cell_type": "code",
   "execution_count": 16,
   "metadata": {},
   "outputs": [
    {
     "name": "stdout",
     "output_type": "stream",
     "text": [
      "<numpy.lib.npyio.NpzFile object at 0x0000028936AE3448>\n"
     ]
    }
   ],
   "source": [
    "imgs = []\n",
    "infos = []\n",
    "nFiles = 0\n",
    "files = [\"images_e_theta_0p25_0.npz\"]\n",
    "for fname in files:\n",
    "    file = np.load(dataDir+fname)\n",
    "\n",
    "    if(len(file['images'])>0): \n",
    "        e_images = file['images']\n",
    "        e_infos = file['infos']\n",
    "\n",
    "    # reshape images\n",
    "    e_images = e_images[:,2:]\n",
    "    try:\n",
    "        e_images = np.reshape(e_images,(e_images.shape[0],40,40,4))\n",
    "    except:\n",
    "        print(file)\n",
    "        continue\n",
    "    e_images = e_images[:,:,:,0]\n",
    "    imgs.append(e_images)\n",
    "    infos.append(e_infos)\n",
    "    nFiles+=1\n",
    "    if(nFiles>=10): break\n",
    "        \n",
    "# imgs = np.vstack(imgs)\n",
    "# infos = np.vstack(infos)"
   ]
  },
  {
   "cell_type": "code",
   "execution_count": 15,
   "metadata": {},
   "outputs": [
    {
     "name": "stdout",
     "output_type": "stream",
     "text": [
      "[]\n"
     ]
    }
   ],
   "source": [
    "print(imgs)"
   ]
  },
  {
   "cell_type": "code",
   "execution_count": null,
   "metadata": {},
   "outputs": [],
   "source": [
    "%matplotlib inline\n",
    "event = 7\n",
    "plt.imshow(imgs[event])\n",
    "infos[event]"
   ]
  }
 ],
 "metadata": {
  "kernelspec": {
   "display_name": "Python 3",
   "language": "python",
   "name": "python3"
  },
  "language_info": {
   "codemirror_mode": {
    "name": "ipython",
    "version": 3
   },
   "file_extension": ".py",
   "mimetype": "text/x-python",
   "name": "python",
   "nbconvert_exporter": "python",
   "pygments_lexer": "ipython3",
   "version": "3.7.7"
  }
 },
 "nbformat": 4,
 "nbformat_minor": 4
}
