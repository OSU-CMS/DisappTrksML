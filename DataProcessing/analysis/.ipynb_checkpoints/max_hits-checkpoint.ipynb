{
 "cells": [
  {
   "cell_type": "code",
   "execution_count": 1,
   "metadata": {},
   "outputs": [],
   "source": [
    "import os\n",
    "import tensorflow as tf\n",
    "from tensorflow import keras\n",
    "import numpy as np\n",
    "import matplotlib\n",
    "import matplotlib.pyplot as plt\n",
    "import json\n",
    "import math\n",
    "\n",
    "dataDir = \"c:/Users/llave/Documents/CMS/data/electron_selection_compressed/\""
   ]
  },
  {
   "cell_type": "code",
   "execution_count": 2,
   "metadata": {},
   "outputs": [
    {
     "name": "stdout",
     "output_type": "stream",
     "text": [
      "e_0p25_1131.npz\n",
      "e_0p25_17.npz\n",
      "e_0p25_2222.npz\n",
      "e_0p25_2893.npz\n",
      "e_0p25_87.npz\n"
     ]
    }
   ],
   "source": [
    "nEMax0 = 0\n",
    "e_max = np.zeros((40,40))\n",
    "maxPixels_e, activityAroundMax_e = [],[]\n",
    "for file in os.listdir(dataDir):\n",
    "    if(\"e_0p25\"in file and \".npz\" in file):\n",
    "        \n",
    "        # load images from file\n",
    "        temp = np.load(dataDir+file)\n",
    "        if(len(temp['images'])>0): e_images = temp['images']\n",
    "        \n",
    "        # reshape images\n",
    "        e_images = e_images[:,1:]\n",
    "        if(e_images.shape[1] != 6400):\n",
    "            print(file)\n",
    "            continue\n",
    "        e_images = np.reshape(e_images,(e_images.shape[0],40,40,4))\n",
    "        e_images = e_images[:,:,:,0]\n",
    "        \n",
    "        # store indices for max of each ECAL image\n",
    "        for img in e_images:\n",
    "            if(img.max()!=0): \n",
    "                indices = np.where(img == img.max())\n",
    "                e_max[indices]+=1\n",
    "                \n",
    "                maxPixels_e.append(img.max())\n",
    "                temp = 0\n",
    "                for i in range(indices[0][0]-5,indices[0][0]+5+1):\n",
    "                    for j in range(indices[1][0]-5,indices[1][0]+5+1):\n",
    "                        if(i > 39 or j > 39): continue\n",
    "                        if(i==indices[0] and j==indices[1]): continue\n",
    "                        temp+=img[i,j]\n",
    "                activityAroundMax_e.append(temp)\n",
    "                    \n",
    "            else:\n",
    "                nEMax0+=1"
   ]
  },
  {
   "cell_type": "code",
   "execution_count": 95,
   "metadata": {},
   "outputs": [
    {
     "name": "stdout",
     "output_type": "stream",
     "text": [
      "Number of max=0 events: 125\n",
      "Number of events in image: 17669.0\n"
     ]
    },
    {
     "data": {
      "text/plain": [
       "<matplotlib.image.AxesImage at 0x20480a83f08>"
      ]
     },
     "execution_count": 95,
     "metadata": {},
     "output_type": "execute_result"
    },
    {
     "data": {
      "image/png": "[encoded data removed]",
      "text/plain": [
       "<Figure size 432x288 with 1 Axes>"
      ]
     },
     "metadata": {
      "needs_background": "light"
     },
     "output_type": "display_data"
    }
   ],
   "source": [
    "%matplotlib inline\n",
    "print(\"Number of max=0 events:\",nEMax0)\n",
    "print(\"Number of events in image:\",np.sum(e_max))\n",
    "plt.imshow(e_max,cmap='gray')"
   ]
  },
  {
   "cell_type": "code",
   "execution_count": 3,
   "metadata": {},
   "outputs": [],
   "source": [
    "nSaved = 0\n",
    "nBkgMax0 = 0\n",
    "bkg_max = np.zeros((40,40))\n",
    "maxPixels_bkg, activityAroundMax_bkg = [],[]\n",
    "for file in os.listdir(dataDir):\n",
    "    if(\"bkg_\"in file and \".npz\" in file):\n",
    "        \n",
    "        # load images from file\n",
    "        temp = np.load(dataDir+file)\n",
    "        if(len(temp['images'])>0): bkg_images = temp['images']\n",
    "            \n",
    "        # reshape images\n",
    "        bkg_images = bkg_images[:,1:]\n",
    "        bkg_images = np.reshape(bkg_images,(bkg_images.shape[0],40,40,4))\n",
    "        bkg_images = bkg_images[:,:,:,0]\n",
    "        \n",
    "        # store indices for max of each ECAL image\n",
    "        for img in bkg_images:\n",
    "            if(img.max()!=0): \n",
    "                indices = np.where(img == img.max())\n",
    "                bkg_max[indices]+=1\n",
    "                \n",
    "                maxPixels_bkg.append(img.max())\n",
    "                temp = 0\n",
    "                for i in range(indices[0][0]-5,indices[0][0]+5+1):\n",
    "                    for j in range(indices[1][0]-5,indices[1][0]+5+1):\n",
    "                        if(i > 39 or j > 39): continue\n",
    "                        if(i==indices[0] and j==indices[1]): continue\n",
    "                        temp+=img[i,j]\n",
    "                activityAroundMax_bkg.append(temp)\n",
    "            \n",
    "            else:\n",
    "                nBkgMax0+=1\n",
    "        \n",
    "        nSaved += 1\n",
    "        if(nSaved == 500): break"
   ]
  },
  {
   "cell_type": "code",
   "execution_count": 63,
   "metadata": {},
   "outputs": [
    {
     "name": "stdout",
     "output_type": "stream",
     "text": [
      "Number of max=0 events: 363902\n",
      "Number of events in image: 1528403.0\n"
     ]
    },
    {
     "data": {
      "text/plain": [
       "<matplotlib.image.AxesImage at 0x204807b4748>"
      ]
     },
     "execution_count": 63,
     "metadata": {},
     "output_type": "execute_result"
    },
    {
     "data": {
      "image/png": "[encoded data removed]",
      "text/plain": [
       "<Figure size 432x288 with 1 Axes>"
      ]
     },
     "metadata": {
      "needs_background": "light"
     },
     "output_type": "display_data"
    }
   ],
   "source": [
    "%matplotlib inline\n",
    "print(\"Number of max=0 events:\",nBkgMax0)\n",
    "print(\"Number of events in image:\",np.sum(bkg_max))\n",
    "plt.imshow(bkg_max,cmap='gray')"
   ]
  },
  {
   "cell_type": "code",
   "execution_count": 197,
   "metadata": {},
   "outputs": [],
   "source": [
    "veti,bkg_failVeto,bkg_passVeto=[],[],[]\n",
    "e_failVeto,e_passVeto=[],[]\n",
    "for i,veto in enumerate(np.arange(0,30)):\n",
    "    tempFail, tempPass = 0,0\n",
    "    for iRow, row in enumerate(bkg_max):\n",
    "        for iCol,pixel in enumerate(row):\n",
    "            if(math.sqrt(pow(iRow-19.5,2)+pow(iCol-19.5,2)) < veto):\n",
    "                tempPass+=pixel\n",
    "            else:\n",
    "                tempFail+=pixel\n",
    "    veti.append(veto)\n",
    "    bkg_failVeto.append(tempFail)\n",
    "    bkg_passVeto.append(tempPass)\n",
    "    \n",
    "    tempFail, tempPass = 0,0\n",
    "    for iRow, row in enumerate(e_max):\n",
    "        for iCol,pixel in enumerate(row):\n",
    "            if(math.sqrt(pow(iRow-19.5,2)+pow(iCol-19.5,2)) < veto):\n",
    "                tempPass+=pixel\n",
    "            else:\n",
    "                tempFail+=pixel\n",
    "    e_failVeto.append(tempFail)\n",
    "    e_passVeto.append(tempPass)"
   ]
  },
  {
   "cell_type": "code",
   "execution_count": 218,
   "metadata": {},
   "outputs": [],
   "source": [
    "np.save(\"e_max\",e_max)\n",
    "np.save(\"bkg_max\",bkg_max)"
   ]
  },
  {
   "cell_type": "code",
   "execution_count": 200,
   "metadata": {},
   "outputs": [
    {
     "ename": "NameError",
     "evalue": "name 'f_bkg_dist' is not defined",
     "output_type": "error",
     "traceback": [
      "\u001b[1;31m---------------------------------------------------------------------------\u001b[0m",
      "\u001b[1;31mNameError\u001b[0m                                 Traceback (most recent call last)",
      "\u001b[1;32m<ipython-input-200-88ed1d3aa2ee>\u001b[0m in \u001b[0;36m<module>\u001b[1;34m\u001b[0m\n\u001b[0;32m      5\u001b[0m \u001b[1;33m\u001b[0m\u001b[0m\n\u001b[0;32m      6\u001b[0m \u001b[1;32mfor\u001b[0m \u001b[0mi\u001b[0m \u001b[1;32min\u001b[0m \u001b[0mrange\u001b[0m\u001b[1;33m(\u001b[0m\u001b[0mlen\u001b[0m\u001b[1;33m(\u001b[0m\u001b[0mf_bkg_passVeto\u001b[0m\u001b[1;33m)\u001b[0m\u001b[1;33m)\u001b[0m\u001b[1;33m:\u001b[0m\u001b[1;33m\u001b[0m\u001b[1;33m\u001b[0m\u001b[0m\n\u001b[1;32m----> 7\u001b[1;33m     \u001b[1;32mif\u001b[0m\u001b[1;33m(\u001b[0m\u001b[0mi\u001b[0m\u001b[1;33m==\u001b[0m\u001b[1;36m0\u001b[0m\u001b[1;33m)\u001b[0m\u001b[1;33m:\u001b[0m \u001b[0mf_bkg_dist\u001b[0m\u001b[1;33m.\u001b[0m\u001b[0mappend\u001b[0m\u001b[1;33m(\u001b[0m\u001b[0mf_bkg_passveto\u001b[0m\u001b[1;33m)\u001b[0m\u001b[1;33m\u001b[0m\u001b[1;33m\u001b[0m\u001b[0m\n\u001b[0m\u001b[0;32m      8\u001b[0m     \u001b[1;32melse\u001b[0m\u001b[1;33m:\u001b[0m\u001b[1;33m\u001b[0m\u001b[1;33m\u001b[0m\u001b[0m\n\u001b[0;32m      9\u001b[0m         \u001b[0mprev\u001b[0m \u001b[1;33m=\u001b[0m \u001b[0mf_bkg_passVeto\u001b[0m\u001b[1;33m[\u001b[0m\u001b[0mi\u001b[0m\u001b[1;33m-\u001b[0m\u001b[1;36m1\u001b[0m\u001b[1;33m]\u001b[0m\u001b[1;33m\u001b[0m\u001b[1;33m\u001b[0m\u001b[0m\n",
      "\u001b[1;31mNameError\u001b[0m: name 'f_bkg_dist' is not defined"
     ]
    }
   ],
   "source": [
    "f_bkg_failVeto = bkg_failVeto/np.sum(bkg_max)\n",
    "f_bkg_passVeto = bkg_passVeto/np.sum(bkg_max)\n",
    "f_e_failVeto = e_failVeto/np.sum(e_max)\n",
    "f_e_passVeto = e_passVeto/np.sum(e_max)"
   ]
  },
  {
   "cell_type": "code",
   "execution_count": 199,
   "metadata": {},
   "outputs": [
    {
     "data": {
      "text/plain": [
       "<matplotlib.legend.Legend at 0x20483ef0a08>"
      ]
     },
     "execution_count": 199,
     "metadata": {},
     "output_type": "execute_result"
    },
    {
     "data": {
      "image/png": "[encoded data removed]",
      "text/plain": [
       "<Figure size 640x400 with 1 Axes>"
      ]
     },
     "metadata": {
      "needs_background": "light"
     },
     "output_type": "display_data"
    }
   ],
   "source": [
    "#plt.scatter(veti, bkg_failVeto, label=\"Backgrounds that fail the Veto\")\n",
    "plt.figure(figsize=(8, 5), dpi=80)\n",
    "plt.scatter(veti, f_bkg_passVeto, label=\"Backgrounds\")\n",
    "#plt.scatter(veti, e_failVeto, label=\"Electrons that fail the Veto\")\n",
    "plt.scatter(veti, f_e_passVeto, label=\"Electrons\")\n",
    "plt.title(\"Percentage of events that pass Radius Veto\")\n",
    "plt.xlabel(\"Veto\")\n",
    "plt.ylabel(\"Percentage\")\n",
    "plt.xticks(np.arange(0,30,1))\n",
    "plt.yticks(np.arange(0,1.1,0.1))\n",
    "plt.grid(True)\n",
    "plt.legend()"
   ]
  },
  {
   "cell_type": "code",
   "execution_count": 187,
   "metadata": {},
   "outputs": [
    {
     "name": "stdout",
     "output_type": "stream",
     "text": [
      "0.007024839833651793 125\n",
      "0.015054615428151 266.0\n"
     ]
    }
   ],
   "source": [
    "nTotE = nEMax0 + np.sum(e_max)\n",
    "print(nEMax0*1.0/nTotE, nEMax0)\n",
    "print(f_e_failVeto[20], e_failVeto[20])"
   ]
  },
  {
   "cell_type": "code",
   "execution_count": 188,
   "metadata": {},
   "outputs": [
    {
     "name": "stdout",
     "output_type": "stream",
     "text": [
      "0.1923062085657439 363902\n",
      "0.10190309754691662 155749.0\n"
     ]
    }
   ],
   "source": [
    "nTotBkg = nBkgMax0 + np.sum(bkg_max)\n",
    "print(nBkgMax0*1.0/nTotBkg, nBkgMax0)\n",
    "print(f_bkg_failVeto[20], bkg_failVeto[20])"
   ]
  },
  {
   "cell_type": "code",
   "execution_count": 213,
   "metadata": {},
   "outputs": [],
   "source": [
    "f_bkg_dist = []\n",
    "for i in range(len(f_bkg_passVeto)):\n",
    "    if(i==0): f_bkg_dist.append(f_bkg_passVeto[i])\n",
    "    else:\n",
    "        prev = f_bkg_passVeto[i-1]\n",
    "        curr = f_bkg_passVeto[i]\n",
    "        f_bkg_dist.append(curr-prev)\n",
    "f_e_dist = []\n",
    "for i in range(len(f_e_passVeto)):\n",
    "    if(i==0): f_e_dist.append(f_e_passVeto[i])\n",
    "    else:\n",
    "        prev = f_e_passVeto[i-1]\n",
    "        curr = f_e_passVeto[i]\n",
    "        f_e_dist.append(curr-prev)"
   ]
  },
  {
   "cell_type": "code",
   "execution_count": 217,
   "metadata": {},
   "outputs": [
    {
     "data": {
      "text/plain": [
       "<matplotlib.legend.Legend at 0x20487750308>"
      ]
     },
     "execution_count": 217,
     "metadata": {},
     "output_type": "execute_result"
    },
    {
     "data": {
      "image/png": "[encoded data removed]",
      "text/plain": [
       "<Figure size 640x400 with 1 Axes>"
      ]
     },
     "metadata": {
      "needs_background": "light"
     },
     "output_type": "display_data"
    }
   ],
   "source": [
    "#plt.scatter(veti, bkg_failVeto, label=\"Backgrounds that fail the Veto\")\n",
    "plt.figure(figsize=(8, 5), dpi=80)\n",
    "plt.scatter(veti, f_bkg_dist, label=\"Backgrounds\")\n",
    "#plt.scatter(veti, e_failVeto, label=\"Electrons that fail the Veto\")\n",
    "plt.scatter(veti, f_e_dist, label=\"Electrons\")\n",
    "plt.title(\"Distance of Events from Center\")\n",
    "plt.xlabel(\"Distance\")\n",
    "plt.ylabel(\"Percentage\")\n",
    "plt.xticks(np.arange(0,30,1))\n",
    "plt.yticks(np.arange(0,0.4,0.05))\n",
    "plt.grid(True)\n",
    "plt.legend()"
   ]
  },
  {
   "cell_type": "code",
   "execution_count": 19,
   "metadata": {},
   "outputs": [
    {
     "data": {
      "image/png": "[encoded data removed]",
      "text/plain": [
       "<Figure size 432x288 with 1 Axes>"
      ]
     },
     "metadata": {
      "needs_background": "light"
     },
     "output_type": "display_data"
    }
   ],
   "source": [
    "plt.hist(maxPixels_e, alpha=0.5, label=\"Electrons\", bins=100)\n",
    "plt.hist(maxPixels_bkg, alpha=0.5, label=\"Background\", bins=100)\n",
    "plt.title(\"Energy of Largest Pixel\")\n",
    "plt.ylabel(\"Occurrence\")\n",
    "plt.xlabel(\"Energy\")\n",
    "plt.yscale('log')\n",
    "plt.legend()\n",
    "plt.show()"
   ]
  },
  {
   "cell_type": "code",
   "execution_count": 20,
   "metadata": {},
   "outputs": [],
   "source": [
    "maxveti = [0,1,3,5,7,10,15,20,30,40,50,70,90,100]\n",
    "bkg_failMaxVeto,bkg_passMaxVeto=np.zeros(len(maxveti)), np.zeros(len(maxveti))\n",
    "e_failMaxVeto,e_passMaxVeto=np.zeros(len(maxveti)), np.zeros(len(maxveti))\n",
    "for i,veto in enumerate(maxveti):\n",
    "\n",
    "    for event in maxPixels_e: \n",
    "        if(event < veto): bkg_passMaxVeto[i]+=1\n",
    "        else: bkg_failMaxVeto[i]+=1\n",
    "            \n",
    "    for event in maxPixels_e: \n",
    "        if(event < veto): e_passMaxVeto[i]+=1\n",
    "        else: e_failMaxVeto[i]+=1"
   ]
  },
  {
   "cell_type": "code",
   "execution_count": null,
   "metadata": {},
   "outputs": [],
   "source": [
    "f_bkg_failVeto = bkg_failVeto/len(centerEnergy_bkg)\n",
    "f_bkg_passVeto = bkg_passVeto/len(centerEnergy_bkg)\n",
    "f_e_failVeto = e_failVeto/len(centerEnergy_e)\n",
    "f_e_passVeto = e_passVeto/len(centerEnergy_e)\n",
    "\n",
    "plt.figure(figsize=(8, 5), dpi=80)\n",
    "plt.scatter(veti, f_e_passVeto, label=\"Electrons\")\n",
    "plt.scatter(veti, f_bkg_passVeto, label=\"Background\")\n",
    "plt.title(\"Activity Around Center of Image\")\n",
    "plt.ylabel(\"Percentage of Events Passing Veto\")\n",
    "plt.xlabel(\"Veto (Energy)\")\n",
    "plt.grid()\n",
    "plt.legend()\n",
    "plt.show()"
   ]
  },
  {
   "cell_type": "code",
   "execution_count": 15,
   "metadata": {},
   "outputs": [
    {
     "data": {
      "image/png": "[encoded data removed]",
      "text/plain": [
       "<Figure size 432x288 with 1 Axes>"
      ]
     },
     "metadata": {
      "needs_background": "light"
     },
     "output_type": "display_data"
    }
   ],
   "source": [
    "plt.hist(activityAroundMax_e, alpha=0.5, label=\"Electrons\",bins=100)\n",
    "plt.hist(activityAroundMax_bkg, alpha=0.5, label=\"Background\",bins=100)\n",
    "plt.title(\"Activity Around Energy of Largest Pixel\")\n",
    "plt.ylabel(\"Occurrence\")\n",
    "plt.xlabel(\"Energy\")\n",
    "plt.yscale('log')\n",
    "plt.legend()\n",
    "plt.show()"
   ]
  },
  {
   "cell_type": "code",
   "execution_count": null,
   "metadata": {},
   "outputs": [],
   "source": []
  }
 ],
 "metadata": {
  "kernelspec": {
   "display_name": "Python 3",
   "language": "python",
   "name": "python3"
  },
  "language_info": {
   "codemirror_mode": {
    "name": "ipython",
    "version": 3
   },
   "file_extension": ".py",
   "mimetype": "text/x-python",
   "name": "python",
   "nbconvert_exporter": "python",
   "pygments_lexer": "ipython3",
   "version": "3.7.7"
  }
 },
 "nbformat": 4,
 "nbformat_minor": 4
}
