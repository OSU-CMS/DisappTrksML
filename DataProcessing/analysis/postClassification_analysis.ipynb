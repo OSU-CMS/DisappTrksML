{
 "cells": [
  {
   "cell_type": "code",
   "execution_count": 60,
   "metadata": {},
   "outputs": [],
   "source": [
    "import os\n",
    "import tensorflow as tf\n",
    "from tensorflow import keras\n",
    "import numpy as np\n",
    "import matplotlib\n",
    "import matplotlib.pyplot as plt\n",
    "import json\n",
    "import math\n",
    "import random\n",
    "\n",
    "dataDir = 'c:/Users/llave/Documents/CMS/data/electron_selection_failSelection_compressed/'"
   ]
  },
  {
   "cell_type": "code",
   "execution_count": 93,
   "metadata": {},
   "outputs": [
    {
     "name": "stdout",
     "output_type": "stream",
     "text": [
      "(6017, 4)\n",
      "(5950, 4) (67, 4)\n"
     ]
    }
   ],
   "source": [
    "resultsDir = \"c:/Users/llave/Desktop/failSelection_p0/\"\n",
    "indices = np.load(resultsDir+\"outputFiles/falseEventsE.npy\",allow_pickle=True)\n",
    "indices = np.reshape(indices,(int(indices.shape[0]/4),4))\n",
    "print(indices.shape)\n",
    "false_indices = np.array([x for x in indices if x[3]<=0.5])\n",
    "true_indices = np.array([x for x in indices if x[3]>0.5])\n",
    "print(true_indices.shape, false_indices.shape)"
   ]
  },
  {
   "cell_type": "code",
   "execution_count": 94,
   "metadata": {},
   "outputs": [],
   "source": [
    "%matplotlib inline\n",
    "etas, phis = [],[]\n",
    "muonRecos, tauRecos = [],[]\n",
    "for event in true_indices:\n",
    "    fileNum = int(event[0])\n",
    "    eventNum = int(event[1])\n",
    "    label = event[2]\n",
    "    pred = event[3]\n",
    "            \n",
    "    infos = np.load(dataDir+'e_0p25_{0}.npz'.format(str(fileNum)))['infos']\n",
    "    for info in infos:\n",
    "        if(int(info[1]) == eventNum):\n",
    "            etas.append(info[7])\n",
    "            phis.append(info[8])\n",
    "            muonRecos.append(info[5])\n",
    "            tauRecos.append(info[6])"
   ]
  },
  {
   "cell_type": "code",
   "execution_count": 111,
   "metadata": {},
   "outputs": [
    {
     "data": {
      "text/plain": [
       "(array([[0.00033613, 0.        , 0.        , ..., 0.        , 0.00016807,\n",
       "         0.00033613],\n",
       "        [0.00016807, 0.        , 0.00016807, ..., 0.        , 0.00016807,\n",
       "         0.        ],\n",
       "        [0.00016807, 0.        , 0.        , ..., 0.        , 0.00016807,\n",
       "         0.0005042 ],\n",
       "        ...,\n",
       "        [0.00016807, 0.        , 0.        , ..., 0.        , 0.00016807,\n",
       "         0.        ],\n",
       "        [0.        , 0.0005042 , 0.00016807, ..., 0.        , 0.00033613,\n",
       "         0.00016807],\n",
       "        [0.        , 0.        , 0.00016807, ..., 0.        , 0.00016807,\n",
       "         0.        ]]),\n",
       " array([-2.39903978e+00, -2.33049591e+00, -2.26195204e+00, -2.19340817e+00,\n",
       "        -2.12486429e+00, -2.05632042e+00, -1.98777655e+00, -1.91923267e+00,\n",
       "        -1.85068880e+00, -1.78214493e+00, -1.71360106e+00, -1.64505718e+00,\n",
       "        -1.57651331e+00, -1.50796944e+00, -1.43942557e+00, -1.37088169e+00,\n",
       "        -1.30233782e+00, -1.23379395e+00, -1.16525008e+00, -1.09670620e+00,\n",
       "        -1.02816233e+00, -9.59618459e-01, -8.91074586e-01, -8.22530714e-01,\n",
       "        -7.53986841e-01, -6.85442969e-01, -6.16899096e-01, -5.48355223e-01,\n",
       "        -4.79811351e-01, -4.11267478e-01, -3.42723606e-01, -2.74179733e-01,\n",
       "        -2.05635860e-01, -1.37091988e-01, -6.85481153e-02, -4.24274299e-06,\n",
       "         6.85396298e-02,  1.37083502e-01,  2.05627375e-01,  2.74171248e-01,\n",
       "         3.42715120e-01,  4.11258993e-01,  4.79802865e-01,  5.48346738e-01,\n",
       "         6.16890610e-01,  6.85434483e-01,  7.53978356e-01,  8.22522228e-01,\n",
       "         8.91066101e-01,  9.59609973e-01,  1.02815385e+00,  1.09669772e+00,\n",
       "         1.16524159e+00,  1.23378546e+00,  1.30232934e+00,  1.37087321e+00,\n",
       "         1.43941708e+00,  1.50796095e+00,  1.57650483e+00,  1.64504870e+00,\n",
       "         1.71359257e+00,  1.78213644e+00,  1.85068032e+00,  1.91922419e+00,\n",
       "         1.98776806e+00,  2.05631193e+00,  2.12485581e+00,  2.19339968e+00,\n",
       "         2.26194355e+00,  2.33048742e+00,  2.39903130e+00]),\n",
       " array([-3.14154703e+00, -3.05178820e+00, -2.96202937e+00, -2.87227054e+00,\n",
       "        -2.78251171e+00, -2.69275288e+00, -2.60299405e+00, -2.51323522e+00,\n",
       "        -2.42347639e+00, -2.33371756e+00, -2.24395873e+00, -2.15419990e+00,\n",
       "        -2.06444107e+00, -1.97468224e+00, -1.88492341e+00, -1.79516458e+00,\n",
       "        -1.70540575e+00, -1.61564692e+00, -1.52588810e+00, -1.43612927e+00,\n",
       "        -1.34637044e+00, -1.25661161e+00, -1.16685278e+00, -1.07709395e+00,\n",
       "        -9.87335117e-01, -8.97576288e-01, -8.07817458e-01, -7.18058629e-01,\n",
       "        -6.28299799e-01, -5.38540969e-01, -4.48782140e-01, -3.59023310e-01,\n",
       "        -2.69264480e-01, -1.79505651e-01, -8.97468213e-02,  1.20083520e-05,\n",
       "         8.97708380e-02,  1.79529668e-01,  2.69288497e-01,  3.59047327e-01,\n",
       "         4.48806156e-01,  5.38564986e-01,  6.28323816e-01,  7.18082645e-01,\n",
       "         8.07841475e-01,  8.97600305e-01,  9.87359134e-01,  1.07711796e+00,\n",
       "         1.16687679e+00,  1.25663562e+00,  1.34639445e+00,  1.43615328e+00,\n",
       "         1.52591211e+00,  1.61567094e+00,  1.70542977e+00,  1.79518860e+00,\n",
       "         1.88494743e+00,  1.97470626e+00,  2.06446509e+00,  2.15422392e+00,\n",
       "         2.24398275e+00,  2.33374158e+00,  2.42350041e+00,  2.51325924e+00,\n",
       "         2.60301807e+00,  2.69277690e+00,  2.78253573e+00,  2.87229456e+00,\n",
       "         2.96205339e+00,  3.05181222e+00,  3.14157104e+00]),\n",
       " <matplotlib.collections.QuadMesh at 0x1c722f09d08>)"
      ]
     },
     "execution_count": 111,
     "metadata": {},
     "output_type": "execute_result"
    },
    {
     "data": {
      "image/png": "[encoded data removed]",
      "text/plain": [
       "<Figure size 360x360 with 1 Axes>"
      ]
     },
     "metadata": {
      "needs_background": "light"
     },
     "output_type": "display_data"
    }
   ],
   "source": [
    "plt.figure(figsize=(5,5))\n",
    "plt.xlabel(\"eta\")\n",
    "plt.ylabel(\"phi\")\n",
    "weights = np.array([1.0/len(true_indices)]*len(phis))\n",
    "plt.hist2d(etas,phis,weights=weights,bins=70)"
   ]
  },
  {
   "cell_type": "code",
   "execution_count": 106,
   "metadata": {},
   "outputs": [
    {
     "name": "stdout",
     "output_type": "stream",
     "text": [
      "663 0.11142857142857143\n",
      "202 0.03394957983193277\n"
     ]
    }
   ],
   "source": [
    "nPassTauReco = len([x for x in tauRecos if math.fabs(x)<0.15])\n",
    "nPassMuonReco = len([x for x in muonRecos if math.fabs(x)<0.15])\n",
    "print(nPassTauReco,nPassTauReco*1.0/len(false_indices))\n",
    "print(nPassMuonReco,nPassMuonReco*1.0/len(false_indices))"
   ]
  },
  {
   "cell_type": "code",
   "execution_count": 89,
   "metadata": {},
   "outputs": [
    {
     "data": {
      "text/plain": [
       "(array([120., 144., 154., 151., 107.,  87., 182., 162., 119.,  41.,  34.,\n",
       "         20.,   0.,   0.,   0.,   0.,   0.,   0.,   0.,   0.,  62.,  81.,\n",
       "        146., 130., 118., 145.,  69.,  64.,  37.,  61., 127., 111.,  87.,\n",
       "        105., 123.,  65.,  57.,  43.,  54.,  68.,  60.,  49.,  45.,   0.,\n",
       "          0.,   0.,  15.,  90.,  89., 104.,  89.,  68.,  76.,   7.,   0.,\n",
       "          0.,   0.,  30.,  36.,  49.,  47.,  39.,  40.,  59.,  47.,  51.,\n",
       "         66.,  53., 118., 142., 105., 106.,  98., 124.,  55., 111., 167.,\n",
       "        121.,  83., 129.,   0.,   0.,   0.,   0.,   0.,   0.,   0.,   0.,\n",
       "         27.,  33.,  28.,  29.,  24.,  30.,  18.,  23.,  16.,  27.,  26.,\n",
       "         27.]),\n",
       " array([-2.39903978e+00, -2.35105907e+00, -2.30307836e+00, -2.25509765e+00,\n",
       "        -2.20711694e+00, -2.15913623e+00, -2.11115552e+00, -2.06317481e+00,\n",
       "        -2.01519410e+00, -1.96721339e+00, -1.91923267e+00, -1.87125196e+00,\n",
       "        -1.82327125e+00, -1.77529054e+00, -1.72730983e+00, -1.67932912e+00,\n",
       "        -1.63134841e+00, -1.58336770e+00, -1.53538699e+00, -1.48740628e+00,\n",
       "        -1.43942557e+00, -1.39144486e+00, -1.34346415e+00, -1.29548343e+00,\n",
       "        -1.24750272e+00, -1.19952201e+00, -1.15154130e+00, -1.10356059e+00,\n",
       "        -1.05557988e+00, -1.00759917e+00, -9.59618459e-01, -9.11637748e-01,\n",
       "        -8.63657037e-01, -8.15676326e-01, -7.67695616e-01, -7.19714905e-01,\n",
       "        -6.71734194e-01, -6.23753483e-01, -5.75772772e-01, -5.27792062e-01,\n",
       "        -4.79811351e-01, -4.31830640e-01, -3.83849929e-01, -3.35869218e-01,\n",
       "        -2.87888508e-01, -2.39907797e-01, -1.91927086e-01, -1.43946375e-01,\n",
       "        -9.59656644e-02, -4.79849535e-02, -4.24274299e-06,  4.79764681e-02,\n",
       "         9.59571789e-02,  1.43937890e-01,  1.91918600e-01,  2.39899311e-01,\n",
       "         2.87880022e-01,  3.35860733e-01,  3.83841444e-01,  4.31822154e-01,\n",
       "         4.79802865e-01,  5.27783576e-01,  5.75764287e-01,  6.23744998e-01,\n",
       "         6.71725709e-01,  7.19706419e-01,  7.67687130e-01,  8.15667841e-01,\n",
       "         8.63648552e-01,  9.11629263e-01,  9.59609973e-01,  1.00759068e+00,\n",
       "         1.05557139e+00,  1.10355211e+00,  1.15153282e+00,  1.19951353e+00,\n",
       "         1.24749424e+00,  1.29547495e+00,  1.34345566e+00,  1.39143637e+00,\n",
       "         1.43941708e+00,  1.48739779e+00,  1.53537850e+00,  1.58335921e+00,\n",
       "         1.63133992e+00,  1.67932064e+00,  1.72730135e+00,  1.77528206e+00,\n",
       "         1.82326277e+00,  1.87124348e+00,  1.91922419e+00,  1.96720490e+00,\n",
       "         2.01518561e+00,  2.06316632e+00,  2.11114703e+00,  2.15912774e+00,\n",
       "         2.20710845e+00,  2.25508917e+00,  2.30306988e+00,  2.35105059e+00,\n",
       "         2.39903130e+00]),\n",
       " <a list of 100 Patch objects>)"
      ]
     },
     "execution_count": 89,
     "metadata": {},
     "output_type": "execute_result"
    },
    {
     "data": {
      "image/png": "[encoded data removed]",
      "text/plain": [
       "<Figure size 432x288 with 1 Axes>"
      ]
     },
     "metadata": {
      "needs_background": "light"
     },
     "output_type": "display_data"
    }
   ],
   "source": [
    "plt.hist(etas,bins=100)"
   ]
  },
  {
   "cell_type": "code",
   "execution_count": 90,
   "metadata": {},
   "outputs": [
    {
     "data": {
      "text/plain": [
       "(array([148.,  90.,  43.,  38.,  25.,  33.,  31.,  96.,  74., 152., 251.,\n",
       "        127.,  22.,  27.,  76.,  45.,  47.,  57.,  32.,  40.,  30.,  26.,\n",
       "         60.,  63.,  36., 197., 185., 182., 107.,  31., 107., 146.,  39.,\n",
       "         19.,  36.,  31.,  24.,  38.,  53.,  34.,  25.,  57., 134.,  40.,\n",
       "         24.,  34.,  54.,  62.,  28.,  27.,  29.,  42.,  33.,  36.,  34.,\n",
       "         38.,  31.,  30.,  50.,  64., 140.,  77.,  54.,  30.,  83.,  48.,\n",
       "         28.,  28.,  17.,  26.,  18.,  28.,  25.,  28.,  19.,  40.,  74.,\n",
       "        100.,  86.,  56.,  44.,  46., 107.,  54.,  29.,  34.,  28.,  23.,\n",
       "         24.,  34.,  31.,  29.,  42.,  94., 111.,  90.,  61., 105.,  95.,\n",
       "         94.]),\n",
       " array([-3.14154703e+00, -3.07871585e+00, -3.01588467e+00, -2.95305349e+00,\n",
       "        -2.89022231e+00, -2.82739112e+00, -2.76455994e+00, -2.70172876e+00,\n",
       "        -2.63889758e+00, -2.57606640e+00, -2.51323522e+00, -2.45040404e+00,\n",
       "        -2.38757286e+00, -2.32474168e+00, -2.26191050e+00, -2.19907932e+00,\n",
       "        -2.13624814e+00, -2.07341696e+00, -2.01058578e+00, -1.94775459e+00,\n",
       "        -1.88492341e+00, -1.82209223e+00, -1.75926105e+00, -1.69642987e+00,\n",
       "        -1.63359869e+00, -1.57076751e+00, -1.50793633e+00, -1.44510515e+00,\n",
       "        -1.38227397e+00, -1.31944279e+00, -1.25661161e+00, -1.19378043e+00,\n",
       "        -1.13094924e+00, -1.06811806e+00, -1.00528688e+00, -9.42455703e-01,\n",
       "        -8.79624522e-01, -8.16793341e-01, -7.53962160e-01, -6.91130980e-01,\n",
       "        -6.28299799e-01, -5.65468618e-01, -5.02637437e-01, -4.39806257e-01,\n",
       "        -3.76975076e-01, -3.14143895e-01, -2.51312715e-01, -1.88481534e-01,\n",
       "        -1.25650353e-01, -6.28191724e-02,  1.20083520e-05,  6.28431891e-02,\n",
       "         1.25674370e-01,  1.88505551e-01,  2.51336731e-01,  3.14167912e-01,\n",
       "         3.76999093e-01,  4.39830273e-01,  5.02661454e-01,  5.65492635e-01,\n",
       "         6.28323816e-01,  6.91154996e-01,  7.53986177e-01,  8.16817358e-01,\n",
       "         8.79648539e-01,  9.42479719e-01,  1.00531090e+00,  1.06814208e+00,\n",
       "         1.13097326e+00,  1.19380444e+00,  1.25663562e+00,  1.31946680e+00,\n",
       "         1.38229798e+00,  1.44512917e+00,  1.50796035e+00,  1.57079153e+00,\n",
       "         1.63362271e+00,  1.69645389e+00,  1.75928507e+00,  1.82211625e+00,\n",
       "         1.88494743e+00,  1.94777861e+00,  2.01060979e+00,  2.07344097e+00,\n",
       "         2.13627215e+00,  2.19910333e+00,  2.26193451e+00,  2.32476570e+00,\n",
       "         2.38759688e+00,  2.45042806e+00,  2.51325924e+00,  2.57609042e+00,\n",
       "         2.63892160e+00,  2.70175278e+00,  2.76458396e+00,  2.82741514e+00,\n",
       "         2.89024632e+00,  2.95307750e+00,  3.01590868e+00,  3.07873986e+00,\n",
       "         3.14157104e+00]),\n",
       " <a list of 100 Patch objects>)"
      ]
     },
     "execution_count": 90,
     "metadata": {},
     "output_type": "execute_result"
    },
    {
     "data": {
      "image/png": "[encoded data removed]",
      "text/plain": [
       "<Figure size 432x288 with 1 Axes>"
      ]
     },
     "metadata": {
      "needs_background": "light"
     },
     "output_type": "display_data"
    }
   ],
   "source": [
    "plt.hist(phis,bins=100)"
   ]
  },
  {
   "cell_type": "code",
   "execution_count": 56,
   "metadata": {},
   "outputs": [],
   "source": []
  },
  {
   "cell_type": "code",
   "execution_count": 43,
   "metadata": {},
   "outputs": [
    {
     "name": "stdout",
     "output_type": "stream",
     "text": [
      "(60, 40, 40)\n"
     ]
    }
   ],
   "source": [
    "print(imgs.shape)"
   ]
  },
  {
   "cell_type": "code",
   "execution_count": 79,
   "metadata": {},
   "outputs": [
    {
     "data": {
      "text/plain": [
       "array([ 0.00000000e+00,  1.37100000e+03,  1.00000000e+00,  2.90000000e+01,\n",
       "        9.84930456e-01,  9.99552416e-01,  2.02837159e-02, -1.41497438e+00,\n",
       "       -6.41077357e-01,  1.10000000e+01,  2.70350378e-04])"
      ]
     },
     "execution_count": 79,
     "metadata": {},
     "output_type": "execute_result"
    },
    {
     "data": {
      "image/png": "[encoded data removed]",
      "text/plain": [
       "<Figure size 432x288 with 1 Axes>"
      ]
     },
     "metadata": {
      "needs_background": "light"
     },
     "output_type": "display_data"
    }
   ],
   "source": []
  },
  {
   "cell_type": "code",
   "execution_count": null,
   "metadata": {},
   "outputs": [],
   "source": []
  }
 ],
 "metadata": {
  "kernelspec": {
   "display_name": "Python 3",
   "language": "python",
   "name": "python3"
  },
  "language_info": {
   "codemirror_mode": {
    "name": "ipython",
    "version": 3
   },
   "file_extension": ".py",
   "mimetype": "text/x-python",
   "name": "python",
   "nbconvert_exporter": "python",
   "pygments_lexer": "ipython3",
   "version": "3.7.7"
  }
 },
 "nbformat": 4,
 "nbformat_minor": 4
}
