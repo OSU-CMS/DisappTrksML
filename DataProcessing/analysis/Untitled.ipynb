{
 "cells": [
  {
   "cell_type": "code",
   "execution_count": 1,
   "metadata": {},
   "outputs": [],
   "source": [
    "import os\n",
    "import tensorflow as tf\n",
    "from tensorflow import keras\n",
    "import numpy as np\n",
    "import matplotlib\n",
    "import matplotlib.pyplot as plt\n",
    "import json\n",
    "import math\n",
    "import random\n",
    "\n",
    "dataDir = 'c:/Users/llave/Documents/CMS/data/'"
   ]
  },
  {
   "cell_type": "code",
   "execution_count": 72,
   "metadata": {},
   "outputs": [],
   "source": [
    "imgs = []\n",
    "fname = \"images_bkg_0p25_0.npz\"\n",
    "imgs = np.load(dataDir+fname)['images']\n",
    "infos = np.load(dataDir+fname)['infos']"
   ]
  },
  {
   "cell_type": "code",
   "execution_count": 73,
   "metadata": {},
   "outputs": [],
   "source": [
    "reco_e = []\n",
    "failreco_e = []\n",
    "for img, info in zip(imgs, infos):\n",
    "    if(info[4]<0.15):\n",
    "        reco_e.append(img)\n",
    "    elif(info[4]>=0.15):\n",
    "        failreco_e.append(img)\n",
    "reco_e = np.vstack(reco_e)\n",
    "reco_e = np.reshape(reco_e[:,1:],(reco_e.shape[0],40,40,4))\n",
    "failreco_e = np.vstack(failreco_e)\n",
    "failreco_e = np.reshape(failreco_e[:,1:],(failreco_e.shape[0],40,40,4))"
   ]
  },
  {
   "cell_type": "code",
   "execution_count": 105,
   "metadata": {},
   "outputs": [
    {
     "data": {
      "text/plain": [
       "Text(0.5, 1.0, 'Muon')"
      ]
     },
     "execution_count": 105,
     "metadata": {},
     "output_type": "execute_result"
    },
    {
     "data": {
      "image/png": "[encoded data removed]",
      "text/plain": [
       "<Figure size 1440x1440 with 4 Axes>"
      ]
     },
     "metadata": {
      "needs_background": "light"
     },
     "output_type": "display_data"
    }
   ],
   "source": [
    "%matplotlib inline\n",
    "\n",
    "fig, axs = plt.subplots(1,4,figsize=(20,20))\n",
    "event = failreco_e[22,:,:,:]\n",
    "event_img = np.zeros((40,40,4))\n",
    "for i,row in enumerate(event):\n",
    "    for j,col in enumerate(row):\n",
    "        for k,pixel in enumerate(col):\n",
    "            if(pixel > 0): event_img[i,j,k] = np.log(pixel+1)\n",
    "    \n",
    "for i in range(4):\n",
    "    axs[i].imshow(event_img[:,:,i],cmap='jet')\n",
    "\n",
    "axs[0].set_title(\"ECAL\")\n",
    "axs[1].set_title(\"ES\")\n",
    "axs[2].set_title(\"HCAL\")\n",
    "axs[3].set_title(\"Muon\")"
   ]
  },
  {
   "cell_type": "code",
   "execution_count": 149,
   "metadata": {},
   "outputs": [
    {
     "data": {
      "text/plain": [
       "<matplotlib.collections.PathCollection at 0x19fa300c208>"
      ]
     },
     "execution_count": 149,
     "metadata": {},
     "output_type": "execute_result"
    },
    {
     "data": {
      "image/png": "[encoded data removed]",
      "text/plain": [
       "<Figure size 432x288 with 1 Axes>"
      ]
     },
     "metadata": {
      "needs_background": "light"
     },
     "output_type": "display_data"
    }
   ],
   "source": [
    "img = mutual[0,:,:,0]\n",
    "phitot = np.sum(img,axis=0)\n",
    "img = mutual_theta[0,:,:,0]\n",
    "phitot2 = np.sum(img,axis=0)\n",
    "plt.scatter(np.arange(40),phitot,alpha=0.5)\n",
    "plt.scatter(np.arange(40),phitot2,alpha=0.5)"
   ]
  },
  {
   "cell_type": "code",
   "execution_count": null,
   "metadata": {},
   "outputs": [],
   "source": []
  }
 ],
 "metadata": {
  "kernelspec": {
   "display_name": "Python 3",
   "language": "python",
   "name": "python3"
  },
  "language_info": {
   "codemirror_mode": {
    "name": "ipython",
    "version": 3
   },
   "file_extension": ".py",
   "mimetype": "text/x-python",
   "name": "python",
   "nbconvert_exporter": "python",
   "pygments_lexer": "ipython3",
   "version": "3.7.7"
  }
 },
 "nbformat": 4,
 "nbformat_minor": 4
}
