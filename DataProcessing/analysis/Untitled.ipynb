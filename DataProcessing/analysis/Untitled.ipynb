{
 "cells": [
  {
   "cell_type": "code",
   "execution_count": 119,
   "metadata": {},
   "outputs": [],
   "source": [
    "import os\n",
    "import tensorflow as tf\n",
    "from tensorflow import keras\n",
    "import numpy as np\n",
    "import matplotlib\n",
    "import matplotlib.pyplot as plt\n",
    "import json\n",
    "import math\n",
    "import random\n",
    "\n",
    "dataDir = 'c:/Users/llave/Documents/CMS/data/'"
   ]
  },
  {
   "cell_type": "code",
   "execution_count": 120,
   "metadata": {},
   "outputs": [],
   "source": [
    "imgs, imgs_theta = [], []\n",
    "\n",
    "fname_theta = \"images_e_t_0p25_0.npz\"\n",
    "fname =  \"images_e_0p25_0.npz\"\n",
    "\n",
    "imgs.append(np.load(dataDir+fname)['images'])\n",
    "imgs_theta.append(np.load(dataDir+fname_theta)['images'])\n",
    "\n",
    "imgs = np.vstack(imgs)\n",
    "imgs_theta = np.vstack(imgs_theta)"
   ]
  },
  {
   "cell_type": "code",
   "execution_count": 121,
   "metadata": {},
   "outputs": [
    {
     "name": "stdout",
     "output_type": "stream",
     "text": [
      "(1084, 6401) (332, 6401)\n"
     ]
    }
   ],
   "source": [
    "print(imgs.shape, imgs_theta.shape)"
   ]
  },
  {
   "cell_type": "code",
   "execution_count": 122,
   "metadata": {},
   "outputs": [
    {
     "name": "stdout",
     "output_type": "stream",
     "text": [
      "(73, 40, 40, 4)\n",
      "(73, 40, 40, 4)\n"
     ]
    }
   ],
   "source": [
    "mutual = []\n",
    "mutual_theta = []\n",
    "for img in imgs:\n",
    "    for img_t in imgs_theta:\n",
    "        if(img[0]==img_t[0]): \n",
    "            mutual.append(img)\n",
    "            mutual_theta.append(img_t)\n",
    "mutual = np.vstack(mutual)\n",
    "mutual = np.reshape(mutual[:,1:],(mutual.shape[0],40,40,4))\n",
    "print(mutual.shape)\n",
    "mutual_theta = np.vstack(mutual_theta)\n",
    "mutual_theta = np.reshape(mutual_theta[:,1:],(mutual_theta.shape[0],40,40,4))\n",
    "print(mutual_theta.shape)"
   ]
  },
  {
   "cell_type": "code",
   "execution_count": 132,
   "metadata": {},
   "outputs": [
    {
     "data": {
      "image/png": "[encoded data removed]",
      "text/plain": [
       "<Figure size 720x720 with 2 Axes>"
      ]
     },
     "metadata": {
      "needs_background": "light"
     },
     "output_type": "display_data"
    },
    {
     "name": "stdout",
     "output_type": "stream",
     "text": [
      "31.071605682373047\n",
      "46.727996826171875\n"
     ]
    }
   ],
   "source": [
    "%matplotlib inline\n",
    "\n",
    "event = 50\n",
    "\n",
    "fig, axs = plt.subplots(1,2,figsize=(10,10))\n",
    "\n",
    "axs[0].imshow(mutual[event,:,:,0])\n",
    "axs[1].imshow(mutual_theta[event,:,:,0])\n",
    "\n",
    "axs[0].set_title(\"Eta\")\n",
    "axs[1].set_title(\"Theta\")\n",
    "\n",
    "axs[0].set_xlabel(\"Phi\")\n",
    "axs[0].set_ylabel(\"Eta\")\n",
    "axs[1].set_xlabel(\"Phi\")\n",
    "axs[1].set_ylabel(\"Theta\")\n",
    "\n",
    "plt.show()\n",
    "\n",
    "print(np.max(mutual[event,:,:,0]))\n",
    "print(np.max(mutual_theta[event,:,:,0]))"
   ]
  },
  {
   "cell_type": "code",
   "execution_count": 149,
   "metadata": {},
   "outputs": [
    {
     "data": {
      "text/plain": [
       "<matplotlib.collections.PathCollection at 0x19fa300c208>"
      ]
     },
     "execution_count": 149,
     "metadata": {},
     "output_type": "execute_result"
    },
    {
     "data": {
      "image/png": "[encoded data removed]",
      "text/plain": [
       "<Figure size 432x288 with 1 Axes>"
      ]
     },
     "metadata": {
      "needs_background": "light"
     },
     "output_type": "display_data"
    }
   ],
   "source": [
    "img = mutual[0,:,:,0]\n",
    "phitot = np.sum(img,axis=0)\n",
    "img = mutual_theta[0,:,:,0]\n",
    "phitot2 = np.sum(img,axis=0)\n",
    "plt.scatter(np.arange(40),phitot,alpha=0.5)\n",
    "plt.scatter(np.arange(40),phitot2,alpha=0.5)"
   ]
  },
  {
   "cell_type": "code",
   "execution_count": null,
   "metadata": {},
   "outputs": [],
   "source": []
  }
 ],
 "metadata": {
  "kernelspec": {
   "display_name": "Python 3",
   "language": "python",
   "name": "python3"
  },
  "language_info": {
   "codemirror_mode": {
    "name": "ipython",
    "version": 3
   },
   "file_extension": ".py",
   "mimetype": "text/x-python",
   "name": "python",
   "nbconvert_exporter": "python",
   "pygments_lexer": "ipython3",
   "version": "3.7.7"
  }
 },
 "nbformat": 4,
 "nbformat_minor": 4
}
