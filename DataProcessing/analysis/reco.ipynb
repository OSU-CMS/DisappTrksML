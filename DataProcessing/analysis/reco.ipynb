{
 "cells": [
  {
   "cell_type": "code",
   "execution_count": 2,
   "metadata": {},
   "outputs": [],
   "source": [
    "import os\n",
    "import tensorflow as tf\n",
    "from tensorflow import keras\n",
    "import numpy as np\n",
    "import matplotlib\n",
    "import matplotlib.pyplot as plt\n",
    "import json\n",
    "import math\n",
    "\n",
    "dataDir = \"c:/Users/llave/Documents/CMS/data/electron_selection_compressedV2/\""
   ]
  },
  {
   "cell_type": "code",
   "execution_count": 10,
   "metadata": {},
   "outputs": [],
   "source": [
    "n_electrons=0\n",
    "true_e_reco_m, true_e_reco_t = 0,0\n",
    "for file in os.listdir(dataDir):\n",
    "    if(\"e_0p25\"in file and \".npz\" in file):\n",
    "        \n",
    "        # load images from file\n",
    "        temp = np.load(dataDir+file)\n",
    "        if(len(temp['infos'])>0): infos = temp['infos']\n",
    "        \n",
    "        for info in infos:\n",
    "            n_electrons+=1\n",
    "            delta_e = info[4] #deltaRElectron\n",
    "            delta_m = info[5] #deltaRMuon\n",
    "            delta_t = info[6] #deltaRTau\n",
    "        \n",
    "            if(abs(delta_e) <= 0.15): print(\"fuck\")\n",
    "            if(abs(delta_m) <= 0.15): true_e_reco_m+=1\n",
    "            if(abs(delta_t) <= 0.15): true_e_reco_t+=1"
   ]
  },
  {
   "cell_type": "code",
   "execution_count": 14,
   "metadata": {},
   "outputs": [
    {
     "name": "stdout",
     "output_type": "stream",
     "text": [
      "Gen truth electrons that failed electron reco: 17828\n",
      "Reconstructed as muons: 698\n",
      "Reconstructed as taus: 1871\n"
     ]
    }
   ],
   "source": [
    "print(\"Gen truth electrons that failed electron reco:\",n_electrons)\n",
    "print(\"Reconstructed as muons:\", true_e_reco_m)\n",
    "print(\"Reconstructed as taus:\", true_e_reco_t)"
   ]
  },
  {
   "cell_type": "code",
   "execution_count": 17,
   "metadata": {},
   "outputs": [],
   "source": [
    "n_bkg=0\n",
    "true_bkg_reco_m, true_bkg_reco_t = 0,0\n",
    "for file in os.listdir(dataDir):\n",
    "    if(\"bkg_0p25\"in file and \".npz\" in file):\n",
    "        \n",
    "        # load images from file\n",
    "        temp = np.load(dataDir+file)\n",
    "        if(len(temp['infos'])>0): infos = temp['infos']\n",
    "        \n",
    "        for info in infos:\n",
    "            n_bkg+=1\n",
    "            delta_e = info[4] #deltaRElectron\n",
    "            delta_m = info[5] #deltaRMuon\n",
    "            delta_t = info[6] #deltaRTau\n",
    "        \n",
    "            if(abs(delta_e) <= 0.15): print(\"fuck\")\n",
    "            if(abs(delta_m) <= 0.15): true_bkg_reco_m+=1\n",
    "            if(abs(delta_t) <= 0.15): true_bkg_reco_t+=1"
   ]
  },
  {
   "cell_type": "code",
   "execution_count": 18,
   "metadata": {},
   "outputs": [
    {
     "name": "stdout",
     "output_type": "stream",
     "text": [
      "Gen truth background that failed electron reco: 8053345\n",
      "Reconstructed as muons: 5029677\n",
      "Reconstructed as taus: 155475\n"
     ]
    }
   ],
   "source": [
    "print(\"Gen truth background that failed electron reco:\",n_bkg)\n",
    "print(\"Reconstructed as muons:\", true_bkg_reco_m)\n",
    "print(\"Reconstructed as taus:\", true_bkg_reco_t)"
   ]
  },
  {
   "cell_type": "code",
   "execution_count": null,
   "metadata": {},
   "outputs": [],
   "source": []
  }
 ],
 "metadata": {
  "kernelspec": {
   "display_name": "Python 3",
   "language": "python",
   "name": "python3"
  },
  "language_info": {
   "codemirror_mode": {
    "name": "ipython",
    "version": 3
   },
   "file_extension": ".py",
   "mimetype": "text/x-python",
   "name": "python",
   "nbconvert_exporter": "python",
   "pygments_lexer": "ipython3",
   "version": "3.7.7"
  }
 },
 "nbformat": 4,
 "nbformat_minor": 4
}
