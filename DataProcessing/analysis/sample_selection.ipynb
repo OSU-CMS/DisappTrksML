{
 "cells": [
  {
   "cell_type": "code",
   "execution_count": 1,
   "metadata": {},
   "outputs": [],
   "source": [
    "import os\n",
    "import tensorflow as tf\n",
    "from tensorflow import keras\n",
    "import numpy as np\n",
    "import matplotlib\n",
    "import matplotlib.pyplot as plt\n",
    "import json\n",
    "import math\n",
    "\n",
    "dataDir = \"c:/Users/llave/Documents/CMS/data/electron_selection_compressed/\""
   ]
  },
  {
   "cell_type": "code",
   "execution_count": 2,
   "metadata": {},
   "outputs": [
    {
     "name": "stdout",
     "output_type": "stream",
     "text": [
      "e_0p25_1131.npz\n",
      "e_0p25_17.npz\n",
      "e_0p25_2222.npz\n",
      "e_0p25_2893.npz\n",
      "e_0p25_87.npz\n"
     ]
    }
   ],
   "source": [
    "nElectrons = 0\n",
    "nE_empty = 0\n",
    "maxPixels_e = []\n",
    "activityAroundMax_e = []\n",
    "max3_e = []\n",
    "centerEnergy_e = []\n",
    "for file in os.listdir(dataDir):\n",
    "    if(\"e_0p25\"in file and \".npz\" in file):\n",
    "        \n",
    "        # load images from file\n",
    "        temp = np.load(dataDir+file)\n",
    "        if(len(temp['images'])>0): e_images = temp['images']\n",
    "        \n",
    "        # reshape images\n",
    "        e_images = e_images[:,1:]\n",
    "        if(e_images.shape[1] != 6400):\n",
    "            print(file)\n",
    "            continue\n",
    "        e_images = np.reshape(e_images,(e_images.shape[0],40,40,4))\n",
    "        e_images = e_images[:,:,:,0]\n",
    "        \n",
    "        # store features\n",
    "        for img in e_images:\n",
    "            \n",
    "            nElectrons+=1\n",
    "            \n",
    "            # store indices for max of each ECAL image\n",
    "            center=0\n",
    "            for i in range(15,25):\n",
    "                for j in range(15,25):\n",
    "                    center+=img[i,j]\n",
    "            centerEnergy_e.append(center)\n",
    "                \n",
    "            tempMax = []\n",
    "            for i in range(3):\n",
    "                \n",
    "                if(img.max()==0): \n",
    "                    nE_empty+=1\n",
    "                    if(i==0): maxPixels_e.append(-1)\n",
    "                    if(i==0): activityAroundMax_e.append(-1)\n",
    "                    break\n",
    "                     \n",
    "                if i == 0:\n",
    "                    \n",
    "                    # energy of max\n",
    "                    maxPixels_e.append(img.max())\n",
    "                    \n",
    "                    # energy around max\n",
    "                    indices = np.where(img == img.max())\n",
    "                    temp = 0\n",
    "                    for i in range(indices[0][0]-10,indices[0][0]+10+1):\n",
    "                        for j in range(indices[1][0]-10,indices[1][0]+10+1):\n",
    "                            if(i > 39 or j > 39): continue\n",
    "                            if(i==indices[0][0] and j==indices[1][0]): continue\n",
    "                            temp+=img[i,j]\n",
    "                    activityAroundMax_e.append(temp)\n",
    "\n",
    "                # store indices of largest 3 hits\n",
    "                indices = np.where(img == img.max())\n",
    "                if(len(indices[0]) > 1):\n",
    "                    indices =  np.array([indices[0][0],indices[1][0]])\n",
    "                tempMax.append(indices)\n",
    "                img[indices] = 0\n",
    "                \n",
    "            if(len(tempMax)==3): max3_e.append(tempMax)\n",
    "            else: max3_e.append([-1])"
   ]
  },
  {
   "cell_type": "code",
   "execution_count": null,
   "metadata": {},
   "outputs": [
    {
     "name": "stdout",
     "output_type": "stream",
     "text": [
      "0\n"
     ]
    }
   ],
   "source": [
    "nBkg = 0\n",
    "nBkg_empty = 0\n",
    "maxPixels_bkg = []\n",
    "activityAroundMax_bkg = []\n",
    "max3_bkg = []\n",
    "centerEnergy_bkg = []\n",
    "nSaved=0\n",
    "for file in os.listdir(dataDir):\n",
    "    if(\"bkg_0p25\"in file and \".npz\" in file):\n",
    "        \n",
    "        # load images from file\n",
    "        temp = np.load(dataDir+file)\n",
    "        if(len(temp['images'])>0): bkg_images = temp['images']\n",
    "        \n",
    "        # reshape images\n",
    "        bkg_images = bkg_images[:,1:]\n",
    "        if(bkg_images.shape[1] != 6400):\n",
    "            print(file)\n",
    "            continue\n",
    "        bkg_images = np.reshape(bkg_images,(bkg_images.shape[0],40,40,4))\n",
    "        bkg_images = bkg_images[:,:,:,0]\n",
    "        \n",
    "        # store features\n",
    "        for img in bkg_images:\n",
    "            \n",
    "            nBkg+=1\n",
    "            \n",
    "            # store indices for max of each ECAL image\n",
    "            center=0\n",
    "            for i in range(15,25):\n",
    "                for j in range(15,25):\n",
    "                    center+=img[i,j]\n",
    "            centerEnergy_e.append(center)\n",
    "                \n",
    "            tempMax = []\n",
    "            for i in range(3):\n",
    "                \n",
    "                if(img.max()==0): \n",
    "                    nBkg_empty+=1\n",
    "                    if(i==0): maxPixels_bkg.append(-1)\n",
    "                    if(i==0): activityAroundMax_bkg.append(-1)\n",
    "                    break\n",
    "                     \n",
    "                if i == 0:\n",
    "                    \n",
    "                    # energy of max\n",
    "                    maxPixels_bkg.append(img.max())\n",
    "                    \n",
    "                    # energy around max\n",
    "                    indices = np.where(img == img.max())\n",
    "                    temp = 0\n",
    "                    for i in range(indices[0][0]-10,indices[0][0]+10+1):\n",
    "                        for j in range(indices[1][0]-10,indices[1][0]+10+1):\n",
    "                            if(i > 39 or j > 39): continue\n",
    "                            if(i==indices[0][0] and j==indices[1][0]): continue\n",
    "                            temp+=img[i,j]\n",
    "                    activityAroundMax_bkg.append(temp)\n",
    "\n",
    "                # store indices of largest 3 hits\n",
    "                indices = np.where(img == img.max())\n",
    "                if(len(indices[0]) > 1):\n",
    "                    indices =  np.array([indices[0][0],indices[1][0]])\n",
    "                tempMax.append(indices)\n",
    "                img[indices] = 0\n",
    "                \n",
    "            if(len(tempMax)==3): max3_bkg.append(tempMax)\n",
    "            else: max3_bkg.append([-1])\n",
    "        \n",
    "        if(nSaved%50==0): print(nSaved)      \n",
    "        nSaved+=1\n",
    "        if(nSaved==500): break"
   ]
  },
  {
   "cell_type": "code",
   "execution_count": 4,
   "metadata": {},
   "outputs": [
    {
     "name": "stdout",
     "output_type": "stream",
     "text": [
      "Number of electrons: 17794\n",
      "Number of background: 1892305\n"
     ]
    }
   ],
   "source": [
    "print(\"Number of electrons:\",nElectrons)\n",
    "print(\"Number of background:\", nBkg)"
   ]
  },
  {
   "cell_type": "code",
   "execution_count": 5,
   "metadata": {},
   "outputs": [
    {
     "name": "stdout",
     "output_type": "stream",
     "text": [
      "{'nElectrons': 17794, 'atLeast3NonEmpty': 17657, 'largestHitVeto': 17517, 'activityAroundMax_e': 17491, 'centerEnergy_e': 16419, 'radiusVeto': 16367}\n"
     ]
    }
   ],
   "source": [
    "selections = {\n",
    "    \"nElectrons\": nElectrons,\n",
    "    \"atLeast3NonEmpty\": 0,\n",
    "    \"largestHitVeto\": 0,\n",
    "    \"activityAroundMax_e\": 0,\n",
    "    \"centerEnergy_e\": 0,\n",
    "    \"radiusVeto\": 0\n",
    "}\n",
    "\n",
    "for iEvent in range(nElectrons):\n",
    "    if(max3_e[iEvent]==[-1]): continue \n",
    "    selections[\"atLeast3NonEmpty\"]+=1\n",
    "\n",
    "    if(maxPixels_e[iEvent] < 0.5): continue\n",
    "    selections[\"largestHitVeto\"]+=1\n",
    "    \n",
    "    if(activityAroundMax_e[iEvent] < 0.1): continue\n",
    "    selections[\"activityAroundMax_e\"]+=1\n",
    "    \n",
    "    if(centerEnergy_e[iEvent] < 0.5): continue\n",
    "    selections[\"centerEnergy_e\"]+=1\n",
    "    \n",
    "    coords = max3_e[iEvent]\n",
    "    a = math.sqrt(pow(coords[0][0]-coords[1][0], 2)+pow(coords[0][1]-coords[1][1],2)) \n",
    "    b = math.sqrt(pow(coords[0][0]-coords[2][0], 2)+pow(coords[0][1]-coords[2][1],2)) \n",
    "    c = math.sqrt(pow(coords[1][0]-coords[2][0], 2)+pow(coords[1][1]-coords[1][1],2)) \n",
    "    d = np.mean([a,b,c])\n",
    "    if(d > 20): continue\n",
    "    selections[\"radiusVeto\"]+=1\n",
    "    \n",
    "print(selections)"
   ]
  },
  {
   "cell_type": "code",
   "execution_count": 7,
   "metadata": {},
   "outputs": [
    {
     "ename": "TypeError",
     "evalue": "'<' not supported between instances of 'NpzFile' and 'float'",
     "output_type": "error",
     "traceback": [
      "\u001b[1;31m---------------------------------------------------------------------------\u001b[0m",
      "\u001b[1;31mTypeError\u001b[0m                                 Traceback (most recent call last)",
      "\u001b[1;32m<ipython-input-7-a487d08e9108>\u001b[0m in \u001b[0;36m<module>\u001b[1;34m\u001b[0m\n\u001b[0;32m     18\u001b[0m     \u001b[0mselections\u001b[0m\u001b[1;33m[\u001b[0m\u001b[1;34m\"activityAroundMax_e\"\u001b[0m\u001b[1;33m]\u001b[0m\u001b[1;33m+=\u001b[0m\u001b[1;36m1\u001b[0m\u001b[1;33m\u001b[0m\u001b[1;33m\u001b[0m\u001b[0m\n\u001b[0;32m     19\u001b[0m \u001b[1;33m\u001b[0m\u001b[0m\n\u001b[1;32m---> 20\u001b[1;33m     \u001b[1;32mif\u001b[0m\u001b[1;33m(\u001b[0m\u001b[0mcenterEnergy_bkg\u001b[0m\u001b[1;33m[\u001b[0m\u001b[0miEvent\u001b[0m\u001b[1;33m]\u001b[0m \u001b[1;33m<\u001b[0m \u001b[1;36m0.5\u001b[0m\u001b[1;33m)\u001b[0m\u001b[1;33m:\u001b[0m \u001b[1;32mcontinue\u001b[0m\u001b[1;33m\u001b[0m\u001b[1;33m\u001b[0m\u001b[0m\n\u001b[0m\u001b[0;32m     21\u001b[0m     \u001b[0mselections\u001b[0m\u001b[1;33m[\u001b[0m\u001b[1;34m\"centerEnergy_e\"\u001b[0m\u001b[1;33m]\u001b[0m\u001b[1;33m+=\u001b[0m\u001b[1;36m1\u001b[0m\u001b[1;33m\u001b[0m\u001b[1;33m\u001b[0m\u001b[0m\n\u001b[0;32m     22\u001b[0m \u001b[1;33m\u001b[0m\u001b[0m\n",
      "\u001b[1;31mTypeError\u001b[0m: '<' not supported between instances of 'NpzFile' and 'float'"
     ]
    }
   ],
   "source": [
    "selections_bkg = {\n",
    "    \"nBackgrounds\": nBkg,\n",
    "    \"atLeast3NonEmpty\": 0,\n",
    "    \"largestHitVeto\": 0,\n",
    "    \"activityAroundMax_e\": 0,\n",
    "    \"centerEnergy_e\": 0,\n",
    "    \"radiusVeto\": 0\n",
    "}\n",
    "\n",
    "for iEvent in range(nBkg):\n",
    "    if(max3_bkg[iEvent]==[-1]): continue \n",
    "    selections[\"atLeast3NonEmpty\"]+=1\n",
    "\n",
    "    if(maxPixels_bkg[iEvent] < 0.5): continue\n",
    "    selections[\"largestHitVeto\"]+=1\n",
    "    \n",
    "    if(activityAroundMax_bkg[iEvent] < 0.1): continue\n",
    "    selections[\"activityAroundMax_e\"]+=1\n",
    "    \n",
    "    if(centerEnergy_bkg[iEvent] < 0.5): continue\n",
    "    selections[\"centerEnergy_e\"]+=1\n",
    "    \n",
    "    coords = max3_bkg[iEvent]\n",
    "    a = math.sqrt(pow(coords[0][0]-coords[1][0], 2)+pow(coords[0][1]-coords[1][1],2)) \n",
    "    b = math.sqrt(pow(coords[0][0]-coords[2][0], 2)+pow(coords[0][1]-coords[2][1],2)) \n",
    "    c = math.sqrt(pow(coords[1][0]-coords[2][0], 2)+pow(coords[1][1]-coords[1][1],2)) \n",
    "    d = np.mean([a,b,c])\n",
    "    if(d > 20): continue\n",
    "    selections[\"radiusVeto\"]+=1\n",
    "    \n",
    "print(selections_bkg)"
   ]
  },
  {
   "cell_type": "code",
   "execution_count": null,
   "metadata": {},
   "outputs": [],
   "source": []
  }
 ],
 "metadata": {
  "kernelspec": {
   "display_name": "Python 3",
   "language": "python",
   "name": "python3"
  },
  "language_info": {
   "codemirror_mode": {
    "name": "ipython",
    "version": 3
   },
   "file_extension": ".py",
   "mimetype": "text/x-python",
   "name": "python",
   "nbconvert_exporter": "python",
   "pygments_lexer": "ipython3",
   "version": "3.7.7"
  }
 },
 "nbformat": 4,
 "nbformat_minor": 4
}
