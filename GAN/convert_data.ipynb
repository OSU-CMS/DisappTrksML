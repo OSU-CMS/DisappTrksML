{
 "cells": [
  {
   "cell_type": "code",
   "execution_count": 1,
   "metadata": {},
   "outputs": [
    {
     "name": "stdout",
     "output_type": "stream",
     "text": [
      "Welcome to JupyROOT 6.16/00\n"
     ]
    }
   ],
   "source": [
    "import ROOT as r\n",
    "import numpy as np\n",
    "import os\n",
    "import matplotlib.pyplot as plt\n",
    "\n",
    "workDir = '/mnt/c/users/llave/Documents/CMS/'\n",
    "fin = r.TFile(workDir + 'images.root')\n",
    "tree = fin.Get('trackImageAnalyzer/tree')\n",
    "\n",
    "# dEta -0.5 to 0.5\n",
    "# dPhi -3.5 to 0.5\n",
    "\n",
    "def convert_eta(eta):\n",
    "\treturn int((eta + 0.5)*40)\n",
    "\n",
    "def convert_phi(phi):\n",
    "\treturn int((phi*10+35))\n"
   ]
  },
  {
   "cell_type": "code",
   "execution_count": 2,
   "metadata": {},
   "outputs": [
    {
     "name": "stdout",
     "output_type": "stream",
     "text": [
      "9244\n"
     ]
    },
    {
     "data": {
      "image/png": "[encoded data removed]",
      "text/plain": [
       "<Figure size 432x288 with 1 Axes>"
      ]
     },
     "metadata": {
      "needs_background": "light"
     },
     "output_type": "display_data"
    }
   ],
   "source": [
    "energies= []\n",
    "for event in tree:\n",
    "    for energy in event.recHits_energy:\n",
    "        energies.append(energy)\n",
    "print(len(energies))\n",
    "plt.hist(energies)\n",
    "plt.yscale('log')"
   ]
  },
  {
   "cell_type": "code",
   "execution_count": 3,
   "metadata": {},
   "outputs": [
    {
     "data": {
      "text/plain": [
       "(array([2088., 1077.,  893., 1041., 1114., 1139.,  872.,  643.,  325.,\n",
       "          52.]),\n",
       " array([0.        , 0.11840701, 0.23681401, 0.35522102, 0.47362802,\n",
       "        0.59203503, 0.71044203, 0.82884904, 0.94725605, 1.06566305,\n",
       "        1.18407006]),\n",
       " <a list of 10 Patch objects>)"
      ]
     },
     "execution_count": 3,
     "metadata": {},
     "output_type": "execute_result"
    },
    {
     "data": {
      "image/png": "[encoded data removed]",
      "text/plain": [
       "<Figure size 432x288 with 1 Axes>"
      ]
     },
     "metadata": {
      "needs_background": "light"
     },
     "output_type": "display_data"
    }
   ],
   "source": [
    "from sklearn import preprocessing\n",
    "energies = np.array(energies)\n",
    "energies = energies.reshape(-1,1)\n",
    "pt = preprocessing.PowerTransformer(method='yeo-johnson', standardize=False)\n",
    "energies = pt.fit_transform(energies)\n",
    "plt.hist(energies)"
   ]
  },
  {
   "cell_type": "code",
   "execution_count": 4,
   "metadata": {},
   "outputs": [
    {
     "data": {
      "text/plain": [
       "9244"
      ]
     },
     "execution_count": 4,
     "metadata": {},
     "output_type": "execute_result"
    }
   ],
   "source": [
    "len(energies)"
   ]
  },
  {
   "cell_type": "code",
   "execution_count": 5,
   "metadata": {},
   "outputs": [
    {
     "name": "stdout",
     "output_type": "stream",
     "text": [
      "count 9244\n"
     ]
    },
    {
     "data": {
      "text/plain": [
       "1606"
      ]
     },
     "execution_count": 5,
     "metadata": {},
     "output_type": "execute_result"
    }
   ],
   "source": [
    "newfile = r.TFile(workDir+'imagesV2.root','RECREATE')\n",
    "newtree = tree.CloneTree(0)\n",
    "\n",
    "nenergy = np.array(0)\n",
    "newBranch = newtree.Branch('nenergy',nenergy,'nenergy/I')\n",
    "count = 0\n",
    "for i,track in enumerate(tree):\n",
    "    for j in range(len(track.recHits_energy)):\n",
    "        nenergy = energies[count]\n",
    "        count+=1\n",
    "    newtree.Fill()\n",
    "print('count',count)\n",
    "newtree.Write()"
   ]
  },
  {
   "cell_type": "code",
   "execution_count": 6,
   "metadata": {
    "scrolled": true
   },
   "outputs": [
    {
     "name": "stderr",
     "output_type": "stream",
     "text": [
      "Warning in <TFile::Init>: file /mnt/c/users/llave/Documents/CMS/imagesV2.root probably not closed, trying to recover\n",
      "Info in <TFile::Recover>: /mnt/c/users/llave/Documents/CMS/imagesV2.root, recovered key TTree:tree at address 200369\n",
      "Warning in <TFile::Init>: successfully recovered 1 keys\n"
     ]
    }
   ],
   "source": [
    "fin2 = r.TFile(workDir + 'imagesV2.root')\n",
    "newtree = fin2.Get('tree')\n",
    "\n",
    "events = []\n",
    "\n",
    "for iTrack, track in enumerate(newtree):\t\n",
    "\n",
    "    #debug\n",
    "#     if iTrack != 1: continue\n",
    "#     print(track.recHits_dPhi)\n",
    "#     print(track.recHits_dEta)\n",
    "#     print(track.recHits_detType)\n",
    "            \n",
    "    nHits = len(track.recHits_detType)\n",
    "        \n",
    "    matrix_ECAL = np.zeros([40,40])\n",
    "    matrix_HCAL = np.zeros([40,40])\n",
    "    matrix_mouns = np.zeros([40,40])  \n",
    "        \n",
    "    dEta_ECAL = np.array([convert_eta(x) for i,x in enumerate(track.recHits_dEta) if track.recHits_detType[i]==1])\n",
    "    dEta_HCAL = np.array([convert_eta(x) for i,x in enumerate(track.recHits_dEta) if track.recHits_detType[i]==2])\n",
    "    dPhi_ECAL = np.array([convert_phi(x) for i,x in enumerate(track.recHits_dPhi) if track.recHits_detType[i]==1])\n",
    "    dPhi_HCAL = np.array([convert_phi(x) for i,x in enumerate(track.recHits_dPhi) if track.recHits_detType[i]==2])\n",
    "    energy_ECAL = np.array([x for i,x in enumerate(track.recHits_energy) if track.recHits_detType[i]==1])\n",
    "    energy_HCAL = np.array([x for i,x in enumerate(track.recHits_energy) if track.recHits_detType[i]==2])\n",
    "\n",
    "    if(len(dEta_ECAL)!=0 and len(dPhi_ECAL)!=0): matrix_ECAL[dEta_ECAL,dPhi_ECAL] = energy_ECAL\n",
    "    if(len(dEta_HCAL)!=0 and len(dPhi_HCAL)!=0): matrix_HCAL[dEta_HCAL,dPhi_HCAL] = energy_HCAL\n",
    "\n",
    "    events.append(np.stack([matrix_ECAL,matrix_HCAL,matrix_mouns],axis = -1))\n",
    "    "
   ]
  },
  {
   "cell_type": "code",
   "execution_count": 7,
   "metadata": {},
   "outputs": [
    {
     "name": "stdout",
     "output_type": "stream",
     "text": [
      "204\n"
     ]
    }
   ],
   "source": [
    "print(len(events))\n",
    "np.save(workDir+'images', events)"
   ]
  },
  {
   "cell_type": "code",
   "execution_count": 8,
   "metadata": {
    "scrolled": true
   },
   "outputs": [
    {
     "data": {
      "image/png": "[encoded data removed]",
      "text/plain": [
       "<Figure size 720x720 with 3 Axes>"
      ]
     },
     "metadata": {
      "needs_background": "light"
     },
     "output_type": "display_data"
    }
   ],
   "source": [
    "def plot_event(eventNum):\n",
    "    \n",
    "    x = events[eventNum]\n",
    "    \n",
    "    fig, axs = plt.subplots(1,3,figsize=(10,10))\n",
    "    \n",
    "    for i in range(3):\n",
    "        axs[i].imshow(x[:,:,i])\n",
    "    \n",
    "    axs[0].set_title(\"ECAL\")\n",
    "    axs[1].set_title(\"HCAL\")\n",
    "    axs[2].set_title(\"Muon\")\n",
    "    \n",
    "    plt.show()\n",
    "\n",
    "plot_event(1)"
   ]
  },
  {
   "cell_type": "code",
   "execution_count": null,
   "metadata": {},
   "outputs": [],
   "source": []
  },
  {
   "cell_type": "code",
   "execution_count": null,
   "metadata": {},
   "outputs": [],
   "source": []
  }
 ],
 "metadata": {
  "kernelspec": {
   "display_name": "Python 3",
   "language": "python",
   "name": "python3"
  },
  "language_info": {
   "codemirror_mode": {
    "name": "ipython",
    "version": 3
   },
   "file_extension": ".py",
   "mimetype": "text/x-python",
   "name": "python",
   "nbconvert_exporter": "python",
   "pygments_lexer": "ipython3",
   "version": "3.6.9"
  }
 },
 "nbformat": 4,
 "nbformat_minor": 4
}
