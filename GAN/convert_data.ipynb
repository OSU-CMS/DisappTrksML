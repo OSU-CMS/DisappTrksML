{
 "cells": [
  {
   "cell_type": "code",
   "execution_count": 39,
   "metadata": {},
   "outputs": [],
   "source": [
    "import ROOT as r\n",
    "import numpy as np\n",
    "import os\n",
    "import matplotlib.pyplot as plt\n",
    "\n",
    "workDir = '/mnt/c/users/llave/Documents/CMS/'\n",
    "fin = r.TFile(workDir + 'images_DYJets50.root')\n",
    "tree = fin.Get('trackImageAnalyzer/tree')\n",
    "\n",
    "# dEta -0.5 to 0.5\n",
    "# dPhi -3.5 to 0.5\n",
    "\n",
    "def convert_eta(eta):\n",
    "\treturn int((eta + 0.5)*40/2)\n",
    "\n",
    "def convert_phi(phi):\n",
    "\treturn int((phi*10+35)/2)\n"
   ]
  },
  {
   "cell_type": "code",
   "execution_count": 40,
   "metadata": {},
   "outputs": [
    {
     "name": "stdout",
     "output_type": "stream",
     "text": [
      "551560\n"
     ]
    },
    {
     "data": {
      "image/png": "[encoded data removed]",
      "text/plain": [
       "<Figure size 432x288 with 1 Axes>"
      ]
     },
     "metadata": {
      "needs_background": "light"
     },
     "output_type": "display_data"
    }
   ],
   "source": [
    "energies= []\n",
    "for event in tree:\n",
    "    for energy in event.recHits_energy:\n",
    "        energies.append(energy)\n",
    "print(len(energies))\n",
    "plt.hist(energies,bins=50)\n",
    "plt.yscale('log')"
   ]
  },
  {
   "cell_type": "code",
   "execution_count": 41,
   "metadata": {},
   "outputs": [
    {
     "data": {
      "image/png": "[encoded data removed]",
      "text/plain": [
       "<Figure size 432x288 with 1 Axes>"
      ]
     },
     "metadata": {
      "needs_background": "light"
     },
     "output_type": "display_data"
    }
   ],
   "source": [
    "from sklearn import preprocessing\n",
    "newenergies = np.array(energies)\n",
    "newenergies = newenergies.reshape(-1,1)\n",
    "pt = preprocessing.PowerTransformer(method='yeo-johnson', standardize=False)\n",
    "newenergies = pt.fit_transform(newenergies)\n",
    "plt.hist(newenergies,bins=50)\n",
    "plt.yscale('log')"
   ]
  },
  {
   "cell_type": "code",
   "execution_count": 42,
   "metadata": {},
   "outputs": [
    {
     "name": "stdout",
     "output_type": "stream",
     "text": [
      "count 551560\n"
     ]
    },
    {
     "data": {
      "text/plain": [
       "6184"
      ]
     },
     "execution_count": 42,
     "metadata": {},
     "output_type": "execute_result"
    }
   ],
   "source": [
    "newfile = r.TFile(workDir+'images_DYJets50_norm.root','RECREATE')\n",
    "newtree = tree.CloneTree(0)\n",
    "\n",
    "nenergy = np.array(0)\n",
    "newBranch = newtree.Branch('nenergy',nenergy,'nenergy/I')\n",
    "count = 0\n",
    "for i,track in enumerate(tree):\n",
    "    for j in range(len(track.recHits_energy)):\n",
    "        nenergy = newenergies[count]\n",
    "        count+=1\n",
    "    newtree.Fill()\n",
    "print('count',count)\n",
    "newtree.Write()"
   ]
  },
  {
   "cell_type": "code",
   "execution_count": 16,
   "metadata": {
    "scrolled": true
   },
   "outputs": [
    {
     "name": "stderr",
     "output_type": "stream",
     "text": [
      "Warning in <TFile::Init>: file /mnt/c/users/llave/Documents/CMS/images_DYJets50_norm.root probably not closed, trying to recover\n",
      "Info in <TFile::Recover>: /mnt/c/users/llave/Documents/CMS/images_DYJets50_norm.root, recovered key TTree:tree at address 11333044\n",
      "Warning in <TFile::Init>: successfully recovered 1 keys\n"
     ]
    }
   ],
   "source": [
    "fin2 = r.TFile(workDir + 'images_DYJets50_norm.root')\n",
    "newtree = fin2.Get('tree')\n",
    "\n",
    "events = []\n",
    "\n",
    "for iTrack, track in enumerate(newtree):\t\n",
    "\n",
    "    #debug\n",
    "#     if iTrack != 1: continue\n",
    "#     print(track.recHits_dPhi)\n",
    "#     print(track.recHits_dEta)\n",
    "#     print(track.recHits_detType)\n",
    "            \n",
    "    nHits = len(track.recHits_detType)\n",
    "        \n",
    "    matrix_ECAL = np.zeros([20,20])\n",
    "    matrix_HCAL = np.zeros([20,20])\n",
    "    matrix_mouns = np.zeros([20,20])  \n",
    "        \n",
    "    dEta_ECAL = np.array([convert_eta(x) for i,x in enumerate(track.recHits_dEta) if track.recHits_detType[i]==1])\n",
    "    dEta_HCAL = np.array([convert_eta(x) for i,x in enumerate(track.recHits_dEta) if track.recHits_detType[i]==2])\n",
    "    dPhi_ECAL = np.array([convert_phi(x) for i,x in enumerate(track.recHits_dPhi) if track.recHits_detType[i]==1])\n",
    "    dPhi_HCAL = np.array([convert_phi(x) for i,x in enumerate(track.recHits_dPhi) if track.recHits_detType[i]==2])\n",
    "    energy_ECAL = np.array([x for i,x in enumerate(track.recHits_energy) if track.recHits_detType[i]==1])\n",
    "    energy_HCAL = np.array([x for i,x in enumerate(track.recHits_energy) if track.recHits_detType[i]==2])\n",
    "\n",
    "    if(len(dEta_ECAL)!=0 and len(dPhi_ECAL)!=0): matrix_ECAL[dEta_ECAL,dPhi_ECAL] = energy_ECAL\n",
    "    if(len(dEta_HCAL)!=0 and len(dPhi_HCAL)!=0): matrix_HCAL[dEta_HCAL,dPhi_HCAL] = energy_HCAL\n",
    "\n",
    "    events.append(np.stack([matrix_ECAL,matrix_HCAL,matrix_mouns],axis = -1))\n",
    "    "
   ]
  },
  {
   "cell_type": "code",
   "execution_count": 22,
   "metadata": {},
   "outputs": [
    {
     "name": "stdout",
     "output_type": "stream",
     "text": [
      "8499\n"
     ]
    }
   ],
   "source": [
    "print(len(events))\n",
    "np.save(workDir+'DYJets50_norm_20x20', events)"
   ]
  },
  {
   "cell_type": "code",
   "execution_count": 34,
   "metadata": {
    "scrolled": true
   },
   "outputs": [
    {
     "data": {
      "image/png": "[encoded data removed]",
      "text/plain": [
       "<Figure size 720x720 with 3 Axes>"
      ]
     },
     "metadata": {
      "needs_background": "light"
     },
     "output_type": "display_data"
    }
   ],
   "source": [
    "def plot_event(eventNum):\n",
    "    \n",
    "    x = events[eventNum]\n",
    "    \n",
    "    fig, axs = plt.subplots(1,3,figsize=(10,10))\n",
    "    \n",
    "    for i in range(3):\n",
    "        axs[i].imshow(x[:,:,i],cmap='gray')\n",
    "    \n",
    "    axs[0].set_title(\"ECAL\")\n",
    "    axs[1].set_title(\"HCAL\")\n",
    "    axs[2].set_title(\"Muon\")\n",
    "    \n",
    "    plt.show()\n",
    "\n",
    "plot_event(150)"
   ]
  },
  {
   "cell_type": "code",
   "execution_count": 59,
   "metadata": {},
   "outputs": [
    {
     "data": {
      "image/png": "[encoded data removed]",
      "text/plain": [
       "<Figure size 720x720 with 12 Axes>"
      ]
     },
     "metadata": {
      "needs_background": "light"
     },
     "output_type": "display_data"
    }
   ],
   "source": [
    "i=10\n",
    "gen_imgs = events[i:i+4]\n",
    "gen_imgs = np.reshape(gen_imgs,[4,20,20,3])\n",
    "r = 4\n",
    "\n",
    "# Rescale images 0 - 1\n",
    "gen_imgs = 0.5 * gen_imgs + 0.5\n",
    "\n",
    "fig, axs = plt.subplots(r, 3,figsize=(10,10))\n",
    "for i in range(r):\n",
    "    for j in range(3):\n",
    "        axs[i, j].imshow(gen_imgs[i, :, :, j], cmap='gray')\n",
    "        axs[i, j].axis('off')\n",
    "        axs[i,0].set_title(\"ECAL\",fontsize=5)\n",
    "        axs[i,1].set_title(\"HCAL\",fontsize=5)\n",
    "        axs[i,2].set_title(\"Muon\",fontsize=5)\n",
    "plt.tight_layout()\n",
    "plt.savefig('/mnt/c/users/llave/Desktop/real.png')"
   ]
  },
  {
   "cell_type": "code",
   "execution_count": null,
   "metadata": {},
   "outputs": [],
   "source": []
  }
 ],
 "metadata": {
  "kernelspec": {
   "display_name": "Python 3",
   "language": "python",
   "name": "python3"
  },
  "language_info": {
   "codemirror_mode": {
    "name": "ipython",
    "version": 3
   },
   "file_extension": ".py",
   "mimetype": "text/x-python",
   "name": "python",
   "nbconvert_exporter": "python",
   "pygments_lexer": "ipython3",
   "version": "3.6.9"
  }
 },
 "nbformat": 4,
 "nbformat_minor": 4
}
