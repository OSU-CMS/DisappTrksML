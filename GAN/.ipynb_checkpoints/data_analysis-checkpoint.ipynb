{
 "cells": [
  {
   "cell_type": "code",
   "execution_count": 1,
   "metadata": {},
   "outputs": [
    {
     "name": "stdout",
     "output_type": "stream",
     "text": [
      "Welcome to JupyROOT 6.16/00\n"
     ]
    }
   ],
   "source": [
    "import ROOT as r\n",
    "import numpy as np\n",
    "import os\n",
    "import matplotlib.pyplot as plt\n",
    "\n",
    "workDir = '/mnt/c/users/llave/Documents/CMS/'\n",
    "#workDir = 'c:/users/llave/Documents/CMS/'\n",
    "fin = r.TFile(workDir + 'images_DYJets50.root')\n",
    "tree = fin.Get('trackImageAnalyzer/tree')\n",
    "\n",
    "# dEta -0.5 to 0.5\n",
    "# dPhi -3.5 to 0.5\n",
    "\n",
    "def convert_eta(eta):\n",
    "\treturn int((eta + 0.5)*40)\n",
    "\n",
    "def convert_phi(phi):\n",
    "\treturn int((phi*10+35))"
   ]
  },
  {
   "cell_type": "code",
   "execution_count": 2,
   "metadata": {},
   "outputs": [
    {
     "name": "stdout",
     "output_type": "stream",
     "text": [
      "{0, 321, 130, 2112, 2212, 3112, 11, 12, 13, 14, 16, 3122, 211, 22, 3222, 310, 3322}\n",
      "17\n"
     ]
    }
   ],
   "source": [
    "#ids of GEN particles\n",
    "ids = set([abs(x.genMatchedID) for x in tree])\n",
    "print(ids)\n",
    "print(len(ids))"
   ]
  },
  {
   "cell_type": "code",
   "execution_count": 3,
   "metadata": {},
   "outputs": [
    {
     "name": "stdout",
     "output_type": "stream",
     "text": [
      "\t\t\ttrack/GEN match\n",
      "\t\t\ttrue \t false\n",
      "track/RECO match\n",
      "true\t\t\t1555\t97\t\n",
      "false\t\t\t5\t1007\t\n"
     ]
    }
   ],
   "source": [
    "m = [[0,0],[0,0]]\n",
    "dist_match,dist_disc=[],[]\n",
    "match_id,no_match_id=[],[]\n",
    "lep,bkg = [],[]\n",
    "for iTrack, track in enumerate(tree):\n",
    "    if(abs(track.genMatchedID)!=11): continue\n",
    "        \n",
    "    #lepton events where the RECO failed \n",
    "    if(track.deltaRToClosestElectron > 0.1 or track.deltaRToClosestElectron == -1):\n",
    "        \n",
    "        #is the trach from leptons or not?\n",
    "        if(abs(track.genMatchedDR) < 0.1): lep.append(iTrack)\n",
    "        elif(abs(track.genMatchedDR) > 0.1): bkg.append(iTrack)\n",
    "    \n",
    "    # divide by whether there is match with RECO electron and track\n",
    "    if(abs(track.genMatchedDR < 0.1)):\n",
    "        dist_match.append(track.deltaRToClosestElectron)\n",
    "        if(abs(track.deltaRToClosestElectron) < 0.1):\n",
    "            m[0][0]+=1\n",
    "            match_id.append(iTrack)\n",
    "        else:\n",
    "            m[0][1]+=1\n",
    "    if(abs(track.genMatchedDR) > 0.1):\n",
    "        dist_disc.append(track.deltaRToClosestElectron)\n",
    "        if(abs(track.deltaRToClosestElectron) < 0.1):\n",
    "            m[1][0]+=1\n",
    "        else:\n",
    "            m[1][1]+=1\n",
    "            no_match_id.append(iTrack)\n",
    "\n",
    "print(\"\\t\\t\\ttrack/GEN match\")\n",
    "print(\"\\t\\t\\ttrue \\t false\")\n",
    "print('track/RECO match')\n",
    "row_title = ['true','false']\n",
    "for i,row in enumerate(m):\n",
    "    print(row_title[i],end='\\t\\t\\t')\n",
    "    for elm in row:\n",
    "        print(elm, end = '\\t')\n",
    "    print()"
   ]
  },
  {
   "cell_type": "code",
   "execution_count": 25,
   "metadata": {
    "scrolled": false
   },
   "outputs": [
    {
     "data": {
      "image/png": "[encoded data removed]",
      "text/plain": [
       "<Figure size 720x504 with 1 Axes>"
      ]
     },
     "metadata": {
      "needs_background": "light"
     },
     "output_type": "display_data"
    }
   ],
   "source": [
    "plt.figure(figsize=(10,7))\n",
    "plt.hist(dist_match,alpha=0.5,label='abs(genMatchedDR) < 0.1',density=True,bins=50)\n",
    "plt.hist(dist_disc,alpha=0.5,label='abs(genMatchedDR) > 0.1',density=True,bins=50)\n",
    "plt.title('genMatchedID==11')\n",
    "plt.ylabel('occurence')\n",
    "plt.xlabel('deltaRToClosestElectron')\n",
    "plt.legend()\n",
    "plt.savefig('deltaR_e.png',quality=80)\n",
    "plt.show()"
   ]
  },
  {
   "cell_type": "code",
   "execution_count": 21,
   "metadata": {},
   "outputs": [
    {
     "data": {
      "image/png": "[encoded data removed]",
      "text/plain": [
       "<Figure size 432x288 with 1 Axes>"
      ]
     },
     "metadata": {
      "needs_background": "light"
     },
     "output_type": "display_data"
    }
   ],
   "source": [
    "counts1,bin_edges1 = np.histogram(dist_match,30)\n",
    "counts2,bin_edges2 = np.histogram(dist_disc,30)\n",
    "bin_centers1 = (bin_edges1[:-1] + bin_edges1[1:])/2.\n",
    "bin_centers2 = (bin_edges2[:-1] + bin_edges2[1:])/2.\n",
    "sum1 = np.sum(counts1)\n",
    "sum2 = np.sum(counts2)\n",
    "counts1 = np.array([x/sum1 for x in counts1])\n",
    "counts2 = np.array([x/sum2 for x in counts2])\n",
    "plt.errorbar(bin_centers1, counts1, fmt='+',label='abs(genMatchedDR) < 0.1')\n",
    "plt.errorbar(bin_centers2, counts2, fmt='+',label='abs(genMatchedDR) > 0.1')\n",
    "plt.title('genMatchedID==11')\n",
    "plt.ylabel('occurence')\n",
    "plt.xlabel('deltaRToClosestElectron')\n",
    "plt.legend()\n",
    "plt.yscale('log')\n",
    "plt.show()"
   ]
  },
  {
   "cell_type": "code",
   "execution_count": 12,
   "metadata": {},
   "outputs": [
    {
     "name": "stderr",
     "output_type": "stream",
     "text": [
      "Warning in <TFile::Init>: file /mnt/c/users/llave/Documents/CMS/images_DYJets50_norm.root probably not closed, trying to recover\n",
      "Info in <TFile::Recover>: /mnt/c/users/llave/Documents/CMS/images_DYJets50_norm.root, recovered key TTree:tree at address 11333044\n",
      "Warning in <TFile::Init>: successfully recovered 1 keys\n"
     ]
    }
   ],
   "source": [
    "fin2 = r.TFile(workDir + 'images_DYJets50_norm.root')\n",
    "newtree = fin2.Get('tree')\n",
    "\n",
    "events_e,events_bkg = [],[]\n",
    "\n",
    "for iTrack, track in enumerate(newtree):\t\n",
    "\n",
    "    #debug\n",
    "#     if iTrack != 1: continue\n",
    "#     print(track.recHits_dPhi)\n",
    "#     print(track.recHits_dEta)\n",
    "#     print(track.recHits_detType)\n",
    "            \n",
    "    nHits = len(track.recHits_detType)\n",
    "        \n",
    "    matrix_ECAL = np.zeros([20,20])\n",
    "    matrix_HCAL = np.zeros([20,20])\n",
    "    matrix_mouns = np.zeros([20,20])  \n",
    "    \n",
    "    if(abs(track.genMatchedID)!=11): continue\n",
    "        \n",
    "    lepton,background = False,False\n",
    "    \n",
    "    #lepton events where the RECO failed \n",
    "    if(track.deltaRToClosestElectron > 0.1 or track.deltaRToClosestElectron == -1):\n",
    "        \n",
    "        #is the trach from leptons or not?\n",
    "        if(abs(track.genMatchedDR) < 0.1): lepton = True\n",
    "        elif(abs(track.genMatchedDR) > 0.1): background = True\n",
    "        \n",
    "    dEta_ECAL = np.array([convert_eta(x) for i,x in enumerate(track.recHits_dEta) if track.recHits_detType[i]==1])\n",
    "    dEta_HCAL = np.array([convert_eta(x) for i,x in enumerate(track.recHits_dEta) if track.recHits_detType[i]==2])\n",
    "    dPhi_ECAL = np.array([convert_phi(x) for i,x in enumerate(track.recHits_dPhi) if track.recHits_detType[i]==1])\n",
    "    dPhi_HCAL = np.array([convert_phi(x) for i,x in enumerate(track.recHits_dPhi) if track.recHits_detType[i]==2])\n",
    "    energy_ECAL = np.array([x for i,x in enumerate(track.recHits_energy) if track.recHits_detType[i]==1])\n",
    "    energy_HCAL = np.array([x for i,x in enumerate(track.recHits_energy) if track.recHits_detType[i]==2])\n",
    "\n",
    "    if(len(dEta_ECAL)!=0 and len(dPhi_ECAL)!=0): matrix_ECAL[dEta_ECAL,dPhi_ECAL] = energy_ECAL\n",
    "    if(len(dEta_HCAL)!=0 and len(dPhi_HCAL)!=0): matrix_HCAL[dEta_HCAL,dPhi_HCAL] = energy_HCAL\n",
    "\n",
    "    if lepton: events_e.append(np.stack([matrix_ECAL,matrix_HCAL,matrix_mouns],axis = -1))\n",
    "    if background: events_bkg.append(np.stack([matrix_ECAL,matrix_HCAL,matrix_mouns],axis = -1))\n",
    "\n",
    "np.save(workDir+'e_DYJets50_norm_20x20', events_e)\n",
    "np.save(workDir+'bkg_DYJets50_norm_20x20', events_bkg)"
   ]
  },
  {
   "cell_type": "code",
   "execution_count": 22,
   "metadata": {
    "scrolled": true
   },
   "outputs": [
    {
     "ename": "NameError",
     "evalue": "name 'events' is not defined",
     "output_type": "error",
     "traceback": [
      "\u001b[0;31m---------------------------------------------------------------------------\u001b[0m",
      "\u001b[0;31mNameError\u001b[0m                                 Traceback (most recent call last)",
      "\u001b[0;32m<ipython-input-22-1c8648036f19>\u001b[0m in \u001b[0;36m<module>\u001b[0;34m\u001b[0m\n\u001b[1;32m     14\u001b[0m     \u001b[0mplt\u001b[0m\u001b[0;34m.\u001b[0m\u001b[0mshow\u001b[0m\u001b[0;34m(\u001b[0m\u001b[0;34m)\u001b[0m\u001b[0;34m\u001b[0m\u001b[0;34m\u001b[0m\u001b[0m\n\u001b[1;32m     15\u001b[0m \u001b[0;34m\u001b[0m\u001b[0m\n\u001b[0;32m---> 16\u001b[0;31m \u001b[0mplot_event\u001b[0m\u001b[0;34m(\u001b[0m\u001b[0;36m50\u001b[0m\u001b[0;34m)\u001b[0m\u001b[0;34m\u001b[0m\u001b[0;34m\u001b[0m\u001b[0m\n\u001b[0m",
      "\u001b[0;32m<ipython-input-22-1c8648036f19>\u001b[0m in \u001b[0;36mplot_event\u001b[0;34m(eventNum)\u001b[0m\n\u001b[1;32m      1\u001b[0m \u001b[0;32mdef\u001b[0m \u001b[0mplot_event\u001b[0m\u001b[0;34m(\u001b[0m\u001b[0meventNum\u001b[0m\u001b[0;34m)\u001b[0m\u001b[0;34m:\u001b[0m\u001b[0;34m\u001b[0m\u001b[0;34m\u001b[0m\u001b[0m\n\u001b[1;32m      2\u001b[0m \u001b[0;34m\u001b[0m\u001b[0m\n\u001b[0;32m----> 3\u001b[0;31m     \u001b[0mx\u001b[0m \u001b[0;34m=\u001b[0m \u001b[0mevents\u001b[0m\u001b[0;34m[\u001b[0m\u001b[0meventNum\u001b[0m\u001b[0;34m]\u001b[0m\u001b[0;34m\u001b[0m\u001b[0;34m\u001b[0m\u001b[0m\n\u001b[0m\u001b[1;32m      4\u001b[0m \u001b[0;34m\u001b[0m\u001b[0m\n\u001b[1;32m      5\u001b[0m     \u001b[0mfig\u001b[0m\u001b[0;34m,\u001b[0m \u001b[0maxs\u001b[0m \u001b[0;34m=\u001b[0m \u001b[0mplt\u001b[0m\u001b[0;34m.\u001b[0m\u001b[0msubplots\u001b[0m\u001b[0;34m(\u001b[0m\u001b[0;36m1\u001b[0m\u001b[0;34m,\u001b[0m\u001b[0;36m3\u001b[0m\u001b[0;34m,\u001b[0m\u001b[0mfigsize\u001b[0m\u001b[0;34m=\u001b[0m\u001b[0;34m(\u001b[0m\u001b[0;36m10\u001b[0m\u001b[0;34m,\u001b[0m\u001b[0;36m10\u001b[0m\u001b[0;34m)\u001b[0m\u001b[0;34m)\u001b[0m\u001b[0;34m\u001b[0m\u001b[0;34m\u001b[0m\u001b[0m\n",
      "\u001b[0;31mNameError\u001b[0m: name 'events' is not defined"
     ]
    }
   ],
   "source": [
    "def plot_event(eventNum):\n",
    "    \n",
    "    x = events[eventNum]\n",
    "    \n",
    "    fig, axs = plt.subplots(1,3,figsize=(10,10))\n",
    "    \n",
    "    for i in range(3):\n",
    "        axs[i].imshow(x[:,:,i],cmap='gray')\n",
    "    \n",
    "    axs[0].set_title(\"ECAL\")\n",
    "    axs[1].set_title(\"HCAL\")\n",
    "    axs[2].set_title(\"Muon\")\n",
    "    \n",
    "    plt.show()\n",
    "\n",
    "plot_event(50)"
   ]
  },
  {
   "cell_type": "code",
   "execution_count": 14,
   "metadata": {},
   "outputs": [
    {
     "data": {
      "image/png": "[encoded data removed]",
      "text/plain": [
       "<Figure size 720x720 with 12 Axes>"
      ]
     },
     "metadata": {
      "needs_background": "light"
     },
     "output_type": "display_data"
    }
   ],
   "source": [
    "x = events[lep[np.random.randint(0,len(lep))]]\n",
    "y = events[bkg[np.random.randint(0,len(bkg))]]\n",
    "    \n",
    "fig, axs = plt.subplots(4,3,figsize=(10,10))\n",
    "\n",
    "for j in range(4):\n",
    "    if j < 2:\n",
    "        axs[j,0].set_title(\"e - ECAL\")\n",
    "        axs[j,1].set_title(\"e - HCAL\")\n",
    "        axs[j,2].set_title(\"e - Muon\")\n",
    "    else:\n",
    "        axs[j,0].set_title(\"not e- ECAL\")\n",
    "        axs[j,1].set_title(\"not e - HCAL\")\n",
    "        axs[j,2].set_title(\"not e - Muon\")\n",
    "    for i in range(3):\n",
    "        axs[j,i].axis('off')\n",
    "        if j < 2:\n",
    "            axs[j,i].imshow(x[:,:,i],cmap='gray')\n",
    "        else:\n",
    "            axs[j,i].imshow(y[:,:,i],cmap='gray')\n",
    "fig.savefig(\"comp.png\")"
   ]
  },
  {
   "cell_type": "code",
   "execution_count": null,
   "metadata": {},
   "outputs": [],
   "source": []
  }
 ],
 "metadata": {
  "kernelspec": {
   "display_name": "Python 3",
   "language": "python",
   "name": "python3"
  },
  "language_info": {
   "codemirror_mode": {
    "name": "ipython",
    "version": 3
   },
   "file_extension": ".py",
   "mimetype": "text/x-python",
   "name": "python",
   "nbconvert_exporter": "python",
   "pygments_lexer": "ipython3",
   "version": "3.6.9"
  }
 },
 "nbformat": 4,
 "nbformat_minor": 4
}
