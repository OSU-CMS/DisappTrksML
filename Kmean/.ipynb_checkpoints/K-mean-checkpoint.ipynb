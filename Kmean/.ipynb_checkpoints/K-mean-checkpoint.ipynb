{
 "cells": [
  {
   "cell_type": "code",
   "execution_count": null,
   "metadata": {},
   "outputs": [],
   "source": [
    "import numpy as np\n",
    "import ROOT as root\n",
    "import os\n",
    "import matplotlib.pyplot as plt\n",
    "import math\n",
    "import time\n",
    "\n",
    "\n",
    "from sklearn.cluster import KMeans\n",
    "\n",
    "dataDir = '/Users/czkaiweb/Research/DisappTrkMLData/converted/'\n",
    "data_e = np.load(dataDir+'e_DYJets50V3_norm_40x40_nonscaled_tiny.npy')\n",
    "data_bkg = np.load(dataDir+'bkg_DYJets50V3_norm_40x40_nonscaled_tiny.npy')\n",
    "test_e = np.load(dataDir+'e_DYJets50V3_norm_40x40_nonscaled_tinyTest.npy')\n",
    "test_bkg = np.load(dataDir+'bkg_DYJets50V3_norm_40x40_nonscaled_tinyTest.npy')\n",
    "\n",
    "data = np.concatenate((data_e, data_bkg), axis=0)"
   ]
  },
  {
   "cell_type": "code",
   "execution_count": null,
   "metadata": {},
   "outputs": [],
   "source": [
    "def plot_event(x):\n",
    "    \n",
    "    fig, axs = plt.subplots(1,5,figsize=(10,10))\n",
    "    \n",
    "    for i in range(5):\n",
    "        axs[i].imshow(x[i,:,:],cmap='gray')\n",
    "    \n",
    "    axs[0].set_title(\"None\")\n",
    "    axs[1].set_title(\"EE - EB\")\n",
    "    axs[2].set_title(\"ES\")\n",
    "    axs[3].set_title(\"HCAL\")\n",
    "    axs[4].set_title(\"CSC - DT - RPC\")\n",
    "    \n",
    "    plt.show()\n",
    "\n",
    "plot_event(data_e[3])"
   ]
  },
  {
   "cell_type": "code",
   "execution_count": null,
   "metadata": {},
   "outputs": [],
   "source": [
    "def ExpoConv2D(input, parameters = [1.0,1.0]):\n",
    "    if len(parameters) != 2:\n",
    "        raise Exception('Number of parameter should be 2. The size of parameter was: {}'.format(parameters.size))\n",
    "    nX,nY = input.shape\n",
    "    a,b = parameters\n",
    "    result = 0.0\n",
    "    for ix in range(nX):\n",
    "        for iy in range(nY):\n",
    "            distance = math.sqrt( a*a*(ix-(nX+1)/2)*(ix-(nX+1)/2) + b*b*(iy-(nY+1)/2)*(iy-(nY+1)/2))\n",
    "            weight = math.exp(-1.0*distance)\n",
    "            result += input[ix][iy]*weight\n",
    "    return result\n",
    "\n",
    "def KernelConv2D(input, kernal = \"expo\"):\n",
    "    if kernal == \"expo\":\n",
    "        result = ExpoConv2D(input)\n",
    "    return result\n",
    "\n",
    "def ImageConv2D(input):\n",
    "    nEvent,nType,nEta,nPhi = input.shape\n",
    "    result = []\n",
    "    for iEvent in range(nEvent):\n",
    "        charactor = []\n",
    "        for iType in range(nType):\n",
    "            conv = KernelConv2D(input[iEvent][iType])\n",
    "            charactor.append(conv)\n",
    "        result.append(charactor)\n",
    "    return result\n"
   ]
  },
  {
   "cell_type": "code",
   "execution_count": null,
   "metadata": {},
   "outputs": [],
   "source": [
    "CovVector = ImageConv2D(data)"
   ]
  },
  {
   "cell_type": "code",
   "execution_count": null,
   "metadata": {},
   "outputs": [],
   "source": [
    "print type(CovVector)\n",
    "x_train = np.array(CovVector)\n",
    "start = time.time()\n",
    "kmeans = KMeans(n_clusters=4, random_state=0).fit(x_train)\n",
    "end = time.time()\n",
    "print(end - start)\n",
    "print type(kmeans)\n",
    "print kmeans.labels_\n",
    "print kmeans.cluster_centers_"
   ]
  },
  {
   "cell_type": "code",
   "execution_count": null,
   "metadata": {},
   "outputs": [],
   "source": [
    "print data_e.shape\n",
    "print data_bkg.shape\n",
    "\n",
    "start = time.time()\n",
    "\n",
    "x_validate = np.array(ImageConv2D(test_e))\n",
    "predict_e = kmeans.predict(x_validate)\n",
    "\n",
    "\n",
    "x_validate_bkg = np.array(ImageConv2D(test_bkg))\n",
    "predict_bkg = kmeans.predict(x_validate_bkg)\n",
    "\n",
    "end = time.time()\n",
    "print(end - start)\n",
    "\n",
    "\n",
    "print predict_e\n",
    "print predict_bkg"
   ]
  },
  {
   "cell_type": "code",
   "execution_count": null,
   "metadata": {},
   "outputs": [],
   "source": [
    "from collections import Counter\n",
    "c = Counter(predict_e)\n",
    "print [(i, c[i]*1.0/ len(predict_e) * 100.0) for i in c]\n",
    "\n",
    "c = Counter(predict_bkg)\n",
    "print [(i, c[i]*1.0/ len(predict_bkg) * 100.0) for i in c]"
   ]
  },
  {
   "cell_type": "code",
   "execution_count": null,
   "metadata": {},
   "outputs": [],
   "source": []
  }
 ],
 "metadata": {
  "kernelspec": {
   "display_name": "Python 2",
   "language": "python",
   "name": "python2"
  },
  "language_info": {
   "codemirror_mode": {
    "name": "ipython",
    "version": 2
   },
   "file_extension": ".py",
   "mimetype": "text/x-python",
   "name": "python",
   "nbconvert_exporter": "python",
   "pygments_lexer": "ipython2",
   "version": "2.7.16"
  }
 },
 "nbformat": 4,
 "nbformat_minor": 2
}
