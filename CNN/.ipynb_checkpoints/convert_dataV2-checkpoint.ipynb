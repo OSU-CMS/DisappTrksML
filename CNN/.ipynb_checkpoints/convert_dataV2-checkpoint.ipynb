{
 "cells": [
  {
   "cell_type": "code",
   "execution_count": 1,
   "metadata": {},
   "outputs": [
    {
     "name": "stdout",
     "output_type": "stream",
     "text": [
      "Welcome to JupyROOT 6.16/00\n"
     ]
    }
   ],
   "source": [
    "import ROOT as r\n",
    "import numpy as np\n",
    "import os\n",
    "import matplotlib.pyplot as plt\n",
    "\n",
    "dataDir = '/mnt/c/users/llave/Documents/CMS/data/'\n",
    "fname1 = 'orig/images_v2_DYJetsM5to50.root'\n",
    "fname2 = 'orig/images_v2_DYJetsM50.root'\n",
    "fin1 = r.TFile(dataDir + fname1)\n",
    "fin2 = r.TFile(dataDir + fname2)\n",
    "tree1 = fin1.Get('trackImageProducer/tree')\n",
    "tree2 = fin2.Get('trackImageProducer/tree')\n",
    "\n",
    "# dEta -0.5 to 0.5\n",
    "# dPhi -3.5 to 0.5"
   ]
  },
  {
   "cell_type": "code",
   "execution_count": 2,
   "metadata": {},
   "outputs": [
    {
     "data": {
      "text/plain": [
       "1"
      ]
     },
     "execution_count": 2,
     "metadata": {},
     "output_type": "execute_result"
    }
   ],
   "source": [
    "chain = r.TChain(\"trackImageProducer/tree\")\n",
    "chain.Add(dataDir+fname1)\n",
    "chain.Add(dataDir+fname2)"
   ]
  },
  {
   "cell_type": "code",
   "execution_count": 3,
   "metadata": {},
   "outputs": [
    {
     "data": {
      "image/png": "[encoded data removed]",
      "text/plain": [
       "<Figure size 432x288 with 1 Axes>"
      ]
     },
     "metadata": {
      "needs_background": "light"
     },
     "output_type": "display_data"
    }
   ],
   "source": [
    "energies = []\n",
    "for event in chain:\n",
    "    for energy in event.recHits_energy:\n",
    "        energies.append(energy)\n",
    "plt.hist(energies,alpha=0.5,bins=50)\n",
    "plt.yscale('log')"
   ]
  },
  {
   "cell_type": "code",
   "execution_count": 4,
   "metadata": {},
   "outputs": [
    {
     "data": {
      "text/plain": [
       "(array([3.00000e+00, 2.00000e+00, 0.00000e+00, 0.00000e+00, 0.00000e+00,\n",
       "        0.00000e+00, 0.00000e+00, 0.00000e+00, 0.00000e+00, 0.00000e+00,\n",
       "        0.00000e+00, 0.00000e+00, 0.00000e+00, 0.00000e+00, 0.00000e+00,\n",
       "        0.00000e+00, 0.00000e+00, 1.00000e+01, 2.00000e+00, 3.00000e+00,\n",
       "        0.00000e+00, 3.00000e+01, 8.39102e+05, 1.41477e+05, 1.48056e+05,\n",
       "        2.50849e+05, 2.35819e+05, 2.13627e+05, 1.82703e+05, 1.57570e+05,\n",
       "        1.35867e+05, 1.23055e+05, 1.17912e+05, 1.28175e+05, 1.35962e+05,\n",
       "        1.40333e+05, 1.45870e+05, 1.49817e+05, 1.51530e+05, 1.54185e+05,\n",
       "        1.51474e+05, 1.45562e+05, 1.37139e+05, 1.30312e+05, 1.21905e+05,\n",
       "        1.11974e+05, 1.00761e+05, 8.73520e+04, 5.92720e+04, 1.95780e+04]),\n",
       " array([-0.63430547, -0.60563393, -0.57696239, -0.54829086, -0.51961932,\n",
       "        -0.49094778, -0.46227624, -0.4336047 , -0.40493316, -0.37626162,\n",
       "        -0.34759009, -0.31891855, -0.29024701, -0.26157547, -0.23290393,\n",
       "        -0.20423239, -0.17556086, -0.14688932, -0.11821778, -0.08954624,\n",
       "        -0.0608747 , -0.03220316, -0.00353162,  0.02513991,  0.05381145,\n",
       "         0.08248299,  0.11115453,  0.13982607,  0.16849761,  0.19716914,\n",
       "         0.22584068,  0.25451222,  0.28318376,  0.3118553 ,  0.34052684,\n",
       "         0.36919838,  0.39786991,  0.42654145,  0.45521299,  0.48388453,\n",
       "         0.51255607,  0.54122761,  0.56989914,  0.59857068,  0.62724222,\n",
       "         0.65591376,  0.6845853 ,  0.71325684,  0.74192838,  0.77059991,\n",
       "         0.79927145]),\n",
       " <a list of 50 Patch objects>)"
      ]
     },
     "execution_count": 4,
     "metadata": {},
     "output_type": "execute_result"
    },
    {
     "data": {
      "image/png": "[encoded data removed]",
      "text/plain": [
       "<Figure size 432x288 with 1 Axes>"
      ]
     },
     "metadata": {
      "needs_background": "light"
     },
     "output_type": "display_data"
    }
   ],
   "source": [
    "from sklearn import preprocessing\n",
    "newenergies = np.array(energies)\n",
    "newenergies = newenergies.reshape(-1,1)\n",
    "pt = preprocessing.PowerTransformer(method='yeo-johnson', standardize=False)\n",
    "newenergies = pt.fit_transform(newenergies)\n",
    "plt.hist(newenergies,bins=50)\n"
   ]
  },
  {
   "cell_type": "code",
   "execution_count": 5,
   "metadata": {},
   "outputs": [
    {
     "name": "stdout",
     "output_type": "stream",
     "text": [
      "0\n",
      "count 4617288\n"
     ]
    },
    {
     "name": "stderr",
     "output_type": "stream",
     "text": [
      "IOPub data rate exceeded.\n",
      "The notebook server will temporarily stop sending output\n",
      "to the client in order to avoid crashing it.\n",
      "To change this limit, set the config variable\n",
      "`--NotebookApp.iopub_data_rate_limit`.\n",
      "\n",
      "Current values:\n",
      "NotebookApp.iopub_data_rate_limit=1000000.0 (bytes/sec)\n",
      "NotebookApp.rate_limit_window=3.0 (secs)\n",
      "\n"
     ]
    },
    {
     "data": {
      "image/png": "[encoded data removed]",
      "text/plain": [
       "<Figure size 432x288 with 1 Axes>"
      ]
     },
     "metadata": {
      "needs_background": "light"
     },
     "output_type": "display_data"
    }
   ],
   "source": [
    "nenergy = np.array(0)\n",
    "count = 0\n",
    "for i,track in enumerate(chain):\n",
    "    if i % 100000 == 0: print(i)\n",
    "    for j in range(len(track.recHits_energy)):\n",
    "        track.recHits_energy[j] = newenergies[count]\n",
    "        count+=1\n",
    "        chain.Fill()\n",
    "print('count',count)\n",
    "energies = []\n",
    "for event in chain:\n",
    "    for energy in event.recHits_energy:\n",
    "        energies.append(energy)\n",
    "plt.hist(energies,alpha=0.5,bins=50)\n",
    "plt.yscale('log')"
   ]
  },
  {
   "cell_type": "code",
   "execution_count": 6,
   "metadata": {
    "scrolled": true
   },
   "outputs": [],
   "source": [
    "import math\n",
    "\n",
    "e_events,bkg_events = [],[]\n",
    "res_eta = 20\n",
    "res_phi = 20\n",
    "\n",
    "#eta and phi upper and lower bounds\n",
    "eta_ub,eta_lb = 3,-3\n",
    "phi_ub,phi_lb = math.pi,-math.pi\n",
    "\n",
    "def convert_eta(eta):\n",
    "    return int(round(((res_eta-1)/(eta_ub-eta_lb))*(eta-eta_lb)))\n",
    "\n",
    "def convert_phi(phi):\n",
    "    return int(round(((res_phi-1)/(phi_ub-phi_lb))*(phi-phi_lb)))\n",
    "\n",
    "for event in chain:\n",
    "               \n",
    "    matrix = np.zeros([res_eta,res_phi,5])\n",
    "    \n",
    "    for iTrack in range(len(event.track_eta)):\n",
    "               \n",
    "        #truth electrons\n",
    "        if(abs(event.track_genMatchedID[iTrack])!=11) continue\n",
    "               \n",
    "        #electron events where the RECO failed \n",
    "        if(event.track_deltaRToClosestElectron[iTrack] < 0.1 and event.track_deltaRToClosestElectron[iTrack] > -0.1):\n",
    "\n",
    "            for iHit in range(len(event.recHits_eta)):\n",
    "\n",
    "                dEta = event.track_eta[iTrack] - event.recHits_eta[iHit]\n",
    "                dPhi = event.track_phi[iTrack] - event.recHits_phi[iHit]\n",
    "                # branch cut [-pi, pi)\n",
    "                if abs(dPhi) > math.pi:\n",
    "                    dPhi -= round(dPhi / (2. * math.pi)) * 2. * math.pi\n",
    "\n",
    "                if(dPhi > phi_ub or dPhi < phi_lb): continue\n",
    "                if(dEta > eta_ub or dEta < eta_lb): continue\n",
    "\n",
    "                dEta = convert_eta(dEta)\n",
    "                dPhi = convert_phi(dPhi)\n",
    "\n",
    "                matrix[dEta,dPhi,track.recHits_detType[iHit]] = track.recHits_energy[iHit]\n",
    "\n",
    "        \n",
    "        if(abs(event.track_genMatchedDR[iTrack]) < 0.1): e_events.append(matrix)\n",
    "        else: bkg_events.append(matrix)\n",
    "    "
   ]
  },
  {
   "cell_type": "code",
   "execution_count": 8,
   "metadata": {},
   "outputs": [
    {
     "name": "stdout",
     "output_type": "stream",
     "text": [
      "5381 5388\n"
     ]
    }
   ],
   "source": [
    "print(len(e_events),len(bkg_events))\n",
    "np.save(dataDir+'e_DYJets50V2_norm_20x20', e_events)\n",
    "np.save(dataDir+'bkg_DYJets50V2_norm_20x20', bkg_events)"
   ]
  },
  {
   "cell_type": "code",
   "execution_count": null,
   "metadata": {
    "scrolled": true
   },
   "outputs": [],
   "source": [
    "def plot_event(eventNum):\n",
    "    \n",
    "    x = events[eventNum]\n",
    "    \n",
    "    fig, axs = plt.subplots(1,3,figsize=(10,10))\n",
    "    \n",
    "    for i in range(3):\n",
    "        axs[i].imshow(x[:,:,i],cmap='gray')\n",
    "    \n",
    "    axs[0].set_title(\"ECAL\")\n",
    "    axs[1].set_title(\"HCAL\")\n",
    "    axs[2].set_title(\"Muon\")\n",
    "    \n",
    "    plt.show()\n",
    "\n",
    "plot_event(150)"
   ]
  },
  {
   "cell_type": "code",
   "execution_count": null,
   "metadata": {},
   "outputs": [],
   "source": [
    "i=10\n",
    "gen_imgs = events[i:i+4]\n",
    "gen_imgs = np.reshape(gen_imgs,[4,20,20,3])\n",
    "r = 4\n",
    "\n",
    "# Rescale images 0 - 1\n",
    "gen_imgs = 0.5 * gen_imgs + 0.5\n",
    "\n",
    "fig, axs = plt.subplots(r, 3,figsize=(10,10))\n",
    "for i in range(r):\n",
    "    for j in range(3):\n",
    "        axs[i, j].imshow(gen_imgs[i, :, :, j], cmap='gray')\n",
    "        axs[i, j].axis('off')\n",
    "        axs[i,0].set_title(\"ECAL\",fontsize=5)\n",
    "        axs[i,1].set_title(\"HCAL\",fontsize=5)\n",
    "        axs[i,2].set_title(\"Muon\",fontsize=5)\n",
    "plt.tight_layout()\n",
    "plt.savefig('/mnt/c/users/llave/Desktop/real.png')"
   ]
  },
  {
   "cell_type": "code",
   "execution_count": null,
   "metadata": {},
   "outputs": [],
   "source": []
  }
 ],
 "metadata": {
  "kernelspec": {
   "display_name": "Python 3",
   "language": "python",
   "name": "python3"
  },
  "language_info": {
   "codemirror_mode": {
    "name": "ipython",
    "version": 3
   },
   "file_extension": ".py",
   "mimetype": "text/x-python",
   "name": "python",
   "nbconvert_exporter": "python",
   "pygments_lexer": "ipython3",
   "version": "3.6.9"
  }
 },
 "nbformat": 4,
 "nbformat_minor": 4
}
