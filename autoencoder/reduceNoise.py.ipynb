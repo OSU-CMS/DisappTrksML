{
 "cells": [
  {
   "cell_type": "code",
   "execution_count": 79,
   "metadata": {},
   "outputs": [],
   "source": [
    "import numpy as np\n",
    "import matplotlib.pyplot as plt\n",
    "from keras.layers import Input, Dense, Conv2D, MaxPooling2D, UpSampling2D, Conv2DTranspose\n",
    "from keras.models import Model, Sequential\n",
    "from keras import optimizers\n",
    "from keras.optimizers import Adam\n",
    "from sklearn.model_selection import train_test_split\n",
    "from keras.preprocessing import image\n",
    "import scipy\n",
    "import keras\n",
    "import sys"
   ]
  },
  {
   "cell_type": "code",
   "execution_count": 103,
   "metadata": {},
   "outputs": [
    {
     "name": "stdout",
     "output_type": "stream",
     "text": [
      "(7935, 'Number of samples')\n",
      "(7935, 40, 40, 3)\n",
      "(7935, 3)\n",
      "('Training Samples', 6744)\n",
      "('Validation Samples', 595)\n",
      "('Test Samples', 596)\n",
      "(6744, 40, 40, 3)\n",
      "6744\n"
     ]
    }
   ],
   "source": [
    "#get arguments 1=ecal, 2=hcal, 3=muons\n",
    "#if(len(sys.argv) < 2): print(\"need to specify which part of detector to train\")\n",
    "#else: det = int(sys.argv[1])\n",
    "det = 3\n",
    "\n",
    "#set epochs, batch size\n",
    "num_epochs = 50\n",
    "batches = 16\n",
    "\n",
    "#set directories\n",
    "workDir = \"/Users/michaelcarrigan/Desktop/DisTracks/autoencoder/\"\n",
    "saveDir = workDir\n",
    "dataDir = \"/Users/michaelcarrigan/Desktop/DisTracks/data/\"\n",
    "\n",
    "#load data\n",
    "data_e = np.load(dataDir+ \"e_DYJets50_norm_40x40.npy\")\n",
    "data_bkg = np.load(dataDir + \"bkg_DYJets50_norm_40x40.npy\")\n",
    "data = data_e\n",
    "data = data[:, :, :, [0,2,3]]\n",
    "data_bkg = data_bkg[:, :, :, [0,2,3]]\n",
    "data_bkg = np.reshape(data_bkg, (-1, 40, 40, 3))\n",
    "classes = np.array([np.ones(len(data_e)), np.ones(len(data_e)), np.ones(len(data_e))])\n",
    "classes = np.reshape(classes, (len(data_e), 3))\n",
    "\n",
    "#shuffle data\n",
    "indicies = np.arange(data.shape[0])\n",
    "np.random.shuffle(indicies)\n",
    "data = data[indicies]\n",
    "print(data.shape[0], \"Number of samples\")\n",
    "print(np.shape(data))\n",
    "print(np.shape(classes))\n",
    "\n",
    "x_train, x_val, y_train, y_val = train_test_split(data, classes, test_size=0.15, random_state=0)\n",
    "x_val, x_test, y_val, y_test = train_test_split(x_val, y_val, test_size = 0.5, random_state=0)\n",
    "\n",
    "print(\"Training Samples\", x_train.shape[0])\n",
    "print(\"Validation Samples\", x_val.shape[0])\n",
    "print(\"Test Samples\", x_test.shape[0])\n",
    "\n",
    "y_train = keras.utils.to_categorical(y_train, 2)\n",
    "y_test = keras.utils.to_categorical(y_test, 2)\n",
    "y_val = keras.utils.to_categorical(y_val, 2)\n",
    "\n",
    "#x_train = x_train.astype('float32')\n",
    "#x_test = x_test.astype('float32')\n",
    "#x_val = x_val.astype('float32')\n",
    "\n",
    "x_train = np.reshape(x_train, (-1, 40, 40, 3))\n",
    "x_val = np.reshape(x_val, (-1, 40, 40, 3))\n",
    "x_test = np.reshape(x_test, (-1, 40, 40, 3))\n",
    "\n",
    "print(x_train.shape)\n",
    "print(x_train.shape[0])"
   ]
  },
  {
   "cell_type": "code",
   "execution_count": 106,
   "metadata": {},
   "outputs": [
    {
     "name": "stdout",
     "output_type": "stream",
     "text": [
      "(6744, 40, 40, 3)\n",
      "5638\n",
      "2487\n",
      "5984\n",
      "5708\n",
      "1698\n"
     ]
    },
    {
     "data": {
      "image/png": "[encoded data removed]",
      "text/plain": [
       "<Figure size 1440x720 with 10 Axes>"
      ]
     },
     "metadata": {
      "needs_background": "light"
     },
     "output_type": "display_data"
    }
   ],
   "source": [
    "def noisyData(data_e, data_bkg):\n",
    "    evts = len(data_e)\n",
    "    noise = np.random.randint(0, len(data_bkg), evts)\n",
    "    data_bkg = data_bkg[noise]\n",
    "    #print(len(data_bkg))\n",
    "    data_noise = np.copy(data_e)\n",
    "    for i in range(len(data_e)):\n",
    "        \n",
    "        index = np.random.randint(0, len(data_bkg))\n",
    "        norm_bkgE = np.linalg.norm(data_bkg[i, :, :, 0])\n",
    "        norm_bkgH = np.linalg.norm(data_bkg[i, :, :, 1])\n",
    "        norm_bkgM = np.linalg.norm(data_bkg[i, :, :, 2])\n",
    "        if(norm_bkgE != 0): \n",
    "            norm_E = np.linalg.norm(data_e[i, :, :, 0])\n",
    "            data_bkg[i, :, :, 0] = data_bkg[i, :, :, 0] * norm_E/norm_bkgE\n",
    "        if(norm_bkgH != 0):\n",
    "            norm_H = np.linalg.norm(data_e[i, :, :, 1])\n",
    "            data_bkg[i, :, :, 1] = data_bkg[i, :, :, 1] * norm_H/norm_bkgH\n",
    "        if(norm_bkgM != 0):\n",
    "            norm_M  = np.linalg.norm(data_e[i, :, :, 2])\n",
    "            data_bkg[i, :, :, 2] = data_bkg[i, :, :, 2] * norm_M/norm_bkgM\n",
    "        data_noise[i, :, :, 0] = np.add(data_e[i, :, :, 0], data_bkg[i, :, :, 0])\n",
    "        data_noise[i, :, :, 1] = np.add(data_e[i, :, :, 1], data_bkg[i, :, :, 1])\n",
    "        data_noise[i, :, :, 2] = np.add(data_e[i, :, :, 2], data_bkg[i, :, :, 2])\n",
    "    #norm_noise = np.linalg.norm(data_noise)\n",
    "    #data_noise = data_noise * (norm_e/norm_noise)\n",
    "    return data_noise\n",
    "\n",
    "noisyTrain = noisyData(x_train, data_bkg)\n",
    "noisyVal = noisyData(x_val, data_bkg)\n",
    "#noisyTest = noisyData(x_test, data_bkg)\n",
    "\n",
    "print(noisyTrain.shape)\n",
    "\n",
    "layer=1\n",
    "fig1, plot1 = plt.subplots(2,5, figsize=(20,10))\n",
    "for i in range(5):\n",
    "    rand = np.random.randint(0, len(noisyTrain))\n",
    "    print(rand)\n",
    "    plot1[0, i].imshow(x_train[rand, :, :, layer])\n",
    "    plot1[1, i].imshow(noisyTrain[rand, :, :, layer])\n"
   ]
  },
  {
   "cell_type": "code",
   "execution_count": 107,
   "metadata": {},
   "outputs": [],
   "source": [
    "img = Input(shape = (40,40,3))\n",
    "ae = Conv2D(32, (3,3), activation = 'relu', padding = 'same')(img)\n",
    "#ae = MaxPooling2D((2,2), padding = 'same')(ae)\n",
    "#encoded = Conv2D(32, (3,3), strides = (2,2), activation = 'relu', padding = 'same')(ae)\n",
    "#ae = Conv2D(32, (3,3), activation = 'relu', padding = \"same\")(ae)\n",
    "encoded = MaxPooling2D((2,2), padding = 'same')(ae)\n",
    "#encoded = Conv2D(16, (3,3), strides = (2,2), activation = 'relu', padding = 'same')(ae)\n",
    "\n",
    "ae = Conv2D(32, (3,3), activation = 'relu', padding = 'same')(encoded)\n",
    "#ae = Conv2DTranspose(32, (3,3), activation = 'relu', strides = (2,2), padding = 'same')(ae)\n",
    "ae = UpSampling2D((2,2))(ae)\n",
    "#ae = Conv2D(64, (3,3), activation = 'relu', padding = 'same')(ae)\n",
    "#ae = UpSampling2D((2,2))(ae)\n",
    "#ae = Conv2DTranspose(128, (3,3), strides = (2,2), activation = 'relu', padding = 'same')(ae)\n",
    "decoded = Conv2D(3, (3,3), activation = 'sigmoid', padding = 'same')(ae)\n"
   ]
  },
  {
   "cell_type": "code",
   "execution_count": 108,
   "metadata": {},
   "outputs": [
    {
     "name": "stdout",
     "output_type": "stream",
     "text": [
      "Train on 6744 samples, validate on 595 samples\n",
      "Epoch 1/50\n",
      "6744/6744 [==============================] - 32s 5ms/step - loss: 0.0396 - val_loss: 0.0177\n",
      "Epoch 2/50\n",
      "6744/6744 [==============================] - 33s 5ms/step - loss: 0.0159 - val_loss: 0.0141\n",
      "Epoch 3/50\n",
      "6744/6744 [==============================] - 28s 4ms/step - loss: 0.0134 - val_loss: 0.0127\n",
      "Epoch 4/50\n",
      "6744/6744 [==============================] - 30s 4ms/step - loss: 0.0123 - val_loss: 0.0118\n",
      "Epoch 5/50\n",
      "6744/6744 [==============================] - 27s 4ms/step - loss: 0.0116 - val_loss: 0.0113\n",
      "Epoch 6/50\n",
      "6744/6744 [==============================] - 30s 4ms/step - loss: 0.0111 - val_loss: 0.0108\n",
      "Epoch 7/50\n",
      "6744/6744 [==============================] - 37s 6ms/step - loss: 0.0107 - val_loss: 0.0104\n",
      "Epoch 8/50\n",
      "6744/6744 [==============================] - 35s 5ms/step - loss: 0.0103 - val_loss: 0.0101\n",
      "Epoch 9/50\n",
      "6744/6744 [==============================] - 32s 5ms/step - loss: 0.0101 - val_loss: 0.0099\n",
      "Epoch 10/50\n",
      "6744/6744 [==============================] - 35s 5ms/step - loss: 0.0099 - val_loss: 0.0097\n",
      "Epoch 11/50\n",
      "6744/6744 [==============================] - 30s 4ms/step - loss: 0.0097 - val_loss: 0.0096\n",
      "Epoch 12/50\n",
      "6744/6744 [==============================] - 31s 5ms/step - loss: 0.0095 - val_loss: 0.0094\n",
      "Epoch 13/50\n",
      "6744/6744 [==============================] - 36s 5ms/step - loss: 0.0094 - val_loss: 0.0093\n",
      "Epoch 14/50\n",
      "6744/6744 [==============================] - 27s 4ms/step - loss: 0.0093 - val_loss: 0.0092\n",
      "Epoch 15/50\n",
      "6744/6744 [==============================] - 29s 4ms/step - loss: 0.0092 - val_loss: 0.0091\n",
      "Epoch 16/50\n",
      "6744/6744 [==============================] - 28s 4ms/step - loss: 0.0091 - val_loss: 0.0090\n",
      "Epoch 17/50\n",
      "6744/6744 [==============================] - 27s 4ms/step - loss: 0.0091 - val_loss: 0.0090\n",
      "Epoch 18/50\n",
      "6744/6744 [==============================] - 26s 4ms/step - loss: 0.0090 - val_loss: 0.0089\n",
      "Epoch 19/50\n",
      "6744/6744 [==============================] - 26s 4ms/step - loss: 0.0089 - val_loss: 0.0088\n",
      "Epoch 20/50\n",
      "6744/6744 [==============================] - 32s 5ms/step - loss: 0.0089 - val_loss: 0.0088\n",
      "Epoch 21/50\n",
      "6744/6744 [==============================] - 41s 6ms/step - loss: 0.0088 - val_loss: 0.0087\n",
      "Epoch 22/50\n",
      "6744/6744 [==============================] - 29s 4ms/step - loss: 0.0088 - val_loss: 0.0087\n",
      "Epoch 23/50\n",
      "6744/6744 [==============================] - 30s 4ms/step - loss: 0.0087 - val_loss: 0.0086\n",
      "Epoch 24/50\n",
      "6744/6744 [==============================] - 28s 4ms/step - loss: 0.0087 - val_loss: 0.0086\n",
      "Epoch 25/50\n",
      "6744/6744 [==============================] - 34s 5ms/step - loss: 0.0086 - val_loss: 0.0085\n",
      "Epoch 26/50\n",
      "6744/6744 [==============================] - 34s 5ms/step - loss: 0.0086 - val_loss: 0.0085\n",
      "Epoch 27/50\n",
      "6744/6744 [==============================] - 31s 5ms/step - loss: 0.0086 - val_loss: 0.0085\n",
      "Epoch 28/50\n",
      "6744/6744 [==============================] - 30s 4ms/step - loss: 0.0085 - val_loss: 0.0084\n",
      "Epoch 29/50\n",
      "6744/6744 [==============================] - 30s 4ms/step - loss: 0.0085 - val_loss: 0.0084\n",
      "Epoch 30/50\n",
      "6744/6744 [==============================] - 30s 4ms/step - loss: 0.0085 - val_loss: 0.0084\n",
      "Epoch 31/50\n",
      "6744/6744 [==============================] - 33s 5ms/step - loss: 0.0084 - val_loss: 0.0083\n",
      "Epoch 32/50\n",
      "6744/6744 [==============================] - 33s 5ms/step - loss: 0.0084 - val_loss: 0.0083\n",
      "Epoch 33/50\n",
      "6744/6744 [==============================] - 32s 5ms/step - loss: 0.0084 - val_loss: 0.0083\n",
      "Epoch 34/50\n",
      "6744/6744 [==============================] - 31s 5ms/step - loss: 0.0084 - val_loss: 0.0082\n",
      "Epoch 35/50\n",
      "6744/6744 [==============================] - 33s 5ms/step - loss: 0.0083 - val_loss: 0.0082\n",
      "Epoch 36/50\n",
      "6744/6744 [==============================] - 33s 5ms/step - loss: 0.0083 - val_loss: 0.0082\n",
      "Epoch 37/50\n",
      "6744/6744 [==============================] - 32s 5ms/step - loss: 0.0083 - val_loss: 0.0082\n",
      "Epoch 38/50\n",
      "6744/6744 [==============================] - 31s 5ms/step - loss: 0.0083 - val_loss: 0.0082\n",
      "Epoch 39/50\n",
      "6744/6744 [==============================] - 31s 5ms/step - loss: 0.0082 - val_loss: 0.0081\n",
      "Epoch 40/50\n",
      "6744/6744 [==============================] - 31s 5ms/step - loss: 0.0082 - val_loss: 0.0081\n",
      "Epoch 41/50\n",
      "6744/6744 [==============================] - 30s 4ms/step - loss: 0.0082 - val_loss: 0.0081\n",
      "Epoch 42/50\n",
      "6744/6744 [==============================] - 33s 5ms/step - loss: 0.0082 - val_loss: 0.0081\n",
      "Epoch 43/50\n",
      "6744/6744 [==============================] - 31s 5ms/step - loss: 0.0082 - val_loss: 0.0081\n",
      "Epoch 44/50\n",
      "6744/6744 [==============================] - 31s 5ms/step - loss: 0.0081 - val_loss: 0.0080\n",
      "Epoch 45/50\n",
      "6744/6744 [==============================] - 31s 5ms/step - loss: 0.0081 - val_loss: 0.0080\n",
      "Epoch 46/50\n",
      "6744/6744 [==============================] - 32s 5ms/step - loss: 0.0081 - val_loss: 0.0080\n",
      "Epoch 47/50\n",
      "6744/6744 [==============================] - 30s 4ms/step - loss: 0.0081 - val_loss: 0.0080\n",
      "Epoch 48/50\n",
      "6744/6744 [==============================] - 31s 5ms/step - loss: 0.0081 - val_loss: 0.0080\n",
      "Epoch 49/50\n",
      "6744/6744 [==============================] - 33s 5ms/step - loss: 0.0081 - val_loss: 0.0080\n",
      "Epoch 50/50\n",
      "6744/6744 [==============================] - 32s 5ms/step - loss: 0.0081 - val_loss: 0.0079\n"
     ]
    },
    {
     "data": {
      "text/plain": [
       "<keras.callbacks.callbacks.History at 0x1c0f66350>"
      ]
     },
     "execution_count": 108,
     "metadata": {},
     "output_type": "execute_result"
    }
   ],
   "source": [
    "autoencoder = Model(img, decoded)\n",
    "autoencoder.compile(optimizer='adadelta', loss='binary_crossentropy')\n",
    "autoencoder.fit(noisyTrain, x_train, epochs = num_epochs, batch_size = batches, shuffle=True, validation_data = (noisyVal, x_val))"
   ]
  },
  {
   "cell_type": "code",
   "execution_count": 114,
   "metadata": {},
   "outputs": [
    {
     "data": {
      "image/png": "[encoded data removed]",
      "text/plain": [
       "<Figure size 1440x720 with 6 Axes>"
      ]
     },
     "metadata": {
      "needs_background": "light"
     },
     "output_type": "display_data"
    }
   ],
   "source": [
    "decoded_img = autoencoder.predict(x_test)\n",
    "fig, h = plt.subplots(2,3, figsize=(20,10))\n",
    "index = np.random.randint(len(x_test[0]))\n",
    "for i in range(3):\n",
    "    this_orig = x_test[index, :, :, i]\n",
    "    this_clean = decoded_img[index, :, :, i]\n",
    "    h[0, i].imshow(this_orig)\n",
    "    h[1, i].imshow(this_clean)\n",
    "    "
   ]
  },
  {
   "cell_type": "code",
   "execution_count": null,
   "metadata": {},
   "outputs": [],
   "source": []
  }
 ],
 "metadata": {
  "kernelspec": {
   "display_name": "Python 2",
   "language": "python",
   "name": "python2"
  },
  "language_info": {
   "codemirror_mode": {
    "name": "ipython",
    "version": 2
   },
   "file_extension": ".py",
   "mimetype": "text/x-python",
   "name": "python",
   "nbconvert_exporter": "python",
   "pygments_lexer": "ipython2",
   "version": "2.7.16"
  }
 },
 "nbformat": 4,
 "nbformat_minor": 2
}
