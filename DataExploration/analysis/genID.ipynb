{
 "cells": [
  {
   "cell_type": "code",
   "execution_count": 25,
   "metadata": {},
   "outputs": [],
   "source": [
    "import os\n",
    "import tensorflow as tf\n",
    "from tensorflow import keras\n",
    "import numpy as np\n",
    "import matplotlib\n",
    "import matplotlib.pyplot as plt\n",
    "import json\n",
    "import math\n",
    "\n",
    "dataDir = \"c:/Users/llave/Documents/CMS/data/electron_selection_failSelection_compressed/\""
   ]
  },
  {
   "cell_type": "code",
   "execution_count": 26,
   "metadata": {},
   "outputs": [
    {
     "name": "stdout",
     "output_type": "stream",
     "text": [
      "500\n",
      "1000\n"
     ]
    }
   ],
   "source": [
    "ids = []\n",
    "noMatch = 0\n",
    "nFiles = 0\n",
    "genDRs = []\n",
    "for file in os.listdir(dataDir):\n",
    "    if(\"bkg_0p25\"in file and \".npz\" in file):\n",
    "        \n",
    "        # load images from file\n",
    "        temp = np.load(dataDir+file)\n",
    "        if(len(temp['infos'])>0): infos = temp['infos']\n",
    "        \n",
    "        for info in infos:\n",
    "            genID = info[9]\n",
    "            genDR = info[10]\n",
    "            genDRs.append(genDR)\n",
    "            if(abs(genDR)<0.1): ids.append(genID)\n",
    "            else: noMatch+=1\n",
    "                \n",
    "        nFiles+=1\n",
    "        if(nFiles%500==0): print(nFiles)\n",
    "        if(nFiles==1000): break"
   ]
  },
  {
   "cell_type": "code",
   "execution_count": 27,
   "metadata": {},
   "outputs": [
    {
     "data": {
      "text/plain": [
       "(array([9.08000e+03, 0.00000e+00, 0.00000e+00, 0.00000e+00, 1.61957e+05,\n",
       "        1.10320e+04, 3.87100e+03, 7.72600e+03, 9.77700e+03, 1.14480e+04,\n",
       "        1.32030e+04, 1.52520e+04, 1.60910e+04, 1.52830e+04, 1.39630e+04,\n",
       "        1.27200e+04, 1.14200e+04, 1.06410e+04, 1.01770e+04, 9.70800e+03,\n",
       "        8.80600e+03, 7.97400e+03, 7.41400e+03, 6.85700e+03, 6.18400e+03,\n",
       "        5.77200e+03, 5.17600e+03, 4.70300e+03, 4.13600e+03, 3.74200e+03,\n",
       "        3.01600e+03, 2.53000e+03, 1.93900e+03, 1.46000e+03, 1.05300e+03,\n",
       "        7.19000e+02, 4.45000e+02, 2.92000e+02, 1.70000e+02, 1.27000e+02,\n",
       "        1.09000e+02, 8.70000e+01, 4.20000e+01, 4.40000e+01, 3.40000e+01,\n",
       "        2.00000e+01, 1.00000e+01, 9.00000e+00, 3.00000e+00, 3.00000e+00]),\n",
       " array([-1.        , -0.79406531, -0.58813062, -0.38219594, -0.17626125,\n",
       "         0.02967344,  0.23560813,  0.44154281,  0.6474775 ,  0.85341219,\n",
       "         1.05934688,  1.26528157,  1.47121625,  1.67715094,  1.88308563,\n",
       "         2.08902032,  2.29495501,  2.50088969,  2.70682438,  2.91275907,\n",
       "         3.11869376,  3.32462844,  3.53056313,  3.73649782,  3.94243251,\n",
       "         4.1483672 ,  4.35430188,  4.56023657,  4.76617126,  4.97210595,\n",
       "         5.17804063,  5.38397532,  5.58991001,  5.7958447 ,  6.00177939,\n",
       "         6.20771407,  6.41364876,  6.61958345,  6.82551814,  7.03145283,\n",
       "         7.23738751,  7.4433222 ,  7.64925689,  7.85519158,  8.06112626,\n",
       "         8.26706095,  8.47299564,  8.67893033,  8.88486502,  9.0907997 ,\n",
       "         9.29673439]),\n",
       " <a list of 50 Patch objects>)"
      ]
     },
     "execution_count": 27,
     "metadata": {},
     "output_type": "execute_result"
    },
    {
     "data": {
      "image/png": "[encoded data removed]",
      "text/plain": [
       "<Figure size 432x288 with 1 Axes>"
      ]
     },
     "metadata": {
      "needs_background": "light"
     },
     "output_type": "display_data"
    }
   ],
   "source": [
    "%matplotlib inline \n",
    "plt.hist(genDRs,bins=50)"
   ]
  },
  {
   "cell_type": "code",
   "execution_count": 28,
   "metadata": {},
   "outputs": [
    {
     "name": "stdout",
     "output_type": "stream",
     "text": [
      "169726 246499\n"
     ]
    }
   ],
   "source": [
    "print(len(ids),noMatch)"
   ]
  },
  {
   "cell_type": "code",
   "execution_count": 29,
   "metadata": {},
   "outputs": [],
   "source": [
    "ids = [int(x) for x in ids]\n",
    "uniqueIDs = []\n",
    "countIDs = []\n",
    "for ID in ids:\n",
    "    if ID not in uniqueIDs: \n",
    "        uniqueIDs.append(ID)\n",
    "        countIDs.append(0)\n",
    "    countIDs[uniqueIDs.index(ID)]+=1"
   ]
  },
  {
   "cell_type": "code",
   "execution_count": 30,
   "metadata": {},
   "outputs": [
    {
     "name": "stdout",
     "output_type": "stream",
     "text": [
      "ID:\t\tCount:\n",
      "13| \t\t81848|-\n",
      "-13| \t\t82851|-\n",
      "-211| \t\t2018|-\n",
      "211| \t\t2052|-\n",
      "3312| \t\t8|-\n",
      "22| \t\t252|-\n",
      "-321| \t\t149|-\n",
      "-16| \t\t123|-\n",
      "16| \t\t128|-\n",
      "-3312| \t\t3|-\n",
      "321| \t\t135|-\n",
      "-14| \t\t40|-\n",
      "3222| \t\t11|-\n",
      "-3112| \t\t6|-\n",
      "14| \t\t32|-\n",
      "-2212| \t\t6|-\n",
      "-3222| \t\t6|-\n",
      "2112| \t\t7|-\n",
      "2212| \t\t19|-\n",
      "3112| \t\t9|-\n",
      "-12| \t\t8|-\n",
      "-2112| \t\t4|-\n",
      "3322| \t\t1|-\n",
      "12| \t\t7|-\n",
      "-3122| \t\t1|-\n",
      "3122| \t\t2|-\n"
     ]
    }
   ],
   "source": [
    "print(\"ID:\\t\\tCount:\")\n",
    "for ID, count in zip(uniqueIDs, countIDs):\n",
    "    print(str(ID)+\"| \\t\\t\"+str(count)+ \"|-\")"
   ]
  },
  {
   "cell_type": "code",
   "execution_count": 8,
   "metadata": {},
   "outputs": [
    {
     "data": {
      "text/plain": [
       "(array([2.6559e+04, 2.2740e+03, 6.4800e+02, 2.6600e+02, 1.3100e+02,\n",
       "        8.5000e+01, 8.4000e+01, 5.9000e+01, 4.2000e+01, 2.9000e+01,\n",
       "        3.6000e+01, 2.4000e+01, 1.9000e+01, 2.4000e+01, 1.1000e+01,\n",
       "        8.0000e+00, 1.1000e+01, 1.1000e+01, 1.0000e+01, 1.4000e+01,\n",
       "        1.1000e+01, 1.5000e+01, 1.1000e+01, 8.0000e+00, 1.2000e+01,\n",
       "        5.0000e+00, 7.0000e+00, 1.0000e+01, 1.3000e+01, 1.3000e+01,\n",
       "        9.0000e+00, 1.0000e+01, 4.0000e+00, 8.0000e+00, 7.0000e+00,\n",
       "        6.0000e+00, 1.2000e+01, 7.0000e+00, 6.0000e+00, 1.0000e+01,\n",
       "        9.0000e+00, 9.0000e+00, 9.0000e+00, 6.0000e+00, 4.0000e+00,\n",
       "        1.0000e+01, 4.0000e+00, 5.0000e+00, 1.1000e+01, 1.0000e+01]),\n",
       " array([7.06988537e-07, 2.00035518e-03, 4.00000338e-03, 5.99965157e-03,\n",
       "        7.99929977e-03, 9.99894796e-03, 1.19985962e-02, 1.39982444e-02,\n",
       "        1.59978925e-02, 1.79975407e-02, 1.99971889e-02, 2.19968371e-02,\n",
       "        2.39964853e-02, 2.59961335e-02, 2.79957817e-02, 2.99954299e-02,\n",
       "        3.19950781e-02, 3.39947263e-02, 3.59943745e-02, 3.79940227e-02,\n",
       "        3.99936709e-02, 4.19933191e-02, 4.39929673e-02, 4.59926155e-02,\n",
       "        4.79922637e-02, 4.99919119e-02, 5.19915600e-02, 5.39912082e-02,\n",
       "        5.59908564e-02, 5.79905046e-02, 5.99901528e-02, 6.19898010e-02,\n",
       "        6.39894492e-02, 6.59890974e-02, 6.79887456e-02, 6.99883938e-02,\n",
       "        7.19880420e-02, 7.39876902e-02, 7.59873384e-02, 7.79869866e-02,\n",
       "        7.99866348e-02, 8.19862830e-02, 8.39859312e-02, 8.59855794e-02,\n",
       "        8.79852275e-02, 8.99848757e-02, 9.19845239e-02, 9.39841721e-02,\n",
       "        9.59838203e-02, 9.79834685e-02, 9.99831167e-02]),\n",
       " <a list of 50 Patch objects>)"
      ]
     },
     "execution_count": 8,
     "metadata": {},
     "output_type": "execute_result"
    },
    {
     "data": {
      "image/png": "[encoded data removed]",
      "text/plain": [
       "<Figure size 432x288 with 1 Axes>"
      ]
     },
     "metadata": {
      "needs_background": "light"
     },
     "output_type": "display_data"
    }
   ],
   "source": [
    "plt.hist(genDRs, bins=50)"
   ]
  },
  {
   "cell_type": "code",
   "execution_count": null,
   "metadata": {},
   "outputs": [],
   "source": []
  }
 ],
 "metadata": {
  "kernelspec": {
   "display_name": "Python 3",
   "language": "python",
   "name": "python3"
  },
  "language_info": {
   "codemirror_mode": {
    "name": "ipython",
    "version": 3
   },
   "file_extension": ".py",
   "mimetype": "text/x-python",
   "name": "python",
   "nbconvert_exporter": "python",
   "pygments_lexer": "ipython3",
   "version": "3.9.1"
  }
 },
 "nbformat": 4,
 "nbformat_minor": 4
}
