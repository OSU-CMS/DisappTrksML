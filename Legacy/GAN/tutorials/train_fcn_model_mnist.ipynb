{
 "cells": [
  {
   "cell_type": "markdown",
   "metadata": {},
   "source": [
    "# Get the MNIST data\n",
    "Get the data using the keras loading function, then process it so it is ready for our fully connected network (FCN)."
   ]
  },
  {
   "cell_type": "markdown",
   "metadata": {},
   "source": [
    "# Errors?\n",
    "Check to see that the **kernel** is correct (Python 6.6/Conda 5.2).\n"
   ]
  },
  {
   "cell_type": "code",
   "execution_count": 1,
   "metadata": {},
   "outputs": [
    {
     "name": "stderr",
     "output_type": "stream",
     "text": [
      "Using TensorFlow backend.\n"
     ]
    },
    {
     "name": "stdout",
     "output_type": "stream",
     "text": [
      "Train info (60000, 28, 28) (60000,)\n",
      "Test info (10000, 28, 28) (10000,)\n"
     ]
    }
   ],
   "source": [
    "from keras.datasets import mnist\n",
    "(train_images, train_labels), (test_images, test_labels) = mnist.load_data()\n",
    "\n",
    "short = False\n",
    "if short:\n",
    "    train_images = train_images[:7000,:]\n",
    "    train_labels = train_labels[:7000]\n",
    "    test_images = test_images[:3000,:]\n",
    "    test_labels = test_labels[:3000]\n",
    "#\n",
    "print(\"Train info\",train_images.shape, train_labels.shape)\n",
    "print(\"Test info\",test_images.shape, test_labels.shape)\n",
    "train_images = train_images.reshape((train_images.shape[0],28*28))\n",
    "train_images = train_images.astype('float32')/255\n",
    "\n",
    "test_images = test_images.reshape((test_images.shape[0],28*28))\n",
    "test_images = test_images.astype('float32')/255\n",
    "from keras.utils import to_categorical\n",
    "\n",
    "train_labels_cat = to_categorical(train_labels)\n",
    "test_labels_cat = to_categorical(test_labels)\n"
   ]
  },
  {
   "cell_type": "markdown",
   "metadata": {},
   "source": [
    "# Build the FCN and train it\n",
    "We will build a simple 1-hidden-layer network.   We will use 400 hidden nodes since that was close to optimal based on our earlier studies.   We will then save the network for later use."
   ]
  },
  {
   "cell_type": "code",
   "execution_count": 2,
   "metadata": {},
   "outputs": [
    {
     "name": "stdout",
     "output_type": "stream",
     "text": [
      "WARNING:tensorflow:From /users/PAS1585/llavez99/.local/lib/python3.6/site-packages/keras/backend/tensorflow_backend.py:422: The name tf.global_variables is deprecated. Please use tf.compat.v1.global_variables instead.\n",
      "\n",
      "Train on 60000 samples, validate on 10000 samples\n",
      "Epoch 1/15\n",
      "60000/60000 [==============================] - 2s 38us/step - loss: 0.3313 - accuracy: 0.9042 - val_loss: 0.2151 - val_accuracy: 0.9348\n",
      "Epoch 2/15\n",
      "60000/60000 [==============================] - 2s 32us/step - loss: 0.1782 - accuracy: 0.9480 - val_loss: 0.1512 - val_accuracy: 0.9574\n",
      "Epoch 3/15\n",
      "60000/60000 [==============================] - 2s 32us/step - loss: 0.1207 - accuracy: 0.9654 - val_loss: 0.1172 - val_accuracy: 0.9636\n",
      "Epoch 4/15\n",
      "60000/60000 [==============================] - 2s 32us/step - loss: 0.0899 - accuracy: 0.9743 - val_loss: 0.0960 - val_accuracy: 0.9707\n",
      "Epoch 5/15\n",
      "60000/60000 [==============================] - 2s 32us/step - loss: 0.0682 - accuracy: 0.9805 - val_loss: 0.0810 - val_accuracy: 0.9740\n",
      "Epoch 6/15\n",
      "60000/60000 [==============================] - 2s 32us/step - loss: 0.0526 - accuracy: 0.9850 - val_loss: 0.0821 - val_accuracy: 0.9742\n",
      "Epoch 7/15\n",
      "60000/60000 [==============================] - 2s 32us/step - loss: 0.0416 - accuracy: 0.9883 - val_loss: 0.0718 - val_accuracy: 0.9780\n",
      "Epoch 8/15\n",
      "60000/60000 [==============================] - 2s 32us/step - loss: 0.0323 - accuracy: 0.9911 - val_loss: 0.0683 - val_accuracy: 0.9790\n",
      "Epoch 9/15\n",
      "60000/60000 [==============================] - 2s 32us/step - loss: 0.0248 - accuracy: 0.9939 - val_loss: 0.0675 - val_accuracy: 0.9792\n",
      "Epoch 10/15\n",
      "60000/60000 [==============================] - 2s 32us/step - loss: 0.0198 - accuracy: 0.9951 - val_loss: 0.0627 - val_accuracy: 0.9811\n",
      "Epoch 11/15\n",
      "60000/60000 [==============================] - 2s 32us/step - loss: 0.0149 - accuracy: 0.9972 - val_loss: 0.0659 - val_accuracy: 0.9795\n",
      "Epoch 12/15\n",
      "60000/60000 [==============================] - 2s 32us/step - loss: 0.0119 - accuracy: 0.9978 - val_loss: 0.0657 - val_accuracy: 0.9803\n",
      "Epoch 13/15\n",
      "60000/60000 [==============================] - 2s 32us/step - loss: 0.0087 - accuracy: 0.9987 - val_loss: 0.0677 - val_accuracy: 0.9792\n",
      "Epoch 14/15\n",
      "60000/60000 [==============================] - 2s 32us/step - loss: 0.0078 - accuracy: 0.9987 - val_loss: 0.0671 - val_accuracy: 0.9798\n",
      "Epoch 15/15\n",
      "60000/60000 [==============================] - 2s 32us/step - loss: 0.0059 - accuracy: 0.9993 - val_loss: 0.0623 - val_accuracy: 0.9824\n"
     ]
    }
   ],
   "source": [
    "from keras import models\n",
    "from keras import layers\n",
    "\n",
    "network = models.Sequential()\n",
    "network.add(layers.Dense(400,activation='tanh',input_shape=(28*28,)))\n",
    "network.add(layers.Dense(10,activation='softmax'))\n",
    "network.compile(optimizer='adam',loss='categorical_crossentropy',metrics=['accuracy'])\n",
    "#\n",
    "history = network.fit(train_images,train_labels_cat,epochs=15,batch_size=128,validation_data=(test_images,test_labels_cat))\n",
    "network.save('fully_trained_model_fcn.h5')"
   ]
  },
  {
   "cell_type": "markdown",
   "metadata": {},
   "source": [
    "# Finish\n",
    "The performance on the standard test set is around 98% which is pretty good!"
   ]
  },
  {
   "cell_type": "code",
   "execution_count": 3,
   "metadata": {},
   "outputs": [],
   "source": [
    "predictions = network.predict(test_images)"
   ]
  },
  {
   "cell_type": "code",
   "execution_count": 5,
   "metadata": {},
   "outputs": [
    {
     "name": "stdout",
     "output_type": "stream",
     "text": [
      "True:  0\t 974\t 1\t 1\t 0\t 0\t 1\t 1\t 1\t 1\t 0\n",
      "True:  1\t 1\t 1125\t 2\t 1\t 0\t 1\t 2\t 1\t 2\t 0\n",
      "True:  2\t 3\t 0\t 1012\t 2\t 1\t 0\t 2\t 3\t 8\t 1\n",
      "True:  3\t 0\t 0\t 4\t 989\t 0\t 4\t 0\t 4\t 3\t 6\n",
      "True:  4\t 1\t 0\t 2\t 1\t 961\t 0\t 4\t 2\t 1\t 10\n",
      "True:  5\t 2\t 0\t 0\t 9\t 1\t 875\t 2\t 1\t 1\t 1\n",
      "True:  6\t 5\t 2\t 1\t 1\t 1\t 7\t 940\t 0\t 1\t 0\n",
      "True:  7\t 0\t 1\t 6\t 2\t 1\t 1\t 0\t 1009\t 3\t 5\n",
      "True:  8\t 1\t 0\t 2\t 3\t 2\t 5\t 1\t 2\t 954\t 4\n",
      "True:  9\t 3\t 2\t 0\t 4\t 6\t 5\t 0\t 3\t 1\t 985\n",
      "\n"
     ]
    }
   ],
   "source": [
    "from collections import defaultdict\n",
    "from functools import partial\n",
    "from itertools import repeat\n",
    "def nested_defaultdict(default_factory, depth=1):\n",
    "    result = partial(defaultdict, default_factory)\n",
    "    for _ in repeat(None, depth - 1):\n",
    "        result = partial(defaultdict, result)\n",
    "    return result()\n",
    "\n",
    "confusion_matrix = nested_defaultdict(int,2)\n",
    "\n",
    "correct_certainty = []\n",
    "notcorrect_certainty = []\n",
    "\n",
    "import numpy as np\n",
    "\n",
    "for true,pred in zip(test_labels_cat, predictions):\n",
    "    if np.argmax(true) == np.argmax(pred):\n",
    "        confusion_matrix[np.argmax(true)][np.argmax(pred)] += 1\n",
    "        correct_certainty.append(pred[np.argmax(pred)])\n",
    "    else:\n",
    "        confusion_matrix[np.argmax(true)][np.argmax(pred)] += 1\n",
    "        notcorrect_certainty.append(pred[np.argmax(pred)])\n",
    "        \n",
    "        \n",
    "for i in range(10):\n",
    "    print(\"True: \",i,end=\"\")\n",
    "    for j in range(10):\n",
    "        print(\"\\t\",confusion_matrix[i][j],end=\"\")\n",
    "    print()\n",
    "print()"
   ]
  }
 ],
 "metadata": {
  "kernelspec": {
   "display_name": "Python 3.6 (Conda 5.2) [python/3.6-conda5.2]",
   "language": "python",
   "name": "sys_python36conda"
  },
  "language_info": {
   "codemirror_mode": {
    "name": "ipython",
    "version": 3
   },
   "file_extension": ".py",
   "mimetype": "text/x-python",
   "name": "python",
   "nbconvert_exporter": "python",
   "pygments_lexer": "ipython3",
   "version": "3.6.6"
  }
 },
 "nbformat": 4,
 "nbformat_minor": 2
}
